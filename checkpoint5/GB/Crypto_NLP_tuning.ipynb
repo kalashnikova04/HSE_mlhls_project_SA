{
  "nbformat": 4,
  "nbformat_minor": 0,
  "metadata": {
    "colab": {
      "provenance": []
    },
    "kernelspec": {
      "name": "python3",
      "display_name": "Python 3"
    },
    "language_info": {
      "name": "python"
    },
    "accelerator": "GPU",
    "gpuClass": "standard"
  },
  "cells": [
    {
      "cell_type": "code",
      "execution_count": 2,
      "metadata": {
        "colab": {
          "base_uri": "https://localhost:8080/"
        },
        "id": "C9e8t3DFlIxm",
        "outputId": "0097326e-5070-4446-fd57-1e8d79b91c00"
      },
      "outputs": [
        {
          "output_type": "stream",
          "name": "stdout",
          "text": [
            "Looking in indexes: https://pypi.org/simple, https://us-python.pkg.dev/colab-wheels/public/simple/\n",
            "Collecting optuna\n",
            "  Downloading optuna-3.1.0-py3-none-any.whl (365 kB)\n",
            "\u001b[2K     \u001b[90m━━━━━━━━━━━━━━━━━━━━━━━━━━━━━━━━━━━━━━━\u001b[0m \u001b[32m365.3/365.3 KB\u001b[0m \u001b[31m5.1 MB/s\u001b[0m eta \u001b[36m0:00:00\u001b[0m\n",
            "\u001b[?25hCollecting catboost\n",
            "  Downloading catboost-1.1.1-cp38-none-manylinux1_x86_64.whl (76.6 MB)\n",
            "\u001b[2K     \u001b[90m━━━━━━━━━━━━━━━━━━━━━━━━━━━━━━━━━━━━━━━━\u001b[0m \u001b[32m76.6/76.6 MB\u001b[0m \u001b[31m14.4 MB/s\u001b[0m eta \u001b[36m0:00:00\u001b[0m\n",
            "\u001b[?25hRequirement already satisfied: PyYAML in /usr/local/lib/python3.8/dist-packages (from optuna) (6.0)\n",
            "Collecting cmaes>=0.9.1\n",
            "  Downloading cmaes-0.9.1-py3-none-any.whl (21 kB)\n",
            "Requirement already satisfied: packaging>=20.0 in /usr/local/lib/python3.8/dist-packages (from optuna) (23.0)\n",
            "Collecting alembic>=1.5.0\n",
            "  Downloading alembic-1.9.4-py3-none-any.whl (210 kB)\n",
            "\u001b[2K     \u001b[90m━━━━━━━━━━━━━━━━━━━━━━━━━━━━━━━━━━━━━━\u001b[0m \u001b[32m210.5/210.5 KB\u001b[0m \u001b[31m25.9 MB/s\u001b[0m eta \u001b[36m0:00:00\u001b[0m\n",
            "\u001b[?25hRequirement already satisfied: tqdm in /usr/local/lib/python3.8/dist-packages (from optuna) (4.64.1)\n",
            "Requirement already satisfied: sqlalchemy>=1.3.0 in /usr/local/lib/python3.8/dist-packages (from optuna) (1.4.46)\n",
            "Requirement already satisfied: numpy in /usr/local/lib/python3.8/dist-packages (from optuna) (1.22.4)\n",
            "Collecting colorlog\n",
            "  Downloading colorlog-6.7.0-py2.py3-none-any.whl (11 kB)\n",
            "Requirement already satisfied: plotly in /usr/local/lib/python3.8/dist-packages (from catboost) (5.5.0)\n",
            "Requirement already satisfied: matplotlib in /usr/local/lib/python3.8/dist-packages (from catboost) (3.5.3)\n",
            "Requirement already satisfied: graphviz in /usr/local/lib/python3.8/dist-packages (from catboost) (0.10.1)\n",
            "Requirement already satisfied: pandas>=0.24.0 in /usr/local/lib/python3.8/dist-packages (from catboost) (1.3.5)\n",
            "Requirement already satisfied: six in /usr/local/lib/python3.8/dist-packages (from catboost) (1.15.0)\n",
            "Requirement already satisfied: scipy in /usr/local/lib/python3.8/dist-packages (from catboost) (1.7.3)\n",
            "Requirement already satisfied: importlib-metadata in /usr/local/lib/python3.8/dist-packages (from alembic>=1.5.0->optuna) (6.0.0)\n",
            "Requirement already satisfied: importlib-resources in /usr/local/lib/python3.8/dist-packages (from alembic>=1.5.0->optuna) (5.12.0)\n",
            "Collecting Mako\n",
            "  Downloading Mako-1.2.4-py3-none-any.whl (78 kB)\n",
            "\u001b[2K     \u001b[90m━━━━━━━━━━━━━━━━━━━━━━━━━━━━━━━━━━━━━━━━\u001b[0m \u001b[32m78.7/78.7 KB\u001b[0m \u001b[31m10.3 MB/s\u001b[0m eta \u001b[36m0:00:00\u001b[0m\n",
            "\u001b[?25hRequirement already satisfied: pytz>=2017.3 in /usr/local/lib/python3.8/dist-packages (from pandas>=0.24.0->catboost) (2022.7.1)\n",
            "Requirement already satisfied: python-dateutil>=2.7.3 in /usr/local/lib/python3.8/dist-packages (from pandas>=0.24.0->catboost) (2.8.2)\n",
            "Requirement already satisfied: greenlet!=0.4.17 in /usr/local/lib/python3.8/dist-packages (from sqlalchemy>=1.3.0->optuna) (2.0.2)\n",
            "Requirement already satisfied: cycler>=0.10 in /usr/local/lib/python3.8/dist-packages (from matplotlib->catboost) (0.11.0)\n",
            "Requirement already satisfied: pyparsing>=2.2.1 in /usr/local/lib/python3.8/dist-packages (from matplotlib->catboost) (3.0.9)\n",
            "Requirement already satisfied: pillow>=6.2.0 in /usr/local/lib/python3.8/dist-packages (from matplotlib->catboost) (8.4.0)\n",
            "Requirement already satisfied: kiwisolver>=1.0.1 in /usr/local/lib/python3.8/dist-packages (from matplotlib->catboost) (1.4.4)\n",
            "Requirement already satisfied: fonttools>=4.22.0 in /usr/local/lib/python3.8/dist-packages (from matplotlib->catboost) (4.38.0)\n",
            "Requirement already satisfied: tenacity>=6.2.0 in /usr/local/lib/python3.8/dist-packages (from plotly->catboost) (8.2.1)\n",
            "Requirement already satisfied: zipp>=0.5 in /usr/local/lib/python3.8/dist-packages (from importlib-metadata->alembic>=1.5.0->optuna) (3.14.0)\n",
            "Requirement already satisfied: MarkupSafe>=0.9.2 in /usr/local/lib/python3.8/dist-packages (from Mako->alembic>=1.5.0->optuna) (2.0.1)\n",
            "Installing collected packages: Mako, colorlog, cmaes, alembic, optuna, catboost\n",
            "Successfully installed Mako-1.2.4 alembic-1.9.4 catboost-1.1.1 cmaes-0.9.1 colorlog-6.7.0 optuna-3.1.0\n"
          ]
        }
      ],
      "source": [
        "pip install optuna catboost"
      ]
    },
    {
      "cell_type": "code",
      "source": [
        "import pandas as pd\n",
        "import numpy as np\n",
        "import random\n",
        "import seaborn as sns\n",
        "import optuna\n",
        "import matplotlib.pyplot as plt\n",
        "%matplotlib inline\n",
        "\n",
        "\n",
        "from sklearn.model_selection import train_test_split\n",
        "from catboost import CatBoostClassifier, Pool\n",
        "from sklearn.metrics import f1_score\n",
        "\n",
        "np.random.seed(42)\n",
        "random.seed(42)"
      ],
      "metadata": {
        "id": "OPfe6JQ0miO2"
      },
      "execution_count": 3,
      "outputs": []
    },
    {
      "cell_type": "markdown",
      "source": [
        "Поскольку побить бустинг другими алгоритмами не удалось, решили в течение этого чекпоинта поработать над способами векторизации текста. Кажется, это тот аспект, который может позволить нам прирасти в качестве модели. В остальном пайплайн остается тот же: поддержка GPU катбустом позволяет достаточно хорошо тюнить модель на всём корпусе прибегая к помощи оптюны. "
      ],
      "metadata": {
        "id": "fYCziDH9l0PC"
      }
    },
    {
      "cell_type": "markdown",
      "source": [
        "На прошлой итерации я уже пытался потюнить бустинг и в итоге пришёл к тому, что векторизация сырого текста под капотом работает значительно быстрее из-за GPU, а в качестве не уступает в ручную предобработанному тексту даже при базовых настройках работы с текстом. Поэтому планирую попробовать различные доступные способы векторизации чтобы улучшить модель. Подробнее: https://catboost.ai/en/docs/concepts/algorithm-main-stages_text-to-numeric\n",
        "  "
      ],
      "metadata": {
        "id": "OG7jwyBnm7qx"
      }
    },
    {
      "cell_type": "markdown",
      "source": [
        "Наиболее интересно попробовать использовать наивного Байеса и BM25 вместо дефолтных настроек"
      ],
      "metadata": {
        "id": "V1J3uNGKo_Ln"
      }
    },
    {
      "cell_type": "markdown",
      "source": [
        "![Снимок экрана 2023-02-28 в 00.49.45.png](data:image/png;base64,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)"
      ],
      "metadata": {
        "id": "DboMIf8noBse"
      }
    },
    {
      "cell_type": "code",
      "source": [
        "df_train = pd.read_csv('train.csv', index_col=0) \n",
        "df_test = pd.read_csv('test.csv', index_col=0) "
      ],
      "metadata": {
        "id": "oP3c33OXoBeB"
      },
      "execution_count": 15,
      "outputs": []
    },
    {
      "cell_type": "code",
      "source": [
        "df_train"
      ],
      "metadata": {
        "colab": {
          "base_uri": "https://localhost:8080/",
          "height": 424
        },
        "id": "8E3aaeQcry7j",
        "outputId": "e84dc702-8ab3-47a4-85d6-4c875b6e1536"
      },
      "execution_count": 16,
      "outputs": [
        {
          "output_type": "execute_result",
          "data": {
            "text/plain": [
              "                                                      text  label  \\\n",
              "12704     why don’t trade your btc to earn weekly rathe...      1   \n",
              "1199027   i’ll be honest, i didn’t see it sinking this ...      1   \n",
              "858781           -x needs to break 38 to hit 4 no shit lol      1   \n",
              "972002                    it's gonna be an all nighter ha?      1   \n",
              "1281138                    y’all should just come to cro.x      2   \n",
              "...                                                    ...    ...   \n",
              "275576             •which way, western man? btc vs. cbdc.       1   \n",
              "121751    i love converting random micro denominations ...      1   \n",
              "336428   finally figured out to be greedy when those ar...      2   \n",
              "243449                 didn’t you say your going to bed ??      2   \n",
              "1025907  you’re gonna wanna be here when the beast awakens      2   \n",
              "\n",
              "                                           text_lemmatized  \n",
              "12704    ['dont', 'trade', 'btc', 'earn', 'weekly', 'ra...  \n",
              "1199027  ['ill', 'honest', 'didnt', 'see', 'sinking', '...  \n",
              "858781        ['x', 'need', 'break', 'hit', 'shit', 'lol']  \n",
              "972002                      ['gon', 'na', 'nighter', 'ha']  \n",
              "1281138                           ['yall', 'come', 'crox']  \n",
              "...                                                    ...  \n",
              "275576       ['way', 'western', 'man', 'btc', 'v', 'cbdc']  \n",
              "121751   ['love', 'converting', 'random', 'micro', 'den...  \n",
              "336428   ['finally', 'figured', 'greedy', 'fearful', 'f...  \n",
              "243449                    ['didnt', 'say', 'going', 'bed']  \n",
              "1025907  ['youre', 'gon', 'na', 'wan', 'na', 'beast', '...  \n",
              "\n",
              "[928801 rows x 3 columns]"
            ],
            "text/html": [
              "\n",
              "  <div id=\"df-b7cb6ee7-b504-4b24-959e-a3feb1aeb4ee\">\n",
              "    <div class=\"colab-df-container\">\n",
              "      <div>\n",
              "<style scoped>\n",
              "    .dataframe tbody tr th:only-of-type {\n",
              "        vertical-align: middle;\n",
              "    }\n",
              "\n",
              "    .dataframe tbody tr th {\n",
              "        vertical-align: top;\n",
              "    }\n",
              "\n",
              "    .dataframe thead th {\n",
              "        text-align: right;\n",
              "    }\n",
              "</style>\n",
              "<table border=\"1\" class=\"dataframe\">\n",
              "  <thead>\n",
              "    <tr style=\"text-align: right;\">\n",
              "      <th></th>\n",
              "      <th>text</th>\n",
              "      <th>label</th>\n",
              "      <th>text_lemmatized</th>\n",
              "    </tr>\n",
              "  </thead>\n",
              "  <tbody>\n",
              "    <tr>\n",
              "      <th>12704</th>\n",
              "      <td>why don’t trade your btc to earn weekly rathe...</td>\n",
              "      <td>1</td>\n",
              "      <td>['dont', 'trade', 'btc', 'earn', 'weekly', 'ra...</td>\n",
              "    </tr>\n",
              "    <tr>\n",
              "      <th>1199027</th>\n",
              "      <td>i’ll be honest, i didn’t see it sinking this ...</td>\n",
              "      <td>1</td>\n",
              "      <td>['ill', 'honest', 'didnt', 'see', 'sinking', '...</td>\n",
              "    </tr>\n",
              "    <tr>\n",
              "      <th>858781</th>\n",
              "      <td>-x needs to break 38 to hit 4 no shit lol</td>\n",
              "      <td>1</td>\n",
              "      <td>['x', 'need', 'break', 'hit', 'shit', 'lol']</td>\n",
              "    </tr>\n",
              "    <tr>\n",
              "      <th>972002</th>\n",
              "      <td>it's gonna be an all nighter ha?</td>\n",
              "      <td>1</td>\n",
              "      <td>['gon', 'na', 'nighter', 'ha']</td>\n",
              "    </tr>\n",
              "    <tr>\n",
              "      <th>1281138</th>\n",
              "      <td>y’all should just come to cro.x</td>\n",
              "      <td>2</td>\n",
              "      <td>['yall', 'come', 'crox']</td>\n",
              "    </tr>\n",
              "    <tr>\n",
              "      <th>...</th>\n",
              "      <td>...</td>\n",
              "      <td>...</td>\n",
              "      <td>...</td>\n",
              "    </tr>\n",
              "    <tr>\n",
              "      <th>275576</th>\n",
              "      <td>•which way, western man? btc vs. cbdc.</td>\n",
              "      <td>1</td>\n",
              "      <td>['way', 'western', 'man', 'btc', 'v', 'cbdc']</td>\n",
              "    </tr>\n",
              "    <tr>\n",
              "      <th>121751</th>\n",
              "      <td>i love converting random micro denominations ...</td>\n",
              "      <td>1</td>\n",
              "      <td>['love', 'converting', 'random', 'micro', 'den...</td>\n",
              "    </tr>\n",
              "    <tr>\n",
              "      <th>336428</th>\n",
              "      <td>finally figured out to be greedy when those ar...</td>\n",
              "      <td>2</td>\n",
              "      <td>['finally', 'figured', 'greedy', 'fearful', 'f...</td>\n",
              "    </tr>\n",
              "    <tr>\n",
              "      <th>243449</th>\n",
              "      <td>didn’t you say your going to bed ??</td>\n",
              "      <td>2</td>\n",
              "      <td>['didnt', 'say', 'going', 'bed']</td>\n",
              "    </tr>\n",
              "    <tr>\n",
              "      <th>1025907</th>\n",
              "      <td>you’re gonna wanna be here when the beast awakens</td>\n",
              "      <td>2</td>\n",
              "      <td>['youre', 'gon', 'na', 'wan', 'na', 'beast', '...</td>\n",
              "    </tr>\n",
              "  </tbody>\n",
              "</table>\n",
              "<p>928801 rows × 3 columns</p>\n",
              "</div>\n",
              "      <button class=\"colab-df-convert\" onclick=\"convertToInteractive('df-b7cb6ee7-b504-4b24-959e-a3feb1aeb4ee')\"\n",
              "              title=\"Convert this dataframe to an interactive table.\"\n",
              "              style=\"display:none;\">\n",
              "        \n",
              "  <svg xmlns=\"http://www.w3.org/2000/svg\" height=\"24px\"viewBox=\"0 0 24 24\"\n",
              "       width=\"24px\">\n",
              "    <path d=\"M0 0h24v24H0V0z\" fill=\"none\"/>\n",
              "    <path d=\"M18.56 5.44l.94 2.06.94-2.06 2.06-.94-2.06-.94-.94-2.06-.94 2.06-2.06.94zm-11 1L8.5 8.5l.94-2.06 2.06-.94-2.06-.94L8.5 2.5l-.94 2.06-2.06.94zm10 10l.94 2.06.94-2.06 2.06-.94-2.06-.94-.94-2.06-.94 2.06-2.06.94z\"/><path d=\"M17.41 7.96l-1.37-1.37c-.4-.4-.92-.59-1.43-.59-.52 0-1.04.2-1.43.59L10.3 9.45l-7.72 7.72c-.78.78-.78 2.05 0 2.83L4 21.41c.39.39.9.59 1.41.59.51 0 1.02-.2 1.41-.59l7.78-7.78 2.81-2.81c.8-.78.8-2.07 0-2.86zM5.41 20L4 18.59l7.72-7.72 1.47 1.35L5.41 20z\"/>\n",
              "  </svg>\n",
              "      </button>\n",
              "      \n",
              "  <style>\n",
              "    .colab-df-container {\n",
              "      display:flex;\n",
              "      flex-wrap:wrap;\n",
              "      gap: 12px;\n",
              "    }\n",
              "\n",
              "    .colab-df-convert {\n",
              "      background-color: #E8F0FE;\n",
              "      border: none;\n",
              "      border-radius: 50%;\n",
              "      cursor: pointer;\n",
              "      display: none;\n",
              "      fill: #1967D2;\n",
              "      height: 32px;\n",
              "      padding: 0 0 0 0;\n",
              "      width: 32px;\n",
              "    }\n",
              "\n",
              "    .colab-df-convert:hover {\n",
              "      background-color: #E2EBFA;\n",
              "      box-shadow: 0px 1px 2px rgba(60, 64, 67, 0.3), 0px 1px 3px 1px rgba(60, 64, 67, 0.15);\n",
              "      fill: #174EA6;\n",
              "    }\n",
              "\n",
              "    [theme=dark] .colab-df-convert {\n",
              "      background-color: #3B4455;\n",
              "      fill: #D2E3FC;\n",
              "    }\n",
              "\n",
              "    [theme=dark] .colab-df-convert:hover {\n",
              "      background-color: #434B5C;\n",
              "      box-shadow: 0px 1px 3px 1px rgba(0, 0, 0, 0.15);\n",
              "      filter: drop-shadow(0px 1px 2px rgba(0, 0, 0, 0.3));\n",
              "      fill: #FFFFFF;\n",
              "    }\n",
              "  </style>\n",
              "\n",
              "      <script>\n",
              "        const buttonEl =\n",
              "          document.querySelector('#df-b7cb6ee7-b504-4b24-959e-a3feb1aeb4ee button.colab-df-convert');\n",
              "        buttonEl.style.display =\n",
              "          google.colab.kernel.accessAllowed ? 'block' : 'none';\n",
              "\n",
              "        async function convertToInteractive(key) {\n",
              "          const element = document.querySelector('#df-b7cb6ee7-b504-4b24-959e-a3feb1aeb4ee');\n",
              "          const dataTable =\n",
              "            await google.colab.kernel.invokeFunction('convertToInteractive',\n",
              "                                                     [key], {});\n",
              "          if (!dataTable) return;\n",
              "\n",
              "          const docLinkHtml = 'Like what you see? Visit the ' +\n",
              "            '<a target=\"_blank\" href=https://colab.research.google.com/notebooks/data_table.ipynb>data table notebook</a>'\n",
              "            + ' to learn more about interactive tables.';\n",
              "          element.innerHTML = '';\n",
              "          dataTable['output_type'] = 'display_data';\n",
              "          await google.colab.output.renderOutput(dataTable, element);\n",
              "          const docLink = document.createElement('div');\n",
              "          docLink.innerHTML = docLinkHtml;\n",
              "          element.appendChild(docLink);\n",
              "        }\n",
              "      </script>\n",
              "    </div>\n",
              "  </div>\n",
              "  "
            ]
          },
          "metadata": {},
          "execution_count": 16
        }
      ]
    },
    {
      "cell_type": "code",
      "source": [
        "X_train, X_val, y_train, y_val = train_test_split(df_train[['text']],\n",
        "                                                    df_train['label'],\n",
        "                                                    test_size=0.3)"
      ],
      "metadata": {
        "id": "YzsAr9mIndjf"
      },
      "execution_count": 18,
      "outputs": []
    },
    {
      "cell_type": "code",
      "source": [
        "df_train.info()"
      ],
      "metadata": {
        "colab": {
          "base_uri": "https://localhost:8080/"
        },
        "id": "TwtRSwzQvh42",
        "outputId": "59c39555-78ea-4494-bc33-e23bbdc29c4c"
      },
      "execution_count": 17,
      "outputs": [
        {
          "output_type": "stream",
          "name": "stdout",
          "text": [
            "<class 'pandas.core.frame.DataFrame'>\n",
            "Int64Index: 928801 entries, 12704 to 1025907\n",
            "Data columns (total 3 columns):\n",
            " #   Column           Non-Null Count   Dtype \n",
            "---  ------           --------------   ----- \n",
            " 0   text             928801 non-null  object\n",
            " 1   label            928801 non-null  int64 \n",
            " 2   text_lemmatized  928801 non-null  object\n",
            "dtypes: int64(1), object(2)\n",
            "memory usage: 28.3+ MB\n"
          ]
        }
      ]
    },
    {
      "cell_type": "code",
      "source": [
        "X_test = df_test[['text']]\n",
        "y_test = df_test['label']"
      ],
      "metadata": {
        "id": "1eJ6Z8_wpoQP"
      },
      "execution_count": 19,
      "outputs": []
    },
    {
      "cell_type": "code",
      "source": [
        "text_features = ['text']"
      ],
      "metadata": {
        "id": "LlGFSpuzpoo2"
      },
      "execution_count": 20,
      "outputs": []
    },
    {
      "cell_type": "code",
      "source": [
        "train_pool = Pool(\n",
        "        X_train, \n",
        "        y_train, \n",
        "        text_features=text_features,\n",
        "        feature_names=text_features\n",
        "    )\n",
        "valid_pool = Pool(\n",
        "        X_val, \n",
        "        y_val, \n",
        "        text_features=text_features,\n",
        "        feature_names=text_features\n",
        "    )"
      ],
      "metadata": {
        "id": "krlDwpuKpo1G"
      },
      "execution_count": 21,
      "outputs": []
    },
    {
      "cell_type": "code",
      "source": [
        "def objective(trial):\n",
        "\n",
        "    catboost_params = {\n",
        "        \"loss_function\": 'MultiClass',\n",
        "        \"iterations\": trial.suggest_int(\"iterations\", 500, 1500),\n",
        "        \"depth\": trial.suggest_int(\"depth\", 2, 6),\n",
        "        \"min_data_in_leaf\": trial.suggest_int(\"min_data_in_leaf\", 0, 1000),\n",
        "        \"learning_rate\": trial.suggest_float(\"learning_rate\", 0.01, 0.1),\n",
        "        'task_type': 'GPU',\n",
        "        'early_stopping_rounds': trial.suggest_int(\"early_stopping_rounds\", 100, 1000),\n",
        "        'eval_metric': 'TotalF1:average=Macro',\n",
        "        'verbose': 300\n",
        "    }\n",
        "\n",
        "\n",
        "    model = CatBoostClassifier(**catboost_params) \n",
        "    model.fit(train_pool, eval_set=valid_pool)\n",
        "    preds = model.predict(X_val)\n",
        "    f1 = f1_score(y_val, preds, average='macro')\n",
        "\n",
        "    return f1"
      ],
      "metadata": {
        "id": "NaGITuyYppDK"
      },
      "execution_count": 24,
      "outputs": []
    },
    {
      "cell_type": "code",
      "source": [
        "study = optuna.create_study(direction=\"maximize\")\n",
        "study.optimize(objective, n_trials=15, timeout=60)"
      ],
      "metadata": {
        "colab": {
          "base_uri": "https://localhost:8080/"
        },
        "id": "fKpWmwGcpptX",
        "outputId": "ffb0c50c-8f96-43fe-90a8-4b9f0ef7456b"
      },
      "execution_count": 25,
      "outputs": [
        {
          "output_type": "stream",
          "name": "stderr",
          "text": [
            "\u001b[32m[I 2023-02-27 21:30:18,135]\u001b[0m A new study created in memory with name: no-name-69025d98-78cb-4d29-ad1a-4dcec591692d\u001b[0m\n"
          ]
        },
        {
          "output_type": "stream",
          "name": "stdout",
          "text": [
            "0:\tlearn: 0.4602172\ttest: 0.4727239\tbest: 0.4727239 (0)\ttotal: 70.4ms\tremaining: 1m 3s\n",
            "bestTest = 0.472723918\n",
            "bestIteration = 0\n",
            "Shrink model to first 1 iterations.\n"
          ]
        },
        {
          "output_type": "stream",
          "name": "stderr",
          "text": [
            "\u001b[32m[I 2023-02-27 21:30:45,527]\u001b[0m Trial 0 finished with value: 0.47272391804302943 and parameters: {'iterations': 899, 'depth': 6, 'min_data_in_leaf': 660, 'learning_rate': 0.020588654394115426, 'early_stopping_rounds': 173}. Best is trial 0 with value: 0.47272391804302943.\u001b[0m\n"
          ]
        },
        {
          "output_type": "stream",
          "name": "stdout",
          "text": [
            "0:\tlearn: 0.4602172\ttest: 0.4727239\tbest: 0.4727239 (0)\ttotal: 70.8ms\tremaining: 1m 15s\n",
            "300:\tlearn: 0.4662343\ttest: 0.4791988\tbest: 0.4791988 (300)\ttotal: 11.9s\tremaining: 30.4s\n",
            "600:\tlearn: 0.4704379\ttest: 0.4830925\tbest: 0.4830925 (600)\ttotal: 22.1s\tremaining: 17.2s\n",
            "900:\tlearn: 0.4726126\ttest: 0.4848087\tbest: 0.4849143 (893)\ttotal: 34.6s\tremaining: 6.45s\n",
            "1068:\tlearn: 0.4736444\ttest: 0.4854409\tbest: 0.4854409 (1068)\ttotal: 41.6s\tremaining: 0us\n",
            "bestTest = 0.4854409378\n",
            "bestIteration = 1068\n"
          ]
        },
        {
          "output_type": "stream",
          "name": "stderr",
          "text": [
            "\u001b[32m[I 2023-02-27 21:31:52,429]\u001b[0m Trial 1 finished with value: 0.48544093779900704 and parameters: {'iterations': 1069, 'depth': 6, 'min_data_in_leaf': 273, 'learning_rate': 0.03233661695729228, 'early_stopping_rounds': 457}. Best is trial 1 with value: 0.48544093779900704.\u001b[0m\n"
          ]
        }
      ]
    },
    {
      "cell_type": "markdown",
      "source": [
        "В качестве ключевой метрики исопльзуем macro f1. Базовая модель даёт ~0.485. Попробуем превзойти это значение"
      ],
      "metadata": {
        "id": "uloJ_UNqv6sH"
      }
    },
    {
      "cell_type": "markdown",
      "source": [
        "Попробуем добавить униграммы, биграммы и приведение к нижнему регистру. Словарь ограничим 50к словами, а минимальное вхождение слова положим равным 10. (Всё это условно и при большом желании можно позаниматься микротюнингом и пошатать и эти границы)"
      ],
      "metadata": {
        "id": "a3nQeYv7xYRP"
      }
    },
    {
      "cell_type": "code",
      "source": [
        "def objective_custom_1(trial):\n",
        "\n",
        "    catboost_params = {\n",
        "        \"loss_function\": 'MultiClass',\n",
        "        \"iterations\": trial.suggest_int(\"iterations\", 1000, 3000),\n",
        "        \"depth\": trial.suggest_int(\"depth\", 2, 12),\n",
        "        \"min_data_in_leaf\": trial.suggest_int(\"min_data_in_leaf\", 0, 1000),\n",
        "        \"learning_rate\": trial.suggest_float(\"learning_rate\", 0.01, 0.1),\n",
        "        'task_type': 'GPU',\n",
        "        'early_stopping_rounds': trial.suggest_int(\"early_stopping_rounds\", 100, 1000),\n",
        "        'eval_metric': 'TotalF1:average=Macro',\n",
        "        'verbose': 300\n",
        "    }\n",
        "    text_processing = {\n",
        "        \"tokenizers\" : [{\n",
        "            \"tokenizer_id\" : \"Space\",\n",
        "            \"separator_type\" : \"ByDelimiter\",\n",
        "            \"lowercasing\": \"True\",\n",
        "            \"delimiter\" : \" \"\n",
        "        }],\n",
        "    \n",
        "        \"dictionaries\" : [{\n",
        "            \"dictionary_id\" : \"BiGram\",\n",
        "            \"max_dictionary_size\" : \"50000\",\n",
        "            \"occurrence_lower_bound\" : \"10\",\n",
        "            \"gram_order\" : \"2\"\n",
        "        }, {\n",
        "            \"dictionary_id\" : \"Word\",\n",
        "            \"max_dictionary_size\" : \"50000\",\n",
        "            \"occurrence_lower_bound\" : \"10\",\n",
        "            \"gram_order\" : \"1\"\n",
        "        }],\n",
        "    }\n",
        "\n",
        "\n",
        "    model = CatBoostClassifier(**catboost_params, text_processing=text_processing) \n",
        "    model.fit(train_pool, eval_set=valid_pool)\n",
        "    preds = model.predict(X_val)\n",
        "    f1 = f1_score(y_val, preds, average='macro')\n",
        "\n",
        "    return f1"
      ],
      "metadata": {
        "id": "ZqzFjeMqpp6u"
      },
      "execution_count": 32,
      "outputs": []
    },
    {
      "cell_type": "code",
      "source": [
        "study = optuna.create_study(direction=\"maximize\")\n",
        "study.optimize(objective_custom_1, n_trials=15, timeout=60)"
      ],
      "metadata": {
        "colab": {
          "base_uri": "https://localhost:8080/"
        },
        "id": "0QaZlffKpqVI",
        "outputId": "d32e40fc-b308-4451-c39c-7ec643a85e48"
      },
      "execution_count": 33,
      "outputs": [
        {
          "output_type": "stream",
          "name": "stderr",
          "text": [
            "\u001b[32m[I 2023-02-27 21:34:11,843]\u001b[0m A new study created in memory with name: no-name-762b2feb-c258-475e-82a5-80b58fb589b1\u001b[0m\n"
          ]
        },
        {
          "output_type": "stream",
          "name": "stdout",
          "text": [
            "0:\tlearn: 0.4268384\ttest: 0.4369393\tbest: 0.4369393 (0)\ttotal: 47.1ms\tremaining: 2m 21s\n",
            "300:\tlearn: 0.4671186\ttest: 0.4851759\tbest: 0.4852026 (297)\ttotal: 6.59s\tremaining: 59s\n",
            "600:\tlearn: 0.4700748\ttest: 0.4874062\tbest: 0.4876025 (531)\ttotal: 14.6s\tremaining: 58.1s\n",
            "900:\tlearn: 0.4718002\ttest: 0.4880852\tbest: 0.4884172 (815)\ttotal: 20.5s\tremaining: 47.7s\n",
            "1200:\tlearn: 0.4732870\ttest: 0.4898603\tbest: 0.4899031 (1198)\ttotal: 28s\tremaining: 41.9s\n",
            "1500:\tlearn: 0.4745032\ttest: 0.4905014\tbest: 0.4906188 (1439)\ttotal: 35.5s\tremaining: 35.4s\n",
            "1800:\tlearn: 0.4756554\ttest: 0.4907992\tbest: 0.4912518 (1670)\ttotal: 42.3s\tremaining: 28.1s\n",
            "2100:\tlearn: 0.4769539\ttest: 0.4919176\tbest: 0.4920058 (2084)\ttotal: 52.9s\tremaining: 22.6s\n",
            "2400:\tlearn: 0.4781196\ttest: 0.4923255\tbest: 0.4923255 (2400)\ttotal: 1m 1s\tremaining: 15.2s\n",
            "2700:\tlearn: 0.4790288\ttest: 0.4929403\tbest: 0.4929403 (2700)\ttotal: 1m 10s\tremaining: 7.68s\n",
            "2996:\tlearn: 0.4801079\ttest: 0.4937097\tbest: 0.4937097 (2996)\ttotal: 1m 17s\tremaining: 0us\n",
            "bestTest = 0.49370971\n",
            "bestIteration = 2996\n"
          ]
        },
        {
          "output_type": "stream",
          "name": "stderr",
          "text": [
            "\u001b[32m[I 2023-02-27 21:36:04,982]\u001b[0m Trial 0 finished with value: 0.49370971003552705 and parameters: {'iterations': 2997, 'depth': 3, 'min_data_in_leaf': 62, 'learning_rate': 0.08973634857911625, 'early_stopping_rounds': 638}. Best is trial 0 with value: 0.49370971003552705.\u001b[0m\n"
          ]
        }
      ]
    },
    {
      "cell_type": "code",
      "source": [],
      "metadata": {
        "id": "Zh9f2VgHyx8P"
      },
      "execution_count": null,
      "outputs": []
    },
    {
      "cell_type": "markdown",
      "source": [
        "Приросли на почти сотую, неплохо, попробуем добавить 3-граммы"
      ],
      "metadata": {
        "id": "wXufdBdpzThV"
      }
    },
    {
      "cell_type": "code",
      "source": [
        "def objective_custom_2(trial):\n",
        "\n",
        "    catboost_params = {\n",
        "        \"loss_function\": 'MultiClass',\n",
        "        \"iterations\": trial.suggest_int(\"iterations\", 1000, 3000),\n",
        "        \"depth\": trial.suggest_int(\"depth\", 2, 12),\n",
        "        \"min_data_in_leaf\": trial.suggest_int(\"min_data_in_leaf\", 0, 1000),\n",
        "        \"learning_rate\": trial.suggest_float(\"learning_rate\", 0.01, 0.1),\n",
        "        'task_type': 'GPU',\n",
        "        'early_stopping_rounds': trial.suggest_int(\"early_stopping_rounds\", 100, 1000),\n",
        "        'eval_metric': 'TotalF1:average=Macro',\n",
        "        'verbose': 300\n",
        "    }\n",
        "    text_processing = {\n",
        "        \"tokenizers\" : [{\n",
        "            \"tokenizer_id\" : \"Space\",\n",
        "            \"separator_type\" : \"ByDelimiter\",\n",
        "            \"lowercasing\": \"True\",\n",
        "            \"delimiter\" : \" \"\n",
        "        }],\n",
        "    \n",
        "        \"dictionaries\" : [{\n",
        "            \"dictionary_id\" : \"BiGram\",\n",
        "            \"max_dictionary_size\" : \"50000\",\n",
        "            \"occurrence_lower_bound\" : \"10\",\n",
        "            \"gram_order\" : \"2\"\n",
        "        }, {\n",
        "            \"dictionary_id\" : \"Word\",\n",
        "            \"max_dictionary_size\" : \"50000\",\n",
        "            \"occurrence_lower_bound\" : \"10\",\n",
        "            \"gram_order\" : \"1\"\n",
        "        },{\n",
        "            \"dictionary_id\" : \"3-Gram\",\n",
        "            \"max_dictionary_size\" : \"50000\",\n",
        "            \"occurrence_lower_bound\" : \"10\",\n",
        "            \"gram_order\" : \"3\"\n",
        "        }],\n",
        "    }\n",
        "\n",
        "\n",
        "    model = CatBoostClassifier(**catboost_params, text_processing=text_processing) \n",
        "    model.fit(train_pool, eval_set=valid_pool)\n",
        "    preds = model.predict(X_val)\n",
        "    f1 = f1_score(y_val, preds, average='macro')\n",
        "\n",
        "    return f1"
      ],
      "metadata": {
        "id": "L_2XcQMLzYgk"
      },
      "execution_count": 34,
      "outputs": []
    },
    {
      "cell_type": "code",
      "source": [
        "study = optuna.create_study(direction=\"maximize\")\n",
        "study.optimize(objective_custom_2, n_trials=15, timeout=60)"
      ],
      "metadata": {
        "colab": {
          "base_uri": "https://localhost:8080/"
        },
        "id": "JnQ5QS60ztNB",
        "outputId": "30011708-f937-4a3b-86df-e72c12613f43"
      },
      "execution_count": 35,
      "outputs": [
        {
          "output_type": "stream",
          "name": "stderr",
          "text": [
            "\u001b[32m[I 2023-02-27 21:37:18,240]\u001b[0m A new study created in memory with name: no-name-35d1d4c6-fb41-45f1-938e-b20239b48188\u001b[0m\n"
          ]
        },
        {
          "output_type": "stream",
          "name": "stdout",
          "text": [
            "0:\tlearn: 0.3995264\ttest: 0.4053067\tbest: 0.4053067 (0)\ttotal: 41.6ms\tremaining: 1m 44s\n",
            "300:\tlearn: 0.4623588\ttest: 0.4803911\tbest: 0.4909685 (2)\ttotal: 5.78s\tremaining: 42.3s\n",
            "bestTest = 0.4909684924\n",
            "bestIteration = 2\n",
            "Shrink model to first 3 iterations.\n"
          ]
        },
        {
          "output_type": "stream",
          "name": "stderr",
          "text": [
            "\u001b[32m[I 2023-02-27 21:37:58,135]\u001b[0m Trial 0 finished with value: 0.4909684923649505 and parameters: {'iterations': 2505, 'depth': 2, 'min_data_in_leaf': 629, 'learning_rate': 0.05696002507388703, 'early_stopping_rounds': 554}. Best is trial 0 with value: 0.4909684923649505.\u001b[0m\n"
          ]
        },
        {
          "output_type": "stream",
          "name": "stdout",
          "text": [
            "0:\tlearn: 0.4545555\ttest: 0.4714291\tbest: 0.4714291 (0)\ttotal: 69.7ms\tremaining: 1m 22s\n",
            "300:\tlearn: 0.4720219\ttest: 0.4890393\tbest: 0.4890393 (300)\ttotal: 13.1s\tremaining: 38.2s\n",
            "600:\tlearn: 0.4754214\ttest: 0.4905985\tbest: 0.4909119 (578)\ttotal: 28.6s\tremaining: 27.5s\n",
            "900:\tlearn: 0.4789424\ttest: 0.4933302\tbest: 0.4934574 (883)\ttotal: 43.2s\tremaining: 13.3s\n",
            "1178:\tlearn: 0.4819889\ttest: 0.4948184\tbest: 0.4949232 (1163)\ttotal: 53.4s\tremaining: 0us\n",
            "bestTest = 0.4949232253\n",
            "bestIteration = 1163\n",
            "Shrink model to first 1164 iterations.\n"
          ]
        },
        {
          "output_type": "stream",
          "name": "stderr",
          "text": [
            "\u001b[32m[I 2023-02-27 21:39:25,046]\u001b[0m Trial 1 finished with value: 0.49492322534713296 and parameters: {'iterations': 1179, 'depth': 6, 'min_data_in_leaf': 973, 'learning_rate': 0.0803187160844681, 'early_stopping_rounds': 104}. Best is trial 1 with value: 0.49492322534713296.\u001b[0m\n"
          ]
        }
      ]
    },
    {
      "cell_type": "markdown",
      "source": [
        "Ещё 2 тысячные, пойдет"
      ],
      "metadata": {
        "id": "pNZzQG-s0OC5"
      }
    },
    {
      "cell_type": "markdown",
      "source": [
        "Также попробуем использовать чуть более сложный токенайзер"
      ],
      "metadata": {
        "id": "bwaXR9S90BbI"
      }
    },
    {
      "cell_type": "code",
      "source": [
        "def objective_custom_3(trial):\n",
        "\n",
        "    catboost_params = {\n",
        "        \"loss_function\": 'MultiClass',\n",
        "        \"iterations\": trial.suggest_int(\"iterations\", 1000, 3000),\n",
        "        \"depth\": trial.suggest_int(\"depth\", 2, 12),\n",
        "        \"min_data_in_leaf\": trial.suggest_int(\"min_data_in_leaf\", 0, 1000),\n",
        "        \"learning_rate\": trial.suggest_float(\"learning_rate\", 0.01, 0.1),\n",
        "        'task_type': 'GPU',\n",
        "        'early_stopping_rounds': trial.suggest_int(\"early_stopping_rounds\", 100, 1000),\n",
        "        'eval_metric': 'TotalF1:average=Macro',\n",
        "        'verbose': 300\n",
        "    }\n",
        "    text_processing = {\n",
        "        \"tokenizers\" : [{\n",
        "            'tokenizer_id': 'Sense',\n",
        "            'separator_type': 'BySense',\n",
        "            'lowercasing': 'True',\n",
        "            'token_types':['Word', 'Number', 'SentenceBreak'],\n",
        "            'sub_tokens_policy':'SeveralTokens'\n",
        "        },\n",
        "        {\n",
        "            \"tokenizer_id\" : \"Space\",\n",
        "            \"separator_type\" : \"ByDelimiter\",\n",
        "            \"lowercasing\": \"True\",\n",
        "            \"delimiter\" : \" \"\n",
        "        }],\n",
        "    \n",
        "        \"dictionaries\" : [{\n",
        "            \"dictionary_id\" : \"BiGram\",\n",
        "            \"max_dictionary_size\" : \"50000\",\n",
        "            \"occurrence_lower_bound\" : \"10\",\n",
        "            \"gram_order\" : \"2\"\n",
        "        }, {\n",
        "            \"dictionary_id\" : \"Word\",\n",
        "            \"max_dictionary_size\" : \"50000\",\n",
        "            \"occurrence_lower_bound\" : \"10\",\n",
        "            \"gram_order\" : \"1\"\n",
        "        },{\n",
        "            \"dictionary_id\" : \"3-Gram\",\n",
        "            \"max_dictionary_size\" : \"50000\",\n",
        "            \"occurrence_lower_bound\" : \"10\",\n",
        "            \"gram_order\" : \"3\"\n",
        "        }],\n",
        "    }\n",
        "\n",
        "\n",
        "    model = CatBoostClassifier(**catboost_params, text_processing=text_processing) \n",
        "    model.fit(train_pool, eval_set=valid_pool)\n",
        "    preds = model.predict(X_val)\n",
        "    f1 = f1_score(y_val, preds, average='macro')\n",
        "\n",
        "    return f1"
      ],
      "metadata": {
        "id": "j1SZBk2C0A4U"
      },
      "execution_count": 38,
      "outputs": []
    },
    {
      "cell_type": "code",
      "source": [
        "study = optuna.create_study(direction=\"maximize\")\n",
        "study.optimize(objective_custom_3, n_trials=15, timeout=60)"
      ],
      "metadata": {
        "colab": {
          "base_uri": "https://localhost:8080/"
        },
        "id": "L_tUkAov0USE",
        "outputId": "92cfaff1-fa8a-4b05-976f-e597a8942fe2"
      },
      "execution_count": 39,
      "outputs": [
        {
          "output_type": "stream",
          "name": "stderr",
          "text": [
            "\u001b[32m[I 2023-02-27 21:40:47,171]\u001b[0m A new study created in memory with name: no-name-7978c334-0f0f-424b-8c7c-ed571c0bbef2\u001b[0m\n"
          ]
        },
        {
          "output_type": "stream",
          "name": "stdout",
          "text": [
            "0:\tlearn: 0.4549143\ttest: 0.4715856\tbest: 0.4715856 (0)\ttotal: 83.3ms\tremaining: 3m 46s\n",
            "300:\tlearn: 0.4632581\ttest: 0.4799319\tbest: 0.4799329 (299)\ttotal: 14.8s\tremaining: 1m 58s\n",
            "600:\tlearn: 0.4683240\ttest: 0.4853631\tbest: 0.4853631 (600)\ttotal: 26.6s\tremaining: 1m 33s\n",
            "900:\tlearn: 0.4708026\ttest: 0.4873465\tbest: 0.4873577 (889)\ttotal: 38.1s\tremaining: 1m 16s\n",
            "1200:\tlearn: 0.4723141\ttest: 0.4881666\tbest: 0.4882269 (1188)\ttotal: 49.8s\tremaining: 1m 2s\n",
            "1500:\tlearn: 0.4736543\ttest: 0.4889477\tbest: 0.4890414 (1460)\ttotal: 1m\tremaining: 49.2s\n",
            "1800:\tlearn: 0.4749492\ttest: 0.4895440\tbest: 0.4895845 (1792)\ttotal: 1m 10s\tremaining: 36s\n",
            "2100:\tlearn: 0.4759672\ttest: 0.4901497\tbest: 0.4901612 (2099)\ttotal: 1m 21s\tremaining: 24s\n",
            "2400:\tlearn: 0.4770747\ttest: 0.4908753\tbest: 0.4909517 (2382)\ttotal: 1m 33s\tremaining: 12.3s\n",
            "2700:\tlearn: 0.4780243\ttest: 0.4918044\tbest: 0.4918044 (2700)\ttotal: 1m 45s\tremaining: 626ms\n",
            "2716:\tlearn: 0.4780685\ttest: 0.4918797\tbest: 0.4918989 (2715)\ttotal: 1m 46s\tremaining: 0us\n",
            "bestTest = 0.4918989438\n",
            "bestIteration = 2715\n",
            "Shrink model to first 2716 iterations.\n"
          ]
        },
        {
          "output_type": "stream",
          "name": "stderr",
          "text": [
            "\u001b[32m[I 2023-02-27 21:43:07,202]\u001b[0m Trial 0 finished with value: 0.49189894383506716 and parameters: {'iterations': 2717, 'depth': 7, 'min_data_in_leaf': 885, 'learning_rate': 0.019182180289384836, 'early_stopping_rounds': 477}. Best is trial 0 with value: 0.49189894383506716.\u001b[0m\n"
          ]
        }
      ]
    },
    {
      "cell_type": "markdown",
      "source": [
        "Получилось чуть хуже, значит, время переходить дальше. Попробую генерить фичи используя наивного Байеса"
      ],
      "metadata": {
        "id": "fmOGoo5a1Hgy"
      }
    },
    {
      "cell_type": "code",
      "source": [
        "def objective_custom_4(trial):\n",
        "\n",
        "    catboost_params = {\n",
        "        \"loss_function\": 'MultiClass',\n",
        "        \"iterations\": trial.suggest_int(\"iterations\", 1000, 3000),\n",
        "        \"depth\": trial.suggest_int(\"depth\", 2, 12),\n",
        "        \"min_data_in_leaf\": trial.suggest_int(\"min_data_in_leaf\", 0, 1000),\n",
        "        \"learning_rate\": trial.suggest_float(\"learning_rate\", 0.01, 0.1),\n",
        "        'task_type': 'GPU',\n",
        "        'early_stopping_rounds': trial.suggest_int(\"early_stopping_rounds\", 100, 1000),\n",
        "        'eval_metric': 'TotalF1:average=Macro',\n",
        "        'verbose': 300\n",
        "    }\n",
        "    text_processing = {\n",
        "        \"tokenizers\" : [{\n",
        "            'tokenizer_id': 'Sense',\n",
        "            'separator_type': 'BySense',\n",
        "            'lowercasing': 'True',\n",
        "            'token_types':['Word', 'Number', 'SentenceBreak'],\n",
        "            'sub_tokens_policy':'SeveralTokens'\n",
        "        },\n",
        "        {\n",
        "            \"tokenizer_id\" : \"Space\",\n",
        "            \"separator_type\" : \"ByDelimiter\",\n",
        "            \"lowercasing\": \"True\",\n",
        "            \"delimiter\" : \" \"\n",
        "        }],\n",
        "    \n",
        "        \"dictionaries\" : [{\n",
        "            \"dictionary_id\" : \"BiGram\",\n",
        "            \"max_dictionary_size\" : \"50000\",\n",
        "            \"occurrence_lower_bound\" : \"10\",\n",
        "            \"gram_order\" : \"2\"\n",
        "        }, {\n",
        "            \"dictionary_id\" : \"Word\",\n",
        "            \"max_dictionary_size\" : \"50000\",\n",
        "            \"occurrence_lower_bound\" : \"10\",\n",
        "            \"gram_order\" : \"1\"\n",
        "        },{\n",
        "            \"dictionary_id\" : \"3-Gram\",\n",
        "            \"max_dictionary_size\" : \"50000\",\n",
        "            \"occurrence_lower_bound\" : \"10\",\n",
        "            \"gram_order\" : \"3\"\n",
        "        }],\n",
        "        \"feature_processing\" : {\n",
        "            \"default\" : [{\n",
        "                \"dictionaries_names\" : [\"BiGram\", \"Word\", \"3-Gram\"],\n",
        "                \"feature_calcers\" : [\"BoW\"],\n",
        "                \"tokenizers_names\" : [\"Space\"]\n",
        "            }, {\n",
        "                \"dictionaries_names\" : [\"Word\", \"BiGram\", \"3-Gram\"],\n",
        "                \"feature_calcers\" : [\"NaiveBayes\"],\n",
        "                \"tokenizers_names\" : [\"Space\"]\n",
        "            }],\n",
        "        }\n",
        "    }\n",
        "\n",
        "\n",
        "    model = CatBoostClassifier(**catboost_params, text_processing=text_processing) \n",
        "    model.fit(train_pool, eval_set=valid_pool)\n",
        "    preds = model.predict(X_val)\n",
        "    f1 = f1_score(y_val, preds, average='macro')\n",
        "\n",
        "    return f1"
      ],
      "metadata": {
        "id": "Pxs5TJkN0V09"
      },
      "execution_count": 42,
      "outputs": []
    },
    {
      "cell_type": "code",
      "source": [
        "study = optuna.create_study(direction=\"maximize\")\n",
        "study.optimize(objective_custom_4, n_trials=15, timeout=90)"
      ],
      "metadata": {
        "colab": {
          "base_uri": "https://localhost:8080/"
        },
        "id": "oG6rbsrc1jHW",
        "outputId": "4a846d06-ce8a-4898-ca29-7ffc5acca91b"
      },
      "execution_count": 43,
      "outputs": [
        {
          "output_type": "stream",
          "name": "stderr",
          "text": [
            "\u001b[32m[I 2023-02-27 21:47:20,083]\u001b[0m A new study created in memory with name: no-name-beb4bb1a-9cbe-4ee2-abb5-6b831ef56486\u001b[0m\n"
          ]
        },
        {
          "output_type": "stream",
          "name": "stdout",
          "text": [
            "0:\tlearn: 0.3726802\ttest: 0.3790959\tbest: 0.3790959 (0)\ttotal: 54.1ms\tremaining: 2m 3s\n",
            "300:\tlearn: 0.4470389\ttest: 0.4673537\tbest: 0.4673537 (300)\ttotal: 9.79s\tremaining: 1m 4s\n",
            "600:\tlearn: 0.4707417\ttest: 0.4912680\tbest: 0.4912680 (600)\ttotal: 17.8s\tremaining: 49.7s\n",
            "900:\tlearn: 0.4761070\ttest: 0.4966606\tbest: 0.4966822 (895)\ttotal: 26.2s\tremaining: 40.2s\n",
            "1200:\tlearn: 0.4779046\ttest: 0.4985200\tbest: 0.4985529 (1197)\ttotal: 34.8s\tremaining: 31.3s\n",
            "1500:\tlearn: 0.4793797\ttest: 0.5002562\tbest: 0.5002917 (1499)\ttotal: 42s\tremaining: 21.8s\n",
            "1800:\tlearn: 0.4801840\ttest: 0.5011375\tbest: 0.5011375 (1800)\ttotal: 50.5s\tremaining: 13.5s\n",
            "2100:\tlearn: 0.4807387\ttest: 0.5018063\tbest: 0.5018443 (2091)\ttotal: 58.8s\tremaining: 5.07s\n",
            "2281:\tlearn: 0.4810560\ttest: 0.5022359\tbest: 0.5022462 (2271)\ttotal: 1m 3s\tremaining: 0us\n",
            "bestTest = 0.502246168\n",
            "bestIteration = 2271\n",
            "Shrink model to first 2272 iterations.\n"
          ]
        },
        {
          "output_type": "stream",
          "name": "stderr",
          "text": [
            "\u001b[32m[I 2023-02-27 21:49:15,647]\u001b[0m Trial 0 finished with value: 0.5022461679912896 and parameters: {'iterations': 2282, 'depth': 2, 'min_data_in_leaf': 607, 'learning_rate': 0.013965028330376442, 'early_stopping_rounds': 898}. Best is trial 0 with value: 0.5022461679912896.\u001b[0m\n"
          ]
        }
      ]
    },
    {
      "cell_type": "markdown",
      "source": [
        "Смогли пробить 0.5, очень здорово"
      ],
      "metadata": {
        "id": "gtJqwrxj2sKD"
      }
    },
    {
      "cell_type": "markdown",
      "source": [
        "Попробуем вместо Баеса BM25 (аналог tf-idf, где токен вместо слова и класс вместо документа)"
      ],
      "metadata": {
        "id": "IfsVlV962dkm"
      }
    },
    {
      "cell_type": "code",
      "source": [
        "def objective_custom_5(trial):\n",
        "\n",
        "    catboost_params = {\n",
        "        \"loss_function\": 'MultiClass',\n",
        "        \"iterations\": trial.suggest_int(\"iterations\", 1000, 3000),\n",
        "        \"depth\": trial.suggest_int(\"depth\", 2, 12),\n",
        "        \"min_data_in_leaf\": trial.suggest_int(\"min_data_in_leaf\", 0, 1000),\n",
        "        \"learning_rate\": trial.suggest_float(\"learning_rate\", 0.01, 0.1),\n",
        "        'task_type': 'GPU',\n",
        "        'early_stopping_rounds': trial.suggest_int(\"early_stopping_rounds\", 100, 1000),\n",
        "        'eval_metric': 'TotalF1:average=Macro',\n",
        "        'verbose': 300\n",
        "    }\n",
        "    text_processing = {\n",
        "        \"tokenizers\" : [{\n",
        "            'tokenizer_id': 'Sense',\n",
        "            'separator_type': 'BySense',\n",
        "            'lowercasing': 'True',\n",
        "            'token_types':['Word', 'Number', 'SentenceBreak'],\n",
        "            'sub_tokens_policy':'SeveralTokens'\n",
        "        },\n",
        "        {\n",
        "            \"tokenizer_id\" : \"Space\",\n",
        "            \"separator_type\" : \"ByDelimiter\",\n",
        "            \"lowercasing\": \"True\",\n",
        "            \"delimiter\" : \" \"\n",
        "        }],\n",
        "    \n",
        "        \"dictionaries\" : [{\n",
        "            \"dictionary_id\" : \"BiGram\",\n",
        "            \"max_dictionary_size\" : \"50000\",\n",
        "            \"occurrence_lower_bound\" : \"5\",\n",
        "            \"gram_order\" : \"2\"\n",
        "        }, {\n",
        "            \"dictionary_id\" : \"Word\",\n",
        "            \"max_dictionary_size\" : \"50000\",\n",
        "            \"occurrence_lower_bound\" : \"5\",\n",
        "            \"gram_order\" : \"1\"\n",
        "        },{\n",
        "            \"dictionary_id\" : \"3-Gram\",\n",
        "            \"max_dictionary_size\" : \"50000\",\n",
        "            \"occurrence_lower_bound\" : \"5\",\n",
        "            \"gram_order\" : \"3\"\n",
        "        }],\n",
        "        \"feature_processing\" : {\n",
        "            \"default\" : [{\n",
        "                \"dictionaries_names\" : [\"BiGram\", \"Word\", \"3-Gram\"],\n",
        "                \"feature_calcers\" : [\"BoW\"],\n",
        "                \"tokenizers_names\" : [\"Space\"]\n",
        "            }, {\n",
        "                \"dictionaries_names\" : [\"Word\", \"BiGram\", \"3-Gram\"],\n",
        "                \"feature_calcers\" : [\"NaiveBayes\"],\n",
        "                \"tokenizers_names\" : [\"Space\"]\n",
        "            }],\n",
        "        }\n",
        "    }\n",
        "\n",
        "\n",
        "    model = CatBoostClassifier(**catboost_params, text_processing=text_processing) \n",
        "    model.fit(train_pool, eval_set=valid_pool)\n",
        "    preds = model.predict(X_val)\n",
        "    f1 = f1_score(y_val, preds, average='macro')\n",
        "\n",
        "    return f1"
      ],
      "metadata": {
        "id": "zXw2f2lp1j3l"
      },
      "execution_count": 46,
      "outputs": []
    },
    {
      "cell_type": "code",
      "source": [
        "study = optuna.create_study(direction=\"maximize\")\n",
        "study.optimize(objective_custom_5, n_trials=15, timeout=90)"
      ],
      "metadata": {
        "colab": {
          "base_uri": "https://localhost:8080/"
        },
        "id": "S_F8TT8I23sz",
        "outputId": "2cc6d808-cf39-4c5e-d332-b2e276dcb189"
      },
      "execution_count": 47,
      "outputs": [
        {
          "output_type": "stream",
          "name": "stderr",
          "text": [
            "\u001b[32m[I 2023-02-27 21:54:19,809]\u001b[0m A new study created in memory with name: no-name-ccb00eae-0385-486d-b25c-7689e094fea8\u001b[0m\n"
          ]
        },
        {
          "output_type": "stream",
          "name": "stdout",
          "text": [
            "0:\tlearn: 0.2950841\ttest: 0.2845728\tbest: 0.2845728 (0)\ttotal: 59.2ms\tremaining: 1m 35s\n",
            "300:\tlearn: 0.3209262\ttest: 0.3093388\tbest: 0.3093388 (300)\ttotal: 12.3s\tremaining: 53.4s\n",
            "600:\tlearn: 0.3576915\ttest: 0.3518894\tbest: 0.3518894 (600)\ttotal: 23.7s\tremaining: 39.9s\n",
            "900:\tlearn: 0.3755046\ttest: 0.3711153\tbest: 0.3711153 (900)\ttotal: 36.7s\tremaining: 28.9s\n",
            "1200:\tlearn: 0.3875266\ttest: 0.3842041\tbest: 0.3842041 (1200)\ttotal: 47.8s\tremaining: 16.4s\n",
            "1500:\tlearn: 0.3973500\ttest: 0.3946126\tbest: 0.3946126 (1500)\ttotal: 59.3s\tremaining: 4.38s\n",
            "1611:\tlearn: 0.4004829\ttest: 0.3978928\tbest: 0.3979131 (1610)\ttotal: 1m 2s\tremaining: 0us\n",
            "bestTest = 0.3979131197\n",
            "bestIteration = 1610\n",
            "Shrink model to first 1611 iterations.\n"
          ]
        },
        {
          "output_type": "stream",
          "name": "stderr",
          "text": [
            "\u001b[32m[I 2023-02-27 21:56:13,849]\u001b[0m Trial 0 finished with value: 0.3979131196982313 and parameters: {'iterations': 1612, 'depth': 6, 'min_data_in_leaf': 657, 'learning_rate': 0.02038655468167428, 'early_stopping_rounds': 838}. Best is trial 0 with value: 0.3979131196982313.\u001b[0m\n"
          ]
        }
      ]
    },
    {
      "cell_type": "markdown",
      "source": [
        "Это совсем не взлетело"
      ],
      "metadata": {
        "id": "Y-OdvZdh4DEO"
      }
    },
    {
      "cell_type": "markdown",
      "source": [
        "Попробуем в качестве отдельных признаков добавить слова которые встречаются чаще 5к раз"
      ],
      "metadata": {
        "id": "NuQEslnu5ThA"
      }
    },
    {
      "cell_type": "code",
      "source": [
        "def objective_custom_6(trial):\n",
        "\n",
        "    catboost_params = {\n",
        "        \"loss_function\": 'MultiClass',\n",
        "        \"iterations\": trial.suggest_int(\"iterations\", 1000, 3000),\n",
        "        \"depth\": trial.suggest_int(\"depth\", 2, 12),\n",
        "        \"min_data_in_leaf\": trial.suggest_int(\"min_data_in_leaf\", 0, 1000),\n",
        "        \"learning_rate\": trial.suggest_float(\"learning_rate\", 0.01, 0.1),\n",
        "        'task_type': 'GPU',\n",
        "        'early_stopping_rounds': trial.suggest_int(\"early_stopping_rounds\", 100, 1000),\n",
        "        'eval_metric': 'TotalF1:average=Macro',\n",
        "        'verbose': 300\n",
        "    }\n",
        "    text_processing = {\n",
        "        \"tokenizers\" : [{\n",
        "            'tokenizer_id': 'Sense',\n",
        "            'separator_type': 'BySense',\n",
        "            'lowercasing': 'True',\n",
        "            'token_types':['Word', 'Number', 'SentenceBreak'],\n",
        "            'sub_tokens_policy':'SeveralTokens'\n",
        "        },\n",
        "        {\n",
        "            \"tokenizer_id\" : \"Space\",\n",
        "            \"separator_type\" : \"ByDelimiter\",\n",
        "            \"lowercasing\": \"True\",\n",
        "            \"delimiter\" : \" \"\n",
        "        }],\n",
        "    \n",
        "        \"dictionaries\" : [{\n",
        "            \"dictionary_id\" : \"BiGram\",\n",
        "            \"max_dictionary_size\" : \"50000\",\n",
        "            \"occurrence_lower_bound\" : \"100\",\n",
        "            \"gram_order\" : \"2\"\n",
        "        }, {\n",
        "            \"dictionary_id\" : \"Word\",\n",
        "            \"max_dictionary_size\" : \"50000\",\n",
        "            \"occurrence_lower_bound\" : \"100\",\n",
        "            \"gram_order\" : \"1\"\n",
        "        },{\n",
        "            \"dictionary_id\" : \"3-Gram\",\n",
        "            \"max_dictionary_size\" : \"50000\",\n",
        "            \"occurrence_lower_bound\" : \"100\",\n",
        "            \"gram_order\" : \"3\"\n",
        "        }],\n",
        "        \"feature_processing\" : {\n",
        "            \"default\" : [\n",
        "            {\"dictionaries_names\" : [\"Word\"],\n",
        "                \"feature_calcers\" : [\"BoW:top_tokens_count=5000\"],\n",
        "                \"tokenizers_names\" : [\"Space\"]}\n",
        "            ],\n",
        "        }\n",
        "    }\n",
        "\n",
        "\n",
        "    model = CatBoostClassifier(**catboost_params, text_processing=text_processing) \n",
        "    model.fit(train_pool, eval_set=valid_pool)\n",
        "    preds = model.predict(X_val)\n",
        "    f1 = f1_score(y_val, preds, average='macro')\n",
        "\n",
        "    return f1"
      ],
      "metadata": {
        "id": "4TN7sM5c4KSA"
      },
      "execution_count": 58,
      "outputs": []
    },
    {
      "cell_type": "code",
      "source": [
        "study = optuna.create_study(direction=\"maximize\")\n",
        "study.optimize(objective_custom_6, n_trials=15, timeout=90)"
      ],
      "metadata": {
        "colab": {
          "base_uri": "https://localhost:8080/"
        },
        "id": "pd7g1_tq26On",
        "outputId": "c3a6b83a-edac-4167-f459-5502cf32d95d"
      },
      "execution_count": 59,
      "outputs": [
        {
          "output_type": "stream",
          "name": "stderr",
          "text": [
            "\u001b[32m[I 2023-02-27 22:06:07,566]\u001b[0m A new study created in memory with name: no-name-25a1d486-7549-4ed0-8f0f-7bdcb8022370\u001b[0m\n"
          ]
        },
        {
          "output_type": "stream",
          "name": "stdout",
          "text": [
            "0:\tlearn: 0.2755221\ttest: 0.2763186\tbest: 0.2763186 (0)\ttotal: 47.1ms\tremaining: 1m 40s\n",
            "300:\tlearn: 0.3665075\ttest: 0.3666366\tbest: 0.3666366 (300)\ttotal: 9.9s\tremaining: 1m\n",
            "600:\tlearn: 0.3946529\ttest: 0.3955024\tbest: 0.3955024 (600)\ttotal: 16.6s\tremaining: 42.1s\n",
            "900:\tlearn: 0.4100520\ttest: 0.4097516\tbest: 0.4097516 (900)\ttotal: 24.7s\tremaining: 33.6s\n",
            "1200:\tlearn: 0.4210677\ttest: 0.4194974\tbest: 0.4194974 (1200)\ttotal: 32.6s\tremaining: 25.1s\n",
            "1500:\tlearn: 0.4292604\ttest: 0.4263855\tbest: 0.4263855 (1500)\ttotal: 39.3s\tremaining: 16.4s\n",
            "1800:\tlearn: 0.4355281\ttest: 0.4325849\tbest: 0.4325859 (1799)\ttotal: 47.4s\tremaining: 8.59s\n",
            "2100:\tlearn: 0.4403644\ttest: 0.4370002\tbest: 0.4370621 (2096)\ttotal: 54s\tremaining: 668ms\n",
            "2126:\tlearn: 0.4408816\ttest: 0.4373899\tbest: 0.4374164 (2122)\ttotal: 54.7s\tremaining: 0us\n",
            "bestTest = 0.4374163694\n",
            "bestIteration = 2122\n",
            "Shrink model to first 2123 iterations.\n"
          ]
        },
        {
          "output_type": "stream",
          "name": "stderr",
          "text": [
            "\u001b[32m[I 2023-02-27 22:07:26,540]\u001b[0m Trial 0 finished with value: 0.43741636939768597 and parameters: {'iterations': 2127, 'depth': 5, 'min_data_in_leaf': 381, 'learning_rate': 0.09984185155677924, 'early_stopping_rounds': 357}. Best is trial 0 with value: 0.43741636939768597.\u001b[0m\n"
          ]
        },
        {
          "output_type": "stream",
          "name": "stdout",
          "text": [
            "0:\tlearn: 0.2808571\ttest: 0.2818806\tbest: 0.2818806 (0)\ttotal: 58.1ms\tremaining: 2m 23s\n",
            "300:\tlearn: 0.2825942\ttest: 0.2830331\tbest: 0.2868720 (95)\ttotal: 12.2s\tremaining: 1m 27s\n",
            "600:\tlearn: 0.3199242\ttest: 0.3199601\tbest: 0.3199601 (600)\ttotal: 27.5s\tremaining: 1m 25s\n",
            "900:\tlearn: 0.3375911\ttest: 0.3378364\tbest: 0.3378364 (900)\ttotal: 43.2s\tremaining: 1m 15s\n",
            "1200:\tlearn: 0.3492441\ttest: 0.3491731\tbest: 0.3491731 (1200)\ttotal: 56s\tremaining: 59.1s\n",
            "1500:\tlearn: 0.3585958\ttest: 0.3584181\tbest: 0.3584365 (1499)\ttotal: 1m 8s\tremaining: 43.9s\n",
            "1800:\tlearn: 0.3667391\ttest: 0.3662989\tbest: 0.3662989 (1800)\ttotal: 1m 20s\tremaining: 29.8s\n",
            "2100:\tlearn: 0.3733609\ttest: 0.3731169\tbest: 0.3731423 (2099)\ttotal: 1m 29s\tremaining: 15.6s\n",
            "2400:\tlearn: 0.3800746\ttest: 0.3801787\tbest: 0.3801787 (2400)\ttotal: 1m 38s\tremaining: 2.75s\n",
            "2467:\tlearn: 0.3812875\ttest: 0.3814668\tbest: 0.3814668 (2467)\ttotal: 1m 40s\tremaining: 0us\n",
            "bestTest = 0.3814667516\n",
            "bestIteration = 2467\n"
          ]
        },
        {
          "output_type": "stream",
          "name": "stderr",
          "text": [
            "\u001b[32m[I 2023-02-27 22:09:30,664]\u001b[0m Trial 1 finished with value: 0.38146675157596444 and parameters: {'iterations': 2468, 'depth': 7, 'min_data_in_leaf': 199, 'learning_rate': 0.012128144899720365, 'early_stopping_rounds': 785}. Best is trial 0 with value: 0.43741636939768597.\u001b[0m\n"
          ]
        }
      ]
    },
    {
      "cell_type": "markdown",
      "source": [
        "Так, здесь тоже прирасти не получилось. Тогда признаем лучшим эксперимент №4, тюним параметры побольше и замеряем качество на настоящем тесте. Предыдущая модель давала **0.496**"
      ],
      "metadata": {
        "id": "Xgfol7AE6vCF"
      }
    },
    {
      "cell_type": "code",
      "source": [
        "def objective_custom_final(trial):\n",
        "\n",
        "    catboost_params = {\n",
        "        \"loss_function\": 'MultiClass',\n",
        "        \"iterations\": trial.suggest_int(\"iterations\", 1000, 3000),\n",
        "        \"depth\": trial.suggest_int(\"depth\", 2, 12),\n",
        "        \"min_data_in_leaf\": trial.suggest_int(\"min_data_in_leaf\", 0, 1000),\n",
        "        \"learning_rate\": trial.suggest_float(\"learning_rate\", 0.01, 0.1),\n",
        "        'task_type': 'GPU',\n",
        "        'early_stopping_rounds': trial.suggest_int(\"early_stopping_rounds\", 100, 1000),\n",
        "        'eval_metric': 'TotalF1:average=Macro',\n",
        "        'verbose': 300\n",
        "    }\n",
        "    text_processing = {\n",
        "        \"tokenizers\" : [{\n",
        "            'tokenizer_id': 'Sense',\n",
        "            'separator_type': 'BySense',\n",
        "            'lowercasing': 'True',\n",
        "            'token_types':['Word', 'Number', 'SentenceBreak'],\n",
        "            'sub_tokens_policy':'SeveralTokens'\n",
        "        },\n",
        "        {\n",
        "            \"tokenizer_id\" : \"Space\",\n",
        "            \"separator_type\" : \"ByDelimiter\",\n",
        "            \"lowercasing\": \"True\",\n",
        "            \"delimiter\" : \" \"\n",
        "        }],\n",
        "    \n",
        "        \"dictionaries\" : [{\n",
        "            \"dictionary_id\" : \"BiGram\",\n",
        "            \"max_dictionary_size\" : \"50000\",\n",
        "            \"occurrence_lower_bound\" : \"100\",\n",
        "            \"gram_order\" : \"2\"\n",
        "        }, {\n",
        "            \"dictionary_id\" : \"Word\",\n",
        "            \"max_dictionary_size\" : \"50000\",\n",
        "            \"occurrence_lower_bound\" : \"100\",\n",
        "            \"gram_order\" : \"1\"\n",
        "        },{\n",
        "            \"dictionary_id\" : \"3-Gram\",\n",
        "            \"max_dictionary_size\" : \"50000\",\n",
        "            \"occurrence_lower_bound\" : \"100\",\n",
        "            \"gram_order\" : \"3\"\n",
        "        }],\n",
        "        \"feature_processing\" : {\n",
        "            \"default\" : [{\n",
        "                \"dictionaries_names\" : [\"BiGram\", \"Word\", \"3-Gram\"],\n",
        "                \"feature_calcers\" : [\"BoW\"],\n",
        "                \"tokenizers_names\" : [\"Space\"]\n",
        "            }, {\n",
        "                \"dictionaries_names\" : [\"Word\", \"BiGram\", \"3-Gram\"],\n",
        "                \"feature_calcers\" : [\"NaiveBayes\"],\n",
        "                \"tokenizers_names\" : [\"Space\"]\n",
        "            }],\n",
        "        }\n",
        "    }\n",
        "\n",
        "\n",
        "    model = CatBoostClassifier(**catboost_params, text_processing=text_processing) \n",
        "    model.fit(train_pool, eval_set=valid_pool)\n",
        "    preds = model.predict(X_val)\n",
        "    f1 = f1_score(y_val, preds, average='macro')\n",
        "\n",
        "    return f1"
      ],
      "metadata": {
        "id": "fUgpy1wl7RDG"
      },
      "execution_count": 70,
      "outputs": []
    },
    {
      "cell_type": "code",
      "source": [
        "study = optuna.create_study(direction=\"maximize\")\n",
        "study.optimize(objective_custom_4, n_trials=15, timeout=360)"
      ],
      "metadata": {
        "colab": {
          "base_uri": "https://localhost:8080/"
        },
        "id": "cYkumtcr4_RM",
        "outputId": "c1dc0ecb-435b-4f4a-9f19-666df1613b89"
      },
      "execution_count": 71,
      "outputs": [
        {
          "output_type": "stream",
          "name": "stderr",
          "text": [
            "\u001b[32m[I 2023-02-27 22:25:02,864]\u001b[0m A new study created in memory with name: no-name-35feda45-ff87-40d0-883a-ed09f7190ed7\u001b[0m\n"
          ]
        },
        {
          "output_type": "stream",
          "name": "stdout",
          "text": [
            "0:\tlearn: 0.4357911\ttest: 0.4544049\tbest: 0.4544049 (0)\ttotal: 85.4ms\tremaining: 3m 25s\n",
            "300:\tlearn: 0.4808752\ttest: 0.5013874\tbest: 0.5014012 (299)\ttotal: 13.8s\tremaining: 1m 36s\n",
            "600:\tlearn: 0.4842874\ttest: 0.5045535\tbest: 0.5046351 (580)\ttotal: 25.1s\tremaining: 1m 15s\n",
            "900:\tlearn: 0.4859341\ttest: 0.5053787\tbest: 0.5054868 (893)\ttotal: 36.3s\tremaining: 1m\n",
            "1200:\tlearn: 0.4873074\ttest: 0.5060780\tbest: 0.5062611 (1157)\ttotal: 47.5s\tremaining: 47.5s\n",
            "1500:\tlearn: 0.4889480\ttest: 0.5069060\tbest: 0.5069060 (1500)\ttotal: 58.6s\tremaining: 35.2s\n",
            "1800:\tlearn: 0.4901238\ttest: 0.5074602\tbest: 0.5075643 (1671)\ttotal: 1m 9s\tremaining: 23.2s\n",
            "2100:\tlearn: 0.4913204\ttest: 0.5077575\tbest: 0.5081032 (2016)\ttotal: 1m 20s\tremaining: 11.5s\n",
            "2400:\tlearn: 0.4922566\ttest: 0.5084825\tbest: 0.5086303 (2360)\ttotal: 1m 29s\tremaining: 37.4ms\n",
            "2401:\tlearn: 0.4922548\ttest: 0.5084931\tbest: 0.5086303 (2360)\ttotal: 1m 29s\tremaining: 0us\n",
            "bestTest = 0.5086303407\n",
            "bestIteration = 2360\n",
            "Shrink model to first 2361 iterations.\n"
          ]
        },
        {
          "output_type": "stream",
          "name": "stderr",
          "text": [
            "\u001b[32m[I 2023-02-27 22:27:26,749]\u001b[0m Trial 0 finished with value: 0.5086303406933194 and parameters: {'iterations': 2402, 'depth': 5, 'min_data_in_leaf': 567, 'learning_rate': 0.03870518643427813, 'early_stopping_rounds': 963}. Best is trial 0 with value: 0.5086303406933194.\u001b[0m\n"
          ]
        },
        {
          "output_type": "stream",
          "name": "stdout",
          "text": [
            "0:\tlearn: 0.4475263\ttest: 0.4656929\tbest: 0.4656929 (0)\ttotal: 148ms\tremaining: 6m 23s\n",
            "300:\tlearn: 0.4921905\ttest: 0.5072287\tbest: 0.5074770 (244)\ttotal: 21.8s\tremaining: 2m 46s\n",
            "600:\tlearn: 0.4988708\ttest: 0.5092282\tbest: 0.5094105 (521)\ttotal: 41.2s\tremaining: 2m 17s\n",
            "900:\tlearn: 0.5044641\ttest: 0.5103519\tbest: 0.5103618 (896)\ttotal: 59.3s\tremaining: 1m 51s\n",
            "1200:\tlearn: 0.5091320\ttest: 0.5112894\tbest: 0.5114781 (1099)\ttotal: 1m 18s\tremaining: 1m 31s\n",
            "1500:\tlearn: 0.5139317\ttest: 0.5121148\tbest: 0.5124079 (1483)\ttotal: 1m 36s\tremaining: 1m 10s\n",
            "1800:\tlearn: 0.5183874\ttest: 0.5125148\tbest: 0.5126645 (1790)\ttotal: 1m 56s\tremaining: 51.4s\n",
            "2100:\tlearn: 0.5223890\ttest: 0.5126771\tbest: 0.5130758 (1937)\ttotal: 2m 15s\tremaining: 32s\n",
            "2400:\tlearn: 0.5267469\ttest: 0.5135880\tbest: 0.5137821 (2357)\ttotal: 2m 34s\tremaining: 12.7s\n",
            "2597:\tlearn: 0.5292933\ttest: 0.5138892\tbest: 0.5138904 (2518)\ttotal: 2m 47s\tremaining: 0us\n",
            "bestTest = 0.5138903787\n",
            "bestIteration = 2518\n",
            "Shrink model to first 2519 iterations.\n"
          ]
        },
        {
          "output_type": "stream",
          "name": "stderr",
          "text": [
            "\u001b[32m[I 2023-02-27 22:31:11,671]\u001b[0m Trial 1 finished with value: 0.5138903787228823 and parameters: {'iterations': 2598, 'depth': 8, 'min_data_in_leaf': 538, 'learning_rate': 0.0907049133503472, 'early_stopping_rounds': 668}. Best is trial 1 with value: 0.5138903787228823.\u001b[0m\n"
          ]
        }
      ]
    },
    {
      "cell_type": "code",
      "source": [
        "study.best_trial.params"
      ],
      "metadata": {
        "colab": {
          "base_uri": "https://localhost:8080/"
        },
        "id": "mpqRqQhg7Wjx",
        "outputId": "2ddbcaea-ee19-4e91-e795-0357e0bdca68"
      },
      "execution_count": 72,
      "outputs": [
        {
          "output_type": "execute_result",
          "data": {
            "text/plain": [
              "{'iterations': 2598,\n",
              " 'depth': 8,\n",
              " 'min_data_in_leaf': 538,\n",
              " 'learning_rate': 0.0907049133503472,\n",
              " 'early_stopping_rounds': 668}"
            ]
          },
          "metadata": {},
          "execution_count": 72
        }
      ]
    },
    {
      "cell_type": "code",
      "source": [
        "catboost_params ={\n",
        "    'iterations': 2598,\n",
        "    'depth': 8,\n",
        "    'min_data_in_leaf': 538,\n",
        "    'learning_rate': 0.0907049133503472,\n",
        "    'eval_metric': 'TotalF1:average=Macro',\n",
        "    \"loss_function\": 'MultiClass',\n",
        "    'task_type': 'GPU',\n",
        "    'verbose': 300,\n",
        "    'early_stopping_rounds': 668}"
      ],
      "metadata": {
        "id": "e9bY1u9L9sNS"
      },
      "execution_count": 74,
      "outputs": []
    },
    {
      "cell_type": "markdown",
      "source": [
        "Финальная модель и её метрики на тесте"
      ],
      "metadata": {
        "id": "lyn2-9yG96Zu"
      }
    },
    {
      "cell_type": "code",
      "source": [
        "model = CatBoostClassifier(**catboost_params) \n",
        "model.fit(train_pool, eval_set=valid_pool)"
      ],
      "metadata": {
        "colab": {
          "base_uri": "https://localhost:8080/"
        },
        "id": "rjxJ056P9yvm",
        "outputId": "7ab247c2-7755-4940-ae72-a71f92f70027"
      },
      "execution_count": 75,
      "outputs": [
        {
          "output_type": "stream",
          "name": "stdout",
          "text": [
            "0:\tlearn: 0.4688847\ttest: 0.4814049\tbest: 0.4814049 (0)\ttotal: 94.5ms\tremaining: 4m 5s\n",
            "300:\tlearn: 0.4758695\ttest: 0.4860353\tbest: 0.4861209 (278)\ttotal: 15.7s\tremaining: 1m 59s\n",
            "600:\tlearn: 0.4834980\ttest: 0.4901324\tbest: 0.4901498 (599)\ttotal: 28.9s\tremaining: 1m 35s\n",
            "900:\tlearn: 0.4895234\ttest: 0.4928216\tbest: 0.4928216 (900)\ttotal: 42.4s\tremaining: 1m 19s\n",
            "1200:\tlearn: 0.4945462\ttest: 0.4946860\tbest: 0.4946860 (1200)\ttotal: 55.7s\tremaining: 1m 4s\n",
            "1500:\tlearn: 0.4997119\ttest: 0.4961705\tbest: 0.4961893 (1499)\ttotal: 1m 9s\tremaining: 50.7s\n",
            "1800:\tlearn: 0.5049067\ttest: 0.4971630\tbest: 0.4971630 (1800)\ttotal: 1m 22s\tremaining: 36.7s\n",
            "2100:\tlearn: 0.5095711\ttest: 0.4980742\tbest: 0.4981835 (2093)\ttotal: 1m 36s\tremaining: 22.9s\n",
            "2400:\tlearn: 0.5140266\ttest: 0.4986331\tbest: 0.4989712 (2309)\ttotal: 1m 51s\tremaining: 9.13s\n",
            "2597:\tlearn: 0.5165590\ttest: 0.4992061\tbest: 0.4992882 (2549)\ttotal: 1m 59s\tremaining: 0us\n",
            "bestTest = 0.4992881924\n",
            "bestIteration = 2549\n",
            "Shrink model to first 2550 iterations.\n"
          ]
        },
        {
          "output_type": "execute_result",
          "data": {
            "text/plain": [
              "<catboost.core.CatBoostClassifier at 0x7f8516d617c0>"
            ]
          },
          "metadata": {},
          "execution_count": 75
        }
      ]
    },
    {
      "cell_type": "code",
      "source": [
        "f1_macro = f1_score(y_test, model.predict(X_test), average='macro')\n",
        "f1_micro = f1_score(y_test, model.predict(X_test), average='micro')"
      ],
      "metadata": {
        "id": "COdpowOu90vI"
      },
      "execution_count": 76,
      "outputs": []
    },
    {
      "cell_type": "code",
      "source": [
        "f1_macro"
      ],
      "metadata": {
        "colab": {
          "base_uri": "https://localhost:8080/"
        },
        "id": "06UcbnCZ95RZ",
        "outputId": "57954bd4-1b27-4a93-f601-d3a38b3ced34"
      },
      "execution_count": 77,
      "outputs": [
        {
          "output_type": "execute_result",
          "data": {
            "text/plain": [
              "0.4969744916694925"
            ]
          },
          "metadata": {},
          "execution_count": 77
        }
      ]
    },
    {
      "cell_type": "code",
      "source": [
        "f1_micro"
      ],
      "metadata": {
        "colab": {
          "base_uri": "https://localhost:8080/"
        },
        "id": "9zo9TeV8-f6d",
        "outputId": "541b4648-38ac-4ebf-8625-311d04d6c9da"
      },
      "execution_count": 69,
      "outputs": [
        {
          "output_type": "execute_result",
          "data": {
            "text/plain": [
              "0.6089062397942009"
            ]
          },
          "metadata": {},
          "execution_count": 69
        }
      ]
    },
    {
      "cell_type": "markdown",
      "source": [
        "Результат почти польностью идентичен предыдущей версии модели. В целом, это не новость, что достаточно хорошо настроенный бустинг сложно побить. Тем более, катбуст славится тем, что зачастую очень хорошо работает из коробки"
      ],
      "metadata": {
        "id": "pGVKHfi2BL5d"
      }
    },
    {
      "cell_type": "code",
      "source": [
        "from sklearn.metrics import roc_auc_score"
      ],
      "metadata": {
        "id": "eis9QHYv-haG"
      },
      "execution_count": 78,
      "outputs": []
    },
    {
      "cell_type": "code",
      "source": [
        "preds = model.predict(X_test)"
      ],
      "metadata": {
        "id": "z6W7R8_7BdhG"
      },
      "execution_count": 79,
      "outputs": []
    },
    {
      "cell_type": "code",
      "source": [
        "probs = model.predict_proba(X_test)"
      ],
      "metadata": {
        "id": "FIYPxgGUBe3f"
      },
      "execution_count": 80,
      "outputs": []
    },
    {
      "cell_type": "code",
      "source": [
        "macro_auc = roc_auc_score(y_test, probs, multi_class='ovo')\n",
        "micro_auc = roc_auc_score(y_test, probs, multi_class='ovr')"
      ],
      "metadata": {
        "id": "HOqTDqO0Bf6S"
      },
      "execution_count": 81,
      "outputs": []
    },
    {
      "cell_type": "code",
      "source": [
        "macro_auc"
      ],
      "metadata": {
        "colab": {
          "base_uri": "https://localhost:8080/"
        },
        "id": "B38fehfABg9D",
        "outputId": "9ac3bc41-9324-457e-c3a5-3ebae4a6be5a"
      },
      "execution_count": 82,
      "outputs": [
        {
          "output_type": "execute_result",
          "data": {
            "text/plain": [
              "0.7398473034149854"
            ]
          },
          "metadata": {},
          "execution_count": 82
        }
      ]
    },
    {
      "cell_type": "code",
      "source": [
        "micro_auc"
      ],
      "metadata": {
        "colab": {
          "base_uri": "https://localhost:8080/"
        },
        "id": "NTlUFSZoBhkv",
        "outputId": "01fffa25-b625-41f4-c029-e0699fc87b4e"
      },
      "execution_count": 83,
      "outputs": [
        {
          "output_type": "execute_result",
          "data": {
            "text/plain": [
              "0.7451956454425549"
            ]
          },
          "metadata": {},
          "execution_count": 83
        }
      ]
    },
    {
      "cell_type": "code",
      "source": [
        "from sklearn.metrics import precision_score, recall_score"
      ],
      "metadata": {
        "id": "gmJQLvV1BiEp"
      },
      "execution_count": 84,
      "outputs": []
    },
    {
      "cell_type": "code",
      "source": [
        "macro_precision_score = precision_score(y_test, preds, average='micro')\n",
        "micro_precision_score = precision_score(y_test, preds, average='macro')"
      ],
      "metadata": {
        "id": "wY5djcKlBjLj"
      },
      "execution_count": 85,
      "outputs": []
    },
    {
      "cell_type": "code",
      "source": [
        "macro_precision_score"
      ],
      "metadata": {
        "colab": {
          "base_uri": "https://localhost:8080/"
        },
        "id": "DAvkBBMMBkXI",
        "outputId": "0ac4e911-904b-43dc-b25d-7a630b5fc5ba"
      },
      "execution_count": 86,
      "outputs": [
        {
          "output_type": "execute_result",
          "data": {
            "text/plain": [
              "0.6099663868079526"
            ]
          },
          "metadata": {},
          "execution_count": 86
        }
      ]
    },
    {
      "cell_type": "code",
      "source": [
        "micro_precision_score"
      ],
      "metadata": {
        "colab": {
          "base_uri": "https://localhost:8080/"
        },
        "id": "Y90M0zqYBk1y",
        "outputId": "0bb502b3-5125-4b9b-ca8a-8c9c4e9bb4d0"
      },
      "execution_count": 87,
      "outputs": [
        {
          "output_type": "execute_result",
          "data": {
            "text/plain": [
              "0.589665208415975"
            ]
          },
          "metadata": {},
          "execution_count": 87
        }
      ]
    },
    {
      "cell_type": "code",
      "source": [
        "macro_recall_score = recall_score(y_test, preds, average='micro')\n",
        "micro_recall_score = recall_score(y_test, preds, average='macro')"
      ],
      "metadata": {
        "id": "NfIsB8v8BlaD"
      },
      "execution_count": 88,
      "outputs": []
    },
    {
      "cell_type": "code",
      "source": [
        "macro_recall_score"
      ],
      "metadata": {
        "colab": {
          "base_uri": "https://localhost:8080/"
        },
        "id": "Zr4gO3RtBnFu",
        "outputId": "1edd2c96-cfc8-4826-b836-26b9f1de155f"
      },
      "execution_count": 89,
      "outputs": [
        {
          "output_type": "execute_result",
          "data": {
            "text/plain": [
              "0.6099663868079526"
            ]
          },
          "metadata": {},
          "execution_count": 89
        }
      ]
    },
    {
      "cell_type": "code",
      "source": [
        "micro_recall_score"
      ],
      "metadata": {
        "colab": {
          "base_uri": "https://localhost:8080/"
        },
        "id": "koJzoMWMBpwj",
        "outputId": "03774cd7-f5d2-4a28-a5c7-27a1d3338c24"
      },
      "execution_count": 90,
      "outputs": [
        {
          "output_type": "execute_result",
          "data": {
            "text/plain": [
              "0.48204034053233474"
            ]
          },
          "metadata": {},
          "execution_count": 90
        }
      ]
    },
    {
      "cell_type": "code",
      "source": [
        "from sklearn.metrics import confusion_matrix, ConfusionMatrixDisplay"
      ],
      "metadata": {
        "id": "ZjytB65FBqNg"
      },
      "execution_count": 91,
      "outputs": []
    },
    {
      "cell_type": "code",
      "source": [
        "cm = confusion_matrix(y_test, preds, labels=model.classes_)\n",
        "disp = ConfusionMatrixDisplay(confusion_matrix=cm,\n",
        "                              display_labels=model.classes_)"
      ],
      "metadata": {
        "id": "pdEzDB3FBrka"
      },
      "execution_count": 92,
      "outputs": []
    },
    {
      "cell_type": "code",
      "source": [
        "disp.plot()\n",
        "plt.show()"
      ],
      "metadata": {
        "colab": {
          "base_uri": "https://localhost:8080/",
          "height": 283
        },
        "id": "4YRezkPABsfF",
        "outputId": "e35da89b-233f-40cc-f844-3d8bb3f425d3"
      },
      "execution_count": 93,
      "outputs": [
        {
          "output_type": "display_data",
          "data": {
            "text/plain": [
              "<Figure size 432x288 with 2 Axes>"
            ],
            "image/png": "[encoded data removed]"
          },
          "metadata": {
            "needs_background": "light"
          }
        }
      ]
    },
    {
      "cell_type": "code",
      "source": [
        "cm = confusion_matrix(y_test, preds, labels=model.classes_, normalize='true')\n",
        "disp = ConfusionMatrixDisplay(confusion_matrix=cm,\n",
        "                              display_labels=model.classes_)"
      ],
      "metadata": {
        "id": "2r3dfQZqBtnl"
      },
      "execution_count": 94,
      "outputs": []
    },
    {
      "cell_type": "code",
      "source": [
        "disp.plot()\n",
        "plt.show()"
      ],
      "metadata": {
        "colab": {
          "base_uri": "https://localhost:8080/",
          "height": 279
        },
        "id": "pHVuKh0NButN",
        "outputId": "3fa176c2-50ad-4c1a-8211-b6eb0d6971ea"
      },
      "execution_count": 95,
      "outputs": [
        {
          "output_type": "display_data",
          "data": {
            "text/plain": [
              "<Figure size 432x288 with 2 Axes>"
            ],
            "image/png": "[encoded data removed]"
          },
          "metadata": {
            "needs_background": "light"
          }
        }
      ]
    },
    {
      "cell_type": "code",
      "source": [
        "df_train.label.value_counts()"
      ],
      "metadata": {
        "colab": {
          "base_uri": "https://localhost:8080/"
        },
        "id": "OqTxecZvBwBh",
        "outputId": "e74a58d9-dc81-42a2-d960-2211234ad82b"
      },
      "execution_count": 96,
      "outputs": [
        {
          "output_type": "execute_result",
          "data": {
            "text/plain": [
              "2    471774\n",
              "1    370235\n",
              "0     86792\n",
              "Name: label, dtype: int64"
            ]
          },
          "metadata": {},
          "execution_count": 96
        }
      ]
    },
    {
      "cell_type": "markdown",
      "source": [
        "Резюмируя, на этой стадии проекта удалось совсем немного улучшить качество модели, что, в целом, ожидаемо. "
      ],
      "metadata": {
        "id": "oOaz3FfKBy-f"
      }
    }
  ]
}