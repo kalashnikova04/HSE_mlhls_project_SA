{
  "nbformat": 4,
  "nbformat_minor": 0,
  "metadata": {
    "colab": {
      "provenance": []
    },
    "kernelspec": {
      "name": "python3",
      "display_name": "Python 3"
    },
    "language_info": {
      "name": "python"
    }
  },
  "cells": [
    {
      "cell_type": "code",
      "source": [
        "import pandas as pd\n",
        "import numpy as np\n",
        "import random\n",
        "import seaborn as sns\n",
        "import optuna\n",
        "import matplotlib.pyplot as plt\n",
        "%matplotlib inline\n",
        "\n",
        "\n",
        "from sklearn.model_selection import train_test_split\n",
        "from catboost import CatBoostClassifier, Pool\n",
        "from sklearn.metrics import f1_score\n",
        "\n",
        "np.random.seed(42)\n",
        "random.seed(42)"
      ],
      "metadata": {
        "id": "8qXcnwSODQWM"
      },
      "execution_count": null,
      "outputs": []
    },
    {
      "cell_type": "code",
      "source": [
        "df_train = pd.read_csv('train.csv', index_col=0) \n",
        "df_test = pd.read_csv('test.csv', index_col=0) "
      ],
      "metadata": {
        "id": "HzLeUq2GCiz2"
      },
      "execution_count": null,
      "outputs": []
    },
    {
      "cell_type": "code",
      "source": [
        "X_train, X_val, y_train, y_val = train_test_split(df_train[['text']],\n",
        "                                                    df_train['label'],\n",
        "                                                    test_size=0.3)"
      ],
      "metadata": {
        "id": "N7Wuo7afClOf"
      },
      "execution_count": null,
      "outputs": []
    },
    {
      "cell_type": "code",
      "source": [
        "X_test = df_test[['text']]\n",
        "y_test = df_test['label']"
      ],
      "metadata": {
        "id": "gRNchlKACleT"
      },
      "execution_count": null,
      "outputs": []
    },
    {
      "cell_type": "code",
      "source": [
        "text_features = ['text']"
      ],
      "metadata": {
        "id": "fHj5dmmNClrN"
      },
      "execution_count": null,
      "outputs": []
    },
    {
      "cell_type": "code",
      "source": [
        "train_pool = Pool(\n",
        "        X_train, \n",
        "        y_train, \n",
        "        text_features=text_features,\n",
        "        feature_names=text_features\n",
        "    )\n",
        "valid_pool = Pool(\n",
        "        X_val, \n",
        "        y_val, \n",
        "        text_features=text_features,\n",
        "        feature_names=text_features\n",
        "    )"
      ],
      "metadata": {
        "id": "C9sBvYVqCrcr"
      },
      "execution_count": null,
      "outputs": []
    },
    {
      "cell_type": "code",
      "source": [
        "def objective(trial):\n",
        "\n",
        "    catboost_params = {\n",
        "        \"loss_function\": 'MultiClass',\n",
        "        \"iterations\": trial.suggest_int(\"iterations\", 1000, 3000),\n",
        "        \"depth\": trial.suggest_int(\"depth\", 2, 12),\n",
        "        \"min_data_in_leaf\": trial.suggest_int(\"min_data_in_leaf\", 0, 1000),\n",
        "        \"learning_rate\": trial.suggest_float(\"learning_rate\", 0.01, 0.1),\n",
        "        'task_type': 'GPU',\n",
        "        'early_stopping_rounds': trial.suggest_int(\"early_stopping_rounds\", 100, 1000),\n",
        "        'eval_metric': 'TotalF1:average=Macro',\n",
        "        'verbose': 300\n",
        "    }\n",
        "    text_processing = {\n",
        "        \"tokenizers\" : [{\n",
        "            'tokenizer_id': 'Sense',\n",
        "            'separator_type': 'BySense',\n",
        "            'lowercasing': 'True',\n",
        "            'token_types':['Word', 'Number', 'SentenceBreak'],\n",
        "            'sub_tokens_policy':'SeveralTokens'\n",
        "        },\n",
        "        {\n",
        "            \"tokenizer_id\" : \"Space\",\n",
        "            \"separator_type\" : \"ByDelimiter\",\n",
        "            \"lowercasing\": \"True\",\n",
        "            \"delimiter\" : \" \"\n",
        "        }],\n",
        "    \n",
        "        \"dictionaries\" : [{\n",
        "            \"dictionary_id\" : \"BiGram\",\n",
        "            \"max_dictionary_size\" : \"50000\",\n",
        "            \"occurrence_lower_bound\" : \"100\",\n",
        "            \"gram_order\" : \"2\"\n",
        "        }, {\n",
        "            \"dictionary_id\" : \"Word\",\n",
        "            \"max_dictionary_size\" : \"50000\",\n",
        "            \"occurrence_lower_bound\" : \"100\",\n",
        "            \"gram_order\" : \"1\"\n",
        "        },{\n",
        "            \"dictionary_id\" : \"3-Gram\",\n",
        "            \"max_dictionary_size\" : \"50000\",\n",
        "            \"occurrence_lower_bound\" : \"100\",\n",
        "            \"gram_order\" : \"3\"\n",
        "        }],\n",
        "        \"feature_processing\" : {\n",
        "            \"default\" : [{\n",
        "                \"dictionaries_names\" : [\"BiGram\", \"Word\", \"3-Gram\"],\n",
        "                \"feature_calcers\" : [\"BoW\"],\n",
        "                \"tokenizers_names\" : [\"Space\"]\n",
        "            }, {\n",
        "                \"dictionaries_names\" : [\"Word\", \"BiGram\", \"3-Gram\"],\n",
        "                \"feature_calcers\" : [\"NaiveBayes\"],\n",
        "                \"tokenizers_names\" : [\"Space\"]\n",
        "            }],\n",
        "        }\n",
        "    }\n",
        "\n",
        "\n",
        "    model = CatBoostClassifier(**catboost_params, text_processing=text_processing) \n",
        "    model.fit(train_pool, eval_set=valid_pool)\n",
        "    preds = model.predict(X_val)\n",
        "    f1 = f1_score(y_val, preds, average='macro')\n",
        "\n",
        "    return f1"
      ],
      "metadata": {
        "id": "CjBegWTkCu_T"
      },
      "execution_count": null,
      "outputs": []
    },
    {
      "cell_type": "code",
      "source": [
        "study = optuna.create_study(direction=\"maximize\")\n",
        "study.optimize(objective, n_trials=15, timeout=6000)"
      ],
      "metadata": {
        "id": "x5sDrMRwCx0p"
      },
      "execution_count": null,
      "outputs": []
    },
    {
      "cell_type": "code",
      "source": [
        "study.best_trial.params"
      ],
      "metadata": {
        "id": "5Ii0Vs84CzTs"
      },
      "execution_count": null,
      "outputs": []
    },
    {
      "cell_type": "code",
      "source": [
        "catboost_params ={\n",
        "    'iterations': study.best_trial.params['iterations'],\n",
        "    'depth': 8,\n",
        "    'min_data_in_leaf': study.best_trial.params['min_data_in_leaf'],\n",
        "    'learning_rate': study.best_trial.params['learning_rate'],\n",
        "    'eval_metric': 'TotalF1:average=Macro',\n",
        "    \"loss_function\": 'MultiClass',\n",
        "    'task_type': 'GPU',\n",
        "    'verbose': 300,\n",
        "    'early_stopping_rounds': study.best_trial.params['early_stopping_rounds']}"
      ],
      "metadata": {
        "id": "xLgZiERdC51F"
      },
      "execution_count": null,
      "outputs": []
    },
    {
      "cell_type": "code",
      "source": [
        "model = CatBoostClassifier(**catboost_params) \n",
        "model.fit(train_pool, eval_set=valid_pool)"
      ],
      "metadata": {
        "id": "3umhg0IHDCVo"
      },
      "execution_count": null,
      "outputs": []
    },
    {
      "cell_type": "code",
      "source": [
        "preds = model.predict(X_test)"
      ],
      "metadata": {
        "id": "N9tCs2bWDIbE"
      },
      "execution_count": null,
      "outputs": []
    },
    {
      "cell_type": "code",
      "source": [
        "probs = model.predict_proba(X_test)"
      ],
      "metadata": {
        "id": "v3C4oYuPDJyZ"
      },
      "execution_count": null,
      "outputs": []
    }
  ]
}