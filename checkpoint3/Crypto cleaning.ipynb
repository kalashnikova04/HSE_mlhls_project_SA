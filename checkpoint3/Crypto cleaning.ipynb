{
 "cells": [
  {
   "cell_type": "markdown",
   "metadata": {},
   "source": [
    "## Читаем данные с двух листов и кладём в датафрейм"
   ]
  },
  {
   "cell_type": "code",
   "execution_count": 1,
   "metadata": {},
   "outputs": [
    {
     "name": "stderr",
     "output_type": "stream",
     "text": [
      "Since the GPL-licensed package `unidecode` is not installed, using Python's `unicodedata` package which yields worse results.\n"
     ]
    }
   ],
   "source": [
    "import pandas as pd\n",
    "import nltk\n",
    "\n",
    "from cleantext import clean\n",
    "from tqdm import tqdm, tqdm_pandas\n",
    "from nltk.stem import WordNetLemmatizer\n",
    "from wordcloud import WordCloud, STOPWORDS\n",
    "from matplotlib import pyplot as plt"
   ]
  },
  {
   "cell_type": "code",
   "execution_count": 175,
   "metadata": {},
   "outputs": [
    {
     "data": {
      "text/plain": [
       "{'stocktwits_1':                                                      text  label\n",
       " 0       if you were curious, price chose the lowest ch...      1\n",
       " 1                  true, not even 10k followers here yet.      1\n",
       " 2       dogecoin co-founder billy markus hits back at ...      1\n",
       " 3        i’m curious, do any bulls have a price where ...      1\n",
       " 4                  friday everybody buy 10 more on friday      2\n",
       " ...                                                   ...    ...\n",
       " 599995  so did i 850% with ! get in below a dollar. st...      2\n",
       " 599996  notice it’s the same few brain dead people bas...      2\n",
       " 599997  attention!!! anyone under the age of 18…. stea...      2\n",
       " 599998   dickhead bears fucked. keep your big mouths s...      2\n",
       " 599999         hit that shit and make it turn like turnip      2\n",
       " \n",
       " [600000 rows x 2 columns],\n",
       " 'stocktwits_2':                                                      text  label\n",
       " 0        trading at very low volumes, far less liquid ...      0\n",
       " 1                      we gunna hit 14k followers tonight      1\n",
       " 2       🚨 meme challenge . 🚨 whoever creates the best ...      2\n",
       " 3        see y'all tomorrow and can't wait to see ada ...      2\n",
       " 4       damn, is this going to follow the way haa been...      1\n",
       " ...                                                   ...    ...\n",
       " 731692  i tried well now the haters are -45% or liquid...      0\n",
       " 731693   i'd be pretty happy if bitcoin ended the year...      2\n",
       " 731694             will jump to 88 000 in no time 😬✈️✈️✈️      2\n",
       " 731695      set it and forget it, i’ll see you guys at 😉😉      2\n",
       " 731696                       man did this came to life 🥲😜      1\n",
       " \n",
       " [731697 rows x 2 columns]}"
      ]
     },
     "execution_count": 175,
     "metadata": {},
     "output_type": "execute_result"
    }
   ],
   "source": [
    "df_excel =  pd.read_excel('st-data-full.xlsx', sheet_name=['stocktwits_1', 'stocktwits_2'])\n",
    "df_excel"
   ]
  },
  {
   "cell_type": "code",
   "execution_count": 176,
   "metadata": {},
   "outputs": [],
   "source": [
    "df = pd.concat([df_excel['stocktwits_1'], df_excel['stocktwits_2']], axis=0)"
   ]
  },
  {
   "cell_type": "markdown",
   "metadata": {},
   "source": [
    "## Удаляем дубликаты и пустые твиты"
   ]
  },
  {
   "cell_type": "code",
   "execution_count": 177,
   "metadata": {},
   "outputs": [],
   "source": [
    "df = df.dropna().drop_duplicates()"
   ]
  },
  {
   "cell_type": "code",
   "execution_count": 178,
   "metadata": {},
   "outputs": [],
   "source": [
    "df = df.reset_index(drop=True)"
   ]
  },
  {
   "cell_type": "code",
   "execution_count": 181,
   "metadata": {
    "scrolled": true
   },
   "outputs": [
    {
     "data": {
      "text/html": [
       "<div>\n",
       "<style scoped>\n",
       "    .dataframe tbody tr th:only-of-type {\n",
       "        vertical-align: middle;\n",
       "    }\n",
       "\n",
       "    .dataframe tbody tr th {\n",
       "        vertical-align: top;\n",
       "    }\n",
       "\n",
       "    .dataframe thead th {\n",
       "        text-align: right;\n",
       "    }\n",
       "</style>\n",
       "<table border=\"1\" class=\"dataframe\">\n",
       "  <thead>\n",
       "    <tr style=\"text-align: right;\">\n",
       "      <th></th>\n",
       "      <th>text</th>\n",
       "      <th>label</th>\n",
       "    </tr>\n",
       "  </thead>\n",
       "  <tbody>\n",
       "    <tr>\n",
       "      <th>155552</th>\n",
       "      <td>this has no use case, it is a speculative ass...</td>\n",
       "      <td>0</td>\n",
       "    </tr>\n",
       "    <tr>\n",
       "      <th>754152</th>\n",
       "      <td>just keep on shorting. 😊</td>\n",
       "      <td>0</td>\n",
       "    </tr>\n",
       "    <tr>\n",
       "      <th>434837</th>\n",
       "      <td>think smart and short</td>\n",
       "      <td>0</td>\n",
       "    </tr>\n",
       "    <tr>\n",
       "      <th>551149</th>\n",
       "      <td>straight back down dummies 🤣🧨🧨🧨🧨🧨🧨🧨🩸</td>\n",
       "      <td>0</td>\n",
       "    </tr>\n",
       "    <tr>\n",
       "      <th>109343</th>\n",
       "      <td>6 month low! how is it a bull market still!?</td>\n",
       "      <td>0</td>\n",
       "    </tr>\n",
       "    <tr>\n",
       "      <th>791063</th>\n",
       "      <td>lmao i love this i love shattering hopes and ...</td>\n",
       "      <td>0</td>\n",
       "    </tr>\n",
       "    <tr>\n",
       "      <th>799341</th>\n",
       "      <td>they said 100k when in reality, it should be ...</td>\n",
       "      <td>0</td>\n",
       "    </tr>\n",
       "    <tr>\n",
       "      <th>92481</th>\n",
       "      <td>holy shit - rewards program shuttered???</td>\n",
       "      <td>0</td>\n",
       "    </tr>\n",
       "    <tr>\n",
       "      <th>208129</th>\n",
       "      <td>who thinks bloodbath tomorrow? not bearish on ...</td>\n",
       "      <td>0</td>\n",
       "    </tr>\n",
       "    <tr>\n",
       "      <th>533903</th>\n",
       "      <td>volatility kills crypto now.</td>\n",
       "      <td>0</td>\n",
       "    </tr>\n",
       "  </tbody>\n",
       "</table>\n",
       "</div>"
      ],
      "text/plain": [
       "                                                     text  label\n",
       "155552   this has no use case, it is a speculative ass...      0\n",
       "754152                           just keep on shorting. 😊      0\n",
       "434837                              think smart and short      0\n",
       "551149               straight back down dummies 🤣🧨🧨🧨🧨🧨🧨🧨🩸      0\n",
       "109343       6 month low! how is it a bull market still!?      0\n",
       "791063   lmao i love this i love shattering hopes and ...      0\n",
       "799341   they said 100k when in reality, it should be ...      0\n",
       "92481            holy shit - rewards program shuttered???      0\n",
       "208129  who thinks bloodbath tomorrow? not bearish on ...      0\n",
       "533903                      volatility kills crypto now.       0"
      ]
     },
     "execution_count": 181,
     "metadata": {},
     "output_type": "execute_result"
    }
   ],
   "source": [
    "df[df['label'] == 0].sample(10)"
   ]
  },
  {
   "cell_type": "code",
   "execution_count": 182,
   "metadata": {},
   "outputs": [
    {
     "data": {
      "text/html": [
       "<div>\n",
       "<style scoped>\n",
       "    .dataframe tbody tr th:only-of-type {\n",
       "        vertical-align: middle;\n",
       "    }\n",
       "\n",
       "    .dataframe tbody tr th {\n",
       "        vertical-align: top;\n",
       "    }\n",
       "\n",
       "    .dataframe thead th {\n",
       "        text-align: right;\n",
       "    }\n",
       "</style>\n",
       "<table border=\"1\" class=\"dataframe\">\n",
       "  <thead>\n",
       "    <tr style=\"text-align: right;\">\n",
       "      <th></th>\n",
       "      <th>text</th>\n",
       "      <th>label</th>\n",
       "    </tr>\n",
       "  </thead>\n",
       "  <tbody>\n",
       "    <tr>\n",
       "      <th>989592</th>\n",
       "      <td>when you hear, “support is bla bla”.</td>\n",
       "      <td>0</td>\n",
       "    </tr>\n",
       "    <tr>\n",
       "      <th>146393</th>\n",
       "      <td>fox business: nft of jack dorsey's first tweet...</td>\n",
       "      <td>0</td>\n",
       "    </tr>\n",
       "    <tr>\n",
       "      <th>863188</th>\n",
       "      <td>you know, inflation is in your head</td>\n",
       "      <td>0</td>\n",
       "    </tr>\n",
       "    <tr>\n",
       "      <th>1101643</th>\n",
       "      <td>pumping on 0 volume</td>\n",
       "      <td>0</td>\n",
       "    </tr>\n",
       "    <tr>\n",
       "      <th>468004</th>\n",
       "      <td>i don’t know… better be ’s just too boring now</td>\n",
       "      <td>0</td>\n",
       "    </tr>\n",
       "    <tr>\n",
       "      <th>845024</th>\n",
       "      <td>last time bitcoin was in this position it went...</td>\n",
       "      <td>0</td>\n",
       "    </tr>\n",
       "    <tr>\n",
       "      <th>62565</th>\n",
       "      <td>wow. not even the floor either.</td>\n",
       "      <td>0</td>\n",
       "    </tr>\n",
       "    <tr>\n",
       "      <th>138032</th>\n",
       "      <td>i call it the toe = taper + omicron +evergran...</td>\n",
       "      <td>0</td>\n",
       "    </tr>\n",
       "    <tr>\n",
       "      <th>35951</th>\n",
       "      <td>taking munger’s and buffets advice</td>\n",
       "      <td>0</td>\n",
       "    </tr>\n",
       "    <tr>\n",
       "      <th>200646</th>\n",
       "      <td>mooboys now is the time to load up on this pu...</td>\n",
       "      <td>0</td>\n",
       "    </tr>\n",
       "  </tbody>\n",
       "</table>\n",
       "</div>"
      ],
      "text/plain": [
       "                                                      text  label\n",
       "989592               when you hear, “support is bla bla”.       0\n",
       "146393   fox business: nft of jack dorsey's first tweet...      0\n",
       "863188                 you know, inflation is in your head      0\n",
       "1101643                                pumping on 0 volume      0\n",
       "468004      i don’t know… better be ’s just too boring now      0\n",
       "845024   last time bitcoin was in this position it went...      0\n",
       "62565                      wow. not even the floor either.      0\n",
       "138032    i call it the toe = taper + omicron +evergran...      0\n",
       "35951                   taking munger’s and buffets advice      0\n",
       "200646    mooboys now is the time to load up on this pu...      0"
      ]
     },
     "execution_count": 182,
     "metadata": {},
     "output_type": "execute_result"
    }
   ],
   "source": [
    "df[df['label'] == 0].sample(10)"
   ]
  },
  {
   "cell_type": "code",
   "execution_count": 183,
   "metadata": {},
   "outputs": [
    {
     "data": {
      "text/html": [
       "<div>\n",
       "<style scoped>\n",
       "    .dataframe tbody tr th:only-of-type {\n",
       "        vertical-align: middle;\n",
       "    }\n",
       "\n",
       "    .dataframe tbody tr th {\n",
       "        vertical-align: top;\n",
       "    }\n",
       "\n",
       "    .dataframe thead th {\n",
       "        text-align: right;\n",
       "    }\n",
       "</style>\n",
       "<table border=\"1\" class=\"dataframe\">\n",
       "  <thead>\n",
       "    <tr style=\"text-align: right;\">\n",
       "      <th></th>\n",
       "      <th>text</th>\n",
       "      <th>label</th>\n",
       "    </tr>\n",
       "  </thead>\n",
       "  <tbody>\n",
       "    <tr>\n",
       "      <th>741172</th>\n",
       "      <td>china gave up z………...</td>\n",
       "      <td>1</td>\n",
       "    </tr>\n",
       "    <tr>\n",
       "      <th>1263089</th>\n",
       "      <td>crypto exchanges are just the fee vultures of...</td>\n",
       "      <td>1</td>\n",
       "    </tr>\n",
       "    <tr>\n",
       "      <th>224748</th>\n",
       "      <td>3.6m americans to use crypto to make a purchas...</td>\n",
       "      <td>1</td>\n",
       "    </tr>\n",
       "    <tr>\n",
       "      <th>917185</th>\n",
       "      <td>lol, the wallets will not have any impact on t...</td>\n",
       "      <td>1</td>\n",
       "    </tr>\n",
       "    <tr>\n",
       "      <th>367718</th>\n",
       "      <td>when do we fall off the cliff? 😝</td>\n",
       "      <td>1</td>\n",
       "    </tr>\n",
       "    <tr>\n",
       "      <th>556509</th>\n",
       "      <td>berry silbert shorting it down to 1 billion. t...</td>\n",
       "      <td>1</td>\n",
       "    </tr>\n",
       "    <tr>\n",
       "      <th>1184754</th>\n",
       "      <td>f yea war’s on and btc pumping</td>\n",
       "      <td>1</td>\n",
       "    </tr>\n",
       "    <tr>\n",
       "      <th>800946</th>\n",
       "      <td>so it was a bull trap</td>\n",
       "      <td>1</td>\n",
       "    </tr>\n",
       "    <tr>\n",
       "      <th>126602</th>\n",
       "      <td>that price action was a transaction. as soon ...</td>\n",
       "      <td>1</td>\n",
       "    </tr>\n",
       "    <tr>\n",
       "      <th>665267</th>\n",
       "      <td>what’s happening here?? why it dropped?? any n...</td>\n",
       "      <td>1</td>\n",
       "    </tr>\n",
       "  </tbody>\n",
       "</table>\n",
       "</div>"
      ],
      "text/plain": [
       "                                                      text  label\n",
       "741172                               china gave up z………...      1\n",
       "1263089   crypto exchanges are just the fee vultures of...      1\n",
       "224748   3.6m americans to use crypto to make a purchas...      1\n",
       "917185   lol, the wallets will not have any impact on t...      1\n",
       "367718                    when do we fall off the cliff? 😝      1\n",
       "556509   berry silbert shorting it down to 1 billion. t...      1\n",
       "1184754                     f yea war’s on and btc pumping      1\n",
       "800946                               so it was a bull trap      1\n",
       "126602    that price action was a transaction. as soon ...      1\n",
       "665267   what’s happening here?? why it dropped?? any n...      1"
      ]
     },
     "execution_count": 183,
     "metadata": {},
     "output_type": "execute_result"
    }
   ],
   "source": [
    "df[df['label'] == 1].sample(10)"
   ]
  },
  {
   "cell_type": "code",
   "execution_count": 184,
   "metadata": {},
   "outputs": [
    {
     "data": {
      "text/html": [
       "<div>\n",
       "<style scoped>\n",
       "    .dataframe tbody tr th:only-of-type {\n",
       "        vertical-align: middle;\n",
       "    }\n",
       "\n",
       "    .dataframe tbody tr th {\n",
       "        vertical-align: top;\n",
       "    }\n",
       "\n",
       "    .dataframe thead th {\n",
       "        text-align: right;\n",
       "    }\n",
       "</style>\n",
       "<table border=\"1\" class=\"dataframe\">\n",
       "  <thead>\n",
       "    <tr style=\"text-align: right;\">\n",
       "      <th></th>\n",
       "      <th>text</th>\n",
       "      <th>label</th>\n",
       "    </tr>\n",
       "  </thead>\n",
       "  <tbody>\n",
       "    <tr>\n",
       "      <th>177336</th>\n",
       "      <td>bears need to learn that in the long term, yo...</td>\n",
       "      <td>2</td>\n",
       "    </tr>\n",
       "    <tr>\n",
       "      <th>597482</th>\n",
       "      <td>we hit the magic number, 🚀</td>\n",
       "      <td>2</td>\n",
       "    </tr>\n",
       "    <tr>\n",
       "      <th>389425</th>\n",
       "      <td>what’s the news with this one anyone knows</td>\n",
       "      <td>2</td>\n",
       "    </tr>\n",
       "    <tr>\n",
       "      <th>231639</th>\n",
       "      <td>when people tell me bitcoin isn’t going to</td>\n",
       "      <td>2</td>\n",
       "    </tr>\n",
       "    <tr>\n",
       "      <th>1025139</th>\n",
       "      <td>what goes down musk go up!!</td>\n",
       "      <td>2</td>\n",
       "    </tr>\n",
       "    <tr>\n",
       "      <th>234144</th>\n",
       "      <td>it’s insane that covid fears are still a thing.</td>\n",
       "      <td>2</td>\n",
       "    </tr>\n",
       "    <tr>\n",
       "      <th>626984</th>\n",
       "      <td>the entire reason the price is being like a li...</td>\n",
       "      <td>2</td>\n",
       "    </tr>\n",
       "    <tr>\n",
       "      <th>368314</th>\n",
       "      <td>gbtc is a sure win for the next 4 months</td>\n",
       "      <td>2</td>\n",
       "    </tr>\n",
       "    <tr>\n",
       "      <th>667340</th>\n",
       "      <td>you guys need to chil the fuck out we need it ...</td>\n",
       "      <td>2</td>\n",
       "    </tr>\n",
       "    <tr>\n",
       "      <th>1043276</th>\n",
       "      <td>come to in the mean time 18 mill mc low supply...</td>\n",
       "      <td>2</td>\n",
       "    </tr>\n",
       "  </tbody>\n",
       "</table>\n",
       "</div>"
      ],
      "text/plain": [
       "                                                      text  label\n",
       "177336    bears need to learn that in the long term, yo...      2\n",
       "597482                          we hit the magic number, 🚀      2\n",
       "389425          what’s the news with this one anyone knows      2\n",
       "231639         when people tell me bitcoin isn’t going to       2\n",
       "1025139                        what goes down musk go up!!      2\n",
       "234144    it’s insane that covid fears are still a thing.       2\n",
       "626984   the entire reason the price is being like a li...      2\n",
       "368314            gbtc is a sure win for the next 4 months      2\n",
       "667340   you guys need to chil the fuck out we need it ...      2\n",
       "1043276  come to in the mean time 18 mill mc low supply...      2"
      ]
     },
     "execution_count": 184,
     "metadata": {},
     "output_type": "execute_result"
    }
   ],
   "source": [
    "df[df['label'] == 2].sample(10)"
   ]
  },
  {
   "cell_type": "code",
   "execution_count": 185,
   "metadata": {},
   "outputs": [
    {
     "data": {
      "text/plain": [
       "' this ain’t even the bounce the real bounce is at all time high'"
      ]
     },
     "execution_count": 185,
     "metadata": {},
     "output_type": "execute_result"
    }
   ],
   "source": [
    "df.loc[951956].text"
   ]
  },
  {
   "cell_type": "code",
   "execution_count": 186,
   "metadata": {},
   "outputs": [
    {
     "data": {
      "text/html": [
       "<div>\n",
       "<style scoped>\n",
       "    .dataframe tbody tr th:only-of-type {\n",
       "        vertical-align: middle;\n",
       "    }\n",
       "\n",
       "    .dataframe tbody tr th {\n",
       "        vertical-align: top;\n",
       "    }\n",
       "\n",
       "    .dataframe thead th {\n",
       "        text-align: right;\n",
       "    }\n",
       "</style>\n",
       "<table border=\"1\" class=\"dataframe\">\n",
       "  <thead>\n",
       "    <tr style=\"text-align: right;\">\n",
       "      <th></th>\n",
       "      <th>text</th>\n",
       "      <th>label</th>\n",
       "    </tr>\n",
       "  </thead>\n",
       "  <tbody>\n",
       "    <tr>\n",
       "      <th>0</th>\n",
       "      <td>if you were curious, price chose the lowest ch...</td>\n",
       "      <td>1</td>\n",
       "    </tr>\n",
       "    <tr>\n",
       "      <th>1</th>\n",
       "      <td>true, not even 10k followers here yet.</td>\n",
       "      <td>1</td>\n",
       "    </tr>\n",
       "    <tr>\n",
       "      <th>2</th>\n",
       "      <td>dogecoin co-founder billy markus hits back at ...</td>\n",
       "      <td>1</td>\n",
       "    </tr>\n",
       "    <tr>\n",
       "      <th>3</th>\n",
       "      <td>i’m curious, do any bulls have a price where ...</td>\n",
       "      <td>1</td>\n",
       "    </tr>\n",
       "    <tr>\n",
       "      <th>4</th>\n",
       "      <td>friday everybody buy 10 more on friday</td>\n",
       "      <td>2</td>\n",
       "    </tr>\n",
       "    <tr>\n",
       "      <th>...</th>\n",
       "      <td>...</td>\n",
       "      <td>...</td>\n",
       "    </tr>\n",
       "    <tr>\n",
       "      <th>1326854</th>\n",
       "      <td>i tried well now the haters are -45% or liquid...</td>\n",
       "      <td>0</td>\n",
       "    </tr>\n",
       "    <tr>\n",
       "      <th>1326855</th>\n",
       "      <td>i'd be pretty happy if bitcoin ended the year...</td>\n",
       "      <td>2</td>\n",
       "    </tr>\n",
       "    <tr>\n",
       "      <th>1326856</th>\n",
       "      <td>will jump to 88 000 in no time 😬✈️✈️✈️</td>\n",
       "      <td>2</td>\n",
       "    </tr>\n",
       "    <tr>\n",
       "      <th>1326857</th>\n",
       "      <td>set it and forget it, i’ll see you guys at 😉😉</td>\n",
       "      <td>2</td>\n",
       "    </tr>\n",
       "    <tr>\n",
       "      <th>1326858</th>\n",
       "      <td>man did this came to life 🥲😜</td>\n",
       "      <td>1</td>\n",
       "    </tr>\n",
       "  </tbody>\n",
       "</table>\n",
       "<p>1326859 rows × 2 columns</p>\n",
       "</div>"
      ],
      "text/plain": [
       "                                                      text  label\n",
       "0        if you were curious, price chose the lowest ch...      1\n",
       "1                   true, not even 10k followers here yet.      1\n",
       "2        dogecoin co-founder billy markus hits back at ...      1\n",
       "3         i’m curious, do any bulls have a price where ...      1\n",
       "4                   friday everybody buy 10 more on friday      2\n",
       "...                                                    ...    ...\n",
       "1326854  i tried well now the haters are -45% or liquid...      0\n",
       "1326855   i'd be pretty happy if bitcoin ended the year...      2\n",
       "1326856             will jump to 88 000 in no time 😬✈️✈️✈️      2\n",
       "1326857      set it and forget it, i’ll see you guys at 😉😉      2\n",
       "1326858                       man did this came to life 🥲😜      1\n",
       "\n",
       "[1326859 rows x 2 columns]"
      ]
     },
     "execution_count": 186,
     "metadata": {},
     "output_type": "execute_result"
    }
   ],
   "source": [
    "df.reset_index(drop=True)"
   ]
  },
  {
   "cell_type": "code",
   "execution_count": 188,
   "metadata": {},
   "outputs": [
    {
     "name": "stderr",
     "output_type": "stream",
     "text": [
      "100%|██████████████████████████████| 1326859/1326859 [02:02<00:00, 10875.40it/s]\n"
     ]
    },
    {
     "name": "stdout",
     "output_type": "stream",
     "text": [
      "CPU times: user 2min, sys: 1.39 s, total: 2min 1s\n",
      "Wall time: 2min 2s\n"
     ]
    },
    {
     "data": {
      "text/plain": [
       "0          if you were curious price chose the lowest cha...\n",
       "1                       true not even 00k followers here yet\n",
       "2          dogecoin cofounder billy markus hits back at m...\n",
       "3          im curious do any bulls have a price where the...\n",
       "4               friday everybody buy <number> more on friday\n",
       "                                 ...                        \n",
       "1326854    i tried well now the haters are <number> or li...\n",
       "1326855    id be pretty happy if bitcoin ended the year a...\n",
       "1326856                     will jump to <number> in no time\n",
       "1326857             set it and forget it ill see you guys at\n",
       "1326858                            man did this came to life\n",
       "Name: cleaned_text, Length: 1326859, dtype: object"
      ]
     },
     "execution_count": 188,
     "metadata": {},
     "output_type": "execute_result"
    }
   ],
   "source": [
    "%%time\n",
    "tqdm.pandas()\n",
    "#удалим эмодзи\n",
    "df['cleaned_text'] = df.text.progress_apply(clean, no_emoji=True,\n",
    "                                                  no_punct=True, \n",
    "                                                  no_currency_symbols=True,\n",
    "                                                  no_digits=True,\n",
    "                                                  no_numbers=True)\n",
    "df['cleaned_text']"
   ]
  },
  {
   "cell_type": "code",
   "execution_count": 189,
   "metadata": {},
   "outputs": [
    {
     "name": "stdout",
     "output_type": "stream",
     "text": [
      "<class 'pandas.core.frame.DataFrame'>\n",
      "RangeIndex: 1326859 entries, 0 to 1326858\n",
      "Data columns (total 3 columns):\n",
      " #   Column        Non-Null Count    Dtype \n",
      "---  ------        --------------    ----- \n",
      " 0   text          1326859 non-null  object\n",
      " 1   label         1326859 non-null  int64 \n",
      " 2   cleaned_text  1326859 non-null  object\n",
      "dtypes: int64(1), object(2)\n",
      "memory usage: 30.4+ MB\n"
     ]
    }
   ],
   "source": [
    "df.info()"
   ]
  },
  {
   "cell_type": "code",
   "execution_count": 190,
   "metadata": {},
   "outputs": [
    {
     "name": "stderr",
     "output_type": "stream",
     "text": [
      "/var/folders/tm/0mr7bwxj05qfsq9gn9fl6bfc0000gn/T/ipykernel_90091/1261350415.py:1: FutureWarning: The default value of regex will change from True to False in a future version.\n",
      "  df['cleaned_text'] = df['cleaned_text'].str.replace('\\d+\\w', '')\n"
     ]
    }
   ],
   "source": [
    "df['cleaned_text'] = df['cleaned_text'].str.replace('\\d+\\w', '')"
   ]
  },
  {
   "cell_type": "code",
   "execution_count": 192,
   "metadata": {},
   "outputs": [
    {
     "name": "stderr",
     "output_type": "stream",
     "text": [
      "100%|███████████████████████████████| 1326859/1326859 [03:23<00:00, 6518.30it/s]\n"
     ]
    }
   ],
   "source": [
    "df['tokenized_text'] = df.progress_apply(lambda row: nltk.word_tokenize(row['cleaned_text']), axis=1)"
   ]
  },
  {
   "cell_type": "code",
   "execution_count": 193,
   "metadata": {},
   "outputs": [
    {
     "data": {
      "text/plain": [
       "0          [if, you, were, curious, price, chose, the, lo...\n",
       "1                    [true, not, even, followers, here, yet]\n",
       "2          [dogecoin, cofounder, billy, markus, hits, bac...\n",
       "3          [im, curious, do, any, bulls, have, a, price, ...\n",
       "4          [friday, everybody, buy, <, number, >, more, o...\n",
       "                                 ...                        \n",
       "1326854    [i, tried, well, now, the, haters, are, <, num...\n",
       "1326855    [id, be, pretty, happy, if, bitcoin, ended, th...\n",
       "1326856         [will, jump, to, <, number, >, in, no, time]\n",
       "1326857    [set, it, and, forget, it, ill, see, you, guys...\n",
       "1326858                     [man, did, this, came, to, life]\n",
       "Name: tokenized_text, Length: 1326859, dtype: object"
      ]
     },
     "execution_count": 193,
     "metadata": {},
     "output_type": "execute_result"
    }
   ],
   "source": [
    "df['tokenized_text']"
   ]
  },
  {
   "cell_type": "code",
   "execution_count": 194,
   "metadata": {},
   "outputs": [],
   "source": [
    "stopwords = nltk.corpus.stopwords.words('english')"
   ]
  },
  {
   "cell_type": "code",
   "execution_count": 196,
   "metadata": {},
   "outputs": [],
   "source": [
    "stopwords.append('>')\n",
    "stopwords.append('<')\n",
    "stopwords.append('number')"
   ]
  },
  {
   "cell_type": "code",
   "execution_count": 197,
   "metadata": {},
   "outputs": [],
   "source": [
    "def remove_stopwords(text):\n",
    "    output= [i for i in text if i not in stopwords]\n",
    "    return output"
   ]
  },
  {
   "cell_type": "code",
   "execution_count": 198,
   "metadata": {},
   "outputs": [
    {
     "name": "stderr",
     "output_type": "stream",
     "text": [
      "100%|██████████████████████████████| 1326859/1326859 [00:39<00:00, 33760.25it/s]\n"
     ]
    }
   ],
   "source": [
    "df['no_stopwords']= df['tokenized_text'].progress_apply(lambda x:remove_stopwords(x))"
   ]
  },
  {
   "cell_type": "code",
   "execution_count": 199,
   "metadata": {},
   "outputs": [
    {
     "data": {
      "text/plain": [
       "0          [curious, price, chose, lowest, chamber, good,...\n",
       "1                               [true, even, followers, yet]\n",
       "2          [dogecoin, cofounder, billy, markus, hits, bac...\n",
       "3          [im, curious, bulls, price, pull, either, posi...\n",
       "4                           [friday, everybody, buy, friday]\n",
       "                                 ...                        \n",
       "1326854                    [tried, well, haters, liquidated]\n",
       "1326855    [id, pretty, happy, bitcoin, ended, year, less...\n",
       "1326856                                         [jump, time]\n",
       "1326857                        [set, forget, ill, see, guys]\n",
       "1326858                                    [man, came, life]\n",
       "Name: no_stopwords, Length: 1326859, dtype: object"
      ]
     },
     "execution_count": 199,
     "metadata": {},
     "output_type": "execute_result"
    }
   ],
   "source": [
    "df['no_stopwords']"
   ]
  },
  {
   "cell_type": "code",
   "execution_count": 200,
   "metadata": {},
   "outputs": [],
   "source": [
    "#defining the object for Lemmatization\n",
    "wordnet_lemmatizer = WordNetLemmatizer()"
   ]
  },
  {
   "cell_type": "code",
   "execution_count": 201,
   "metadata": {},
   "outputs": [
    {
     "name": "stderr",
     "output_type": "stream",
     "text": [
      "100%|██████████████████████████████| 1326859/1326859 [01:26<00:00, 15319.35it/s]\n"
     ]
    }
   ],
   "source": [
    "#defining the function for lemmatization\n",
    "def lemmatizer(text):\n",
    "    lemm_text = [wordnet_lemmatizer.lemmatize(word) for word in text]\n",
    "    return lemm_text\n",
    "df['text_lemmatized']=df['no_stopwords'].progress_apply(lambda x:lemmatizer(x))"
   ]
  },
  {
   "cell_type": "code",
   "execution_count": 202,
   "metadata": {},
   "outputs": [
    {
     "data": {
      "text/plain": [
       "0          [curious, price, chose, lowest, chamber, good,...\n",
       "1                                [true, even, follower, yet]\n",
       "2          [dogecoin, cofounder, billy, markus, hit, back...\n",
       "3          [im, curious, bull, price, pull, either, posit...\n",
       "4                           [friday, everybody, buy, friday]\n",
       "                                 ...                        \n",
       "1326854                     [tried, well, hater, liquidated]\n",
       "1326855    [id, pretty, happy, bitcoin, ended, year, le, ...\n",
       "1326856                                         [jump, time]\n",
       "1326857                         [set, forget, ill, see, guy]\n",
       "1326858                                    [man, came, life]\n",
       "Name: text_lemmatized, Length: 1326859, dtype: object"
      ]
     },
     "execution_count": 202,
     "metadata": {},
     "output_type": "execute_result"
    }
   ],
   "source": [
    "df['text_lemmatized']"
   ]
  },
  {
   "cell_type": "code",
   "execution_count": 203,
   "metadata": {},
   "outputs": [],
   "source": [
    "df.loc[:,['text','label', 'text_lemmatized']].to_csv('preprocessed_text.csv')"
   ]
  }
 ],
 "metadata": {
  "kernelspec": {
   "display_name": "Python 3",
   "language": "python",
   "name": "python3"
  },
  "language_info": {
   "codemirror_mode": {
    "name": "ipython",
    "version": 3
   },
   "file_extension": ".py",
   "mimetype": "text/x-python",
   "name": "python",
   "nbconvert_exporter": "python",
   "pygments_lexer": "ipython3",
   "version": "3.8.5"
  }
 },
 "nbformat": 4,
 "nbformat_minor": 4
}
