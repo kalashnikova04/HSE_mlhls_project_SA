{
  "nbformat": 4,
  "nbformat_minor": 0,
  "metadata": {
    "colab": {
      "provenance": []
    },
    "kernelspec": {
      "name": "python3",
      "display_name": "Python 3"
    },
    "language_info": {
      "name": "python"
    }
  },
  "cells": [
    {
      "cell_type": "markdown",
      "source": [
        "## DL Text Classification"
      ],
      "metadata": {
        "id": "-wTNFYXBAZAd"
      }
    },
    {
      "cell_type": "markdown",
      "source": [
        "Пайплайн взят из примеров торча для текстовой классификации."
      ],
      "metadata": {
        "id": "LspdzmJ_vhmS"
      }
    },
    {
      "cell_type": "code",
      "source": [
        "# !pip install torchmetrics"
      ],
      "metadata": {
        "id": "-rvbk3cXL04r"
      },
      "execution_count": null,
      "outputs": []
    },
    {
      "cell_type": "code",
      "execution_count": 86,
      "metadata": {
        "id": "C1pWc4JZDTnh"
      },
      "outputs": [],
      "source": [
        "import numpy as np\n",
        "import pandas as pd\n",
        "from sklearn.model_selection import train_test_split\n",
        "\n",
        "import torch\n",
        "from torchtext import data\n",
        "from torch.utils.data import DataLoader\n",
        "\n",
        "import torch.nn as nn\n",
        "from torchtext.vocab import build_vocab_from_iterator\n",
        "import time\n",
        "\n",
        "from torch.utils.data.dataset import random_split\n",
        "from torchtext.data.functional import to_map_style_dataset\n",
        "from torchmetrics.classification import Precision"
      ]
    },
    {
      "cell_type": "code",
      "source": [
        "df = pd.read_csv('preprocessed_texts.csv')\n",
        "df.head()"
      ],
      "metadata": {
        "colab": {
          "base_uri": "https://localhost:8080/",
          "height": 201
        },
        "id": "nl1IWMubNRGS",
        "outputId": "bfaf62a6-af78-4202-cb74-e03d8a7985fc"
      },
      "execution_count": 2,
      "outputs": [
        {
          "output_type": "execute_result",
          "data": {
            "text/plain": [
              "   Unnamed: 0                                               text  label  \\\n",
              "0           0   why don’t trade your btc to earn weekly rathe...      1   \n",
              "1           1   i’ll be honest, i didn’t see it sinking this ...      1   \n",
              "2           2          -x needs to break 38 to hit 4 no shit lol      1   \n",
              "3           3                   it's gonna be an all nighter ha?      1   \n",
              "4           4                    y’all should just come to cro.x      2   \n",
              "\n",
              "                                     text_lemmatized  \n",
              "0  ['dont', 'trade', 'btc', 'earn', 'weekly', 'ra...  \n",
              "1  ['ill', 'honest', 'didnt', 'see', 'sinking', '...  \n",
              "2       ['x', 'need', 'break', 'hit', 'shit', 'lol']  \n",
              "3                     ['gon', 'na', 'nighter', 'ha']  \n",
              "4                           ['yall', 'come', 'crox']  "
            ],
            "text/html": [
              "\n",
              "  <div id=\"df-c4379d47-1af1-42c9-bf6d-5c378aa55d9d\">\n",
              "    <div class=\"colab-df-container\">\n",
              "      <div>\n",
              "<style scoped>\n",
              "    .dataframe tbody tr th:only-of-type {\n",
              "        vertical-align: middle;\n",
              "    }\n",
              "\n",
              "    .dataframe tbody tr th {\n",
              "        vertical-align: top;\n",
              "    }\n",
              "\n",
              "    .dataframe thead th {\n",
              "        text-align: right;\n",
              "    }\n",
              "</style>\n",
              "<table border=\"1\" class=\"dataframe\">\n",
              "  <thead>\n",
              "    <tr style=\"text-align: right;\">\n",
              "      <th></th>\n",
              "      <th>Unnamed: 0</th>\n",
              "      <th>text</th>\n",
              "      <th>label</th>\n",
              "      <th>text_lemmatized</th>\n",
              "    </tr>\n",
              "  </thead>\n",
              "  <tbody>\n",
              "    <tr>\n",
              "      <th>0</th>\n",
              "      <td>0</td>\n",
              "      <td>why don’t trade your btc to earn weekly rathe...</td>\n",
              "      <td>1</td>\n",
              "      <td>['dont', 'trade', 'btc', 'earn', 'weekly', 'ra...</td>\n",
              "    </tr>\n",
              "    <tr>\n",
              "      <th>1</th>\n",
              "      <td>1</td>\n",
              "      <td>i’ll be honest, i didn’t see it sinking this ...</td>\n",
              "      <td>1</td>\n",
              "      <td>['ill', 'honest', 'didnt', 'see', 'sinking', '...</td>\n",
              "    </tr>\n",
              "    <tr>\n",
              "      <th>2</th>\n",
              "      <td>2</td>\n",
              "      <td>-x needs to break 38 to hit 4 no shit lol</td>\n",
              "      <td>1</td>\n",
              "      <td>['x', 'need', 'break', 'hit', 'shit', 'lol']</td>\n",
              "    </tr>\n",
              "    <tr>\n",
              "      <th>3</th>\n",
              "      <td>3</td>\n",
              "      <td>it's gonna be an all nighter ha?</td>\n",
              "      <td>1</td>\n",
              "      <td>['gon', 'na', 'nighter', 'ha']</td>\n",
              "    </tr>\n",
              "    <tr>\n",
              "      <th>4</th>\n",
              "      <td>4</td>\n",
              "      <td>y’all should just come to cro.x</td>\n",
              "      <td>2</td>\n",
              "      <td>['yall', 'come', 'crox']</td>\n",
              "    </tr>\n",
              "  </tbody>\n",
              "</table>\n",
              "</div>\n",
              "      <button class=\"colab-df-convert\" onclick=\"convertToInteractive('df-c4379d47-1af1-42c9-bf6d-5c378aa55d9d')\"\n",
              "              title=\"Convert this dataframe to an interactive table.\"\n",
              "              style=\"display:none;\">\n",
              "        \n",
              "  <svg xmlns=\"http://www.w3.org/2000/svg\" height=\"24px\"viewBox=\"0 0 24 24\"\n",
              "       width=\"24px\">\n",
              "    <path d=\"M0 0h24v24H0V0z\" fill=\"none\"/>\n",
              "    <path d=\"M18.56 5.44l.94 2.06.94-2.06 2.06-.94-2.06-.94-.94-2.06-.94 2.06-2.06.94zm-11 1L8.5 8.5l.94-2.06 2.06-.94-2.06-.94L8.5 2.5l-.94 2.06-2.06.94zm10 10l.94 2.06.94-2.06 2.06-.94-2.06-.94-.94-2.06-.94 2.06-2.06.94z\"/><path d=\"M17.41 7.96l-1.37-1.37c-.4-.4-.92-.59-1.43-.59-.52 0-1.04.2-1.43.59L10.3 9.45l-7.72 7.72c-.78.78-.78 2.05 0 2.83L4 21.41c.39.39.9.59 1.41.59.51 0 1.02-.2 1.41-.59l7.78-7.78 2.81-2.81c.8-.78.8-2.07 0-2.86zM5.41 20L4 18.59l7.72-7.72 1.47 1.35L5.41 20z\"/>\n",
              "  </svg>\n",
              "      </button>\n",
              "      \n",
              "  <style>\n",
              "    .colab-df-container {\n",
              "      display:flex;\n",
              "      flex-wrap:wrap;\n",
              "      gap: 12px;\n",
              "    }\n",
              "\n",
              "    .colab-df-convert {\n",
              "      background-color: #E8F0FE;\n",
              "      border: none;\n",
              "      border-radius: 50%;\n",
              "      cursor: pointer;\n",
              "      display: none;\n",
              "      fill: #1967D2;\n",
              "      height: 32px;\n",
              "      padding: 0 0 0 0;\n",
              "      width: 32px;\n",
              "    }\n",
              "\n",
              "    .colab-df-convert:hover {\n",
              "      background-color: #E2EBFA;\n",
              "      box-shadow: 0px 1px 2px rgba(60, 64, 67, 0.3), 0px 1px 3px 1px rgba(60, 64, 67, 0.15);\n",
              "      fill: #174EA6;\n",
              "    }\n",
              "\n",
              "    [theme=dark] .colab-df-convert {\n",
              "      background-color: #3B4455;\n",
              "      fill: #D2E3FC;\n",
              "    }\n",
              "\n",
              "    [theme=dark] .colab-df-convert:hover {\n",
              "      background-color: #434B5C;\n",
              "      box-shadow: 0px 1px 3px 1px rgba(0, 0, 0, 0.15);\n",
              "      filter: drop-shadow(0px 1px 2px rgba(0, 0, 0, 0.3));\n",
              "      fill: #FFFFFF;\n",
              "    }\n",
              "  </style>\n",
              "\n",
              "      <script>\n",
              "        const buttonEl =\n",
              "          document.querySelector('#df-c4379d47-1af1-42c9-bf6d-5c378aa55d9d button.colab-df-convert');\n",
              "        buttonEl.style.display =\n",
              "          google.colab.kernel.accessAllowed ? 'block' : 'none';\n",
              "\n",
              "        async function convertToInteractive(key) {\n",
              "          const element = document.querySelector('#df-c4379d47-1af1-42c9-bf6d-5c378aa55d9d');\n",
              "          const dataTable =\n",
              "            await google.colab.kernel.invokeFunction('convertToInteractive',\n",
              "                                                     [key], {});\n",
              "          if (!dataTable) return;\n",
              "\n",
              "          const docLinkHtml = 'Like what you see? Visit the ' +\n",
              "            '<a target=\"_blank\" href=https://colab.research.google.com/notebooks/data_table.ipynb>data table notebook</a>'\n",
              "            + ' to learn more about interactive tables.';\n",
              "          element.innerHTML = '';\n",
              "          dataTable['output_type'] = 'display_data';\n",
              "          await google.colab.output.renderOutput(dataTable, element);\n",
              "          const docLink = document.createElement('div');\n",
              "          docLink.innerHTML = docLinkHtml;\n",
              "          element.appendChild(docLink);\n",
              "        }\n",
              "      </script>\n",
              "    </div>\n",
              "  </div>\n",
              "  "
            ]
          },
          "metadata": {},
          "execution_count": 2
        }
      ]
    },
    {
      "cell_type": "code",
      "source": [
        "df['text_lemmatized'].values"
      ],
      "metadata": {
        "colab": {
          "base_uri": "https://localhost:8080/"
        },
        "id": "ainOjNiJRzf3",
        "outputId": "0dabc75c-f4ea-4188-c929-41604cdc6d2e"
      },
      "execution_count": 3,
      "outputs": [
        {
          "output_type": "execute_result",
          "data": {
            "text/plain": [
              "array([\"['dont', 'trade', 'btc', 'earn', 'weekly', 'rather', 'hodl']\",\n",
              "       \"['ill', 'honest', 'didnt', 'see', 'sinking', 'low', 'fast', 'usually', 'dump', 'got', 'least', 'one', 'day', 'stroke', 'bounce', 'back', 'ouch']\",\n",
              "       \"['x', 'need', 'break', 'hit', 'shit', 'lol']\", ...,\n",
              "       \"['im', 'happy', 'af', 'pre', 'black', 'friday', 'event']\",\n",
              "       \"['new', 'article', 'exactly', 'cardano', 'ada', 'get', 'fud']\",\n",
              "       \"['bollinger', 'band', 'rsi', 'hr', 'big', 'pump', 'coming', 'manipulate', 'u', 'sooner', 'think']\"],\n",
              "      dtype=object)"
            ]
          },
          "metadata": {},
          "execution_count": 3
        }
      ]
    },
    {
      "cell_type": "code",
      "source": [
        "# def make_lst(strng):\n",
        "#     s = []\n",
        "#     strng = strng[1:-1].split(', ')\n",
        "#     for el in strng:\n",
        "#         s.append(el[1:-1])\n",
        "#     return s"
      ],
      "metadata": {
        "id": "Mm0W62d3SBL5"
      },
      "execution_count": 4,
      "outputs": []
    },
    {
      "cell_type": "code",
      "source": [
        "# df.text_lemmatized = df.text_lemmatized.apply(make_lst)"
      ],
      "metadata": {
        "id": "bXxmMsmjSNXy"
      },
      "execution_count": 5,
      "outputs": []
    },
    {
      "cell_type": "code",
      "source": [
        "X, y = df['text_lemmatized'].values, df['label'].values"
      ],
      "metadata": {
        "id": "rkoM0fnaNY3u"
      },
      "execution_count": 31,
      "outputs": []
    },
    {
      "cell_type": "code",
      "source": [
        "X_train, X_test, y_train, y_test = train_test_split(X, y, test_size = 0.3, random_state=228)"
      ],
      "metadata": {
        "id": "MpG_c-XjNa5F"
      },
      "execution_count": 32,
      "outputs": []
    },
    {
      "cell_type": "code",
      "source": [
        "np_train = np.dstack((y_train, X_train))[0]\n",
        "np_train[0]"
      ],
      "metadata": {
        "colab": {
          "base_uri": "https://localhost:8080/"
        },
        "id": "QVzqggb_R4-p",
        "outputId": "32a1c749-8410-4b6c-866f-9e2acad6b347"
      },
      "execution_count": 33,
      "outputs": [
        {
          "output_type": "execute_result",
          "data": {
            "text/plain": [
              "array([2,\n",
              "       list(['fjb', 'take', 'back', 'america', 'vote', 'republican', 'fight', 'back', 'crime'])],\n",
              "      dtype=object)"
            ]
          },
          "metadata": {},
          "execution_count": 33
        }
      ]
    },
    {
      "cell_type": "code",
      "source": [
        "np_test = np.dstack((y_test, X_test))[0]\n",
        "np_test[0]"
      ],
      "metadata": {
        "colab": {
          "base_uri": "https://localhost:8080/"
        },
        "id": "cHYyh5Y_fLNo",
        "outputId": "b62d8cd4-eff0-4d04-ca3c-dfc860d1342f"
      },
      "execution_count": 34,
      "outputs": [
        {
          "output_type": "execute_result",
          "data": {
            "text/plain": [
              "array([1, list(['fu', 'anyone', 'happy', 'made', 'profitseriously'])],\n",
              "      dtype=object)"
            ]
          },
          "metadata": {},
          "execution_count": 34
        }
      ]
    },
    {
      "cell_type": "markdown",
      "source": [
        "Создаем итераторы данных для DataLoader"
      ],
      "metadata": {
        "id": "FgBTIqQaA6Ln"
      }
    },
    {
      "cell_type": "code",
      "source": [
        "train_iter = iter((tuple(el) for el in np_train))"
      ],
      "metadata": {
        "id": "0YchQrIFdu_e"
      },
      "execution_count": 81,
      "outputs": []
    },
    {
      "cell_type": "code",
      "source": [
        "test_iter = iter((tuple(el) for el in np_test))"
      ],
      "metadata": {
        "id": "RDivp6wWfQMW"
      },
      "execution_count": 83,
      "outputs": []
    },
    {
      "cell_type": "code",
      "source": [
        "def yield_tokens(data_iter):\n",
        "    for _, text in data_iter:\n",
        "        yield text"
      ],
      "metadata": {
        "id": "F-ffSK_mQdQ6"
      },
      "execution_count": 12,
      "outputs": []
    },
    {
      "cell_type": "code",
      "source": [
        "# Создаем словарь слов из токенов - кодируются числами\n",
        "vocab = build_vocab_from_iterator(yield_tokens(train_iter), specials=[\"<unk>\"])\n",
        "vocab.set_default_index(vocab[\"<unk>\"])"
      ],
      "metadata": {
        "id": "VicPxSXrNH7Z"
      },
      "execution_count": 27,
      "outputs": []
    },
    {
      "cell_type": "code",
      "source": [
        "vocab(['ok', 'made', 'dough', 'goin', 'buy', 'sovereign', 'debt', 'really', 'smh'])"
      ],
      "metadata": {
        "colab": {
          "base_uri": "https://localhost:8080/"
        },
        "id": "Vkcq6br-Nerq",
        "outputId": "bbcfd264-2cb5-4872-d85e-64ee07084ddc"
      },
      "execution_count": 28,
      "outputs": [
        {
          "output_type": "execute_result",
          "data": {
            "text/plain": [
              "[357, 189, 6039, 1745, 1, 4899, 1100, 96, 1107]"
            ]
          },
          "metadata": {},
          "execution_count": 28
        }
      ]
    },
    {
      "cell_type": "code",
      "source": [
        "# Пайплайны для предобрабработки данных (в будущем можно дополнить токенизатором из torch в случае сырых данных)\n",
        "text_pipeline = lambda x: vocab(x)\n",
        "label_pipeline = lambda x: int(x)"
      ],
      "metadata": {
        "id": "zjM0fyFfPfai"
      },
      "execution_count": 15,
      "outputs": []
    },
    {
      "cell_type": "code",
      "source": [
        "device = torch.device(\"cuda\" if torch.cuda.is_available() else \"cpu\")\n",
        "\n",
        "def collate_batch(batch):\n",
        "    '''\n",
        "    Функция для обработки батчей данных\n",
        "    '''\n",
        "    label_list, text_list, offsets = [], [], [0] # offsets - начальные индексы отдельных элементов в тексте \n",
        "    for (label, text) in batch:\n",
        "         label_list.append(label_pipeline(label))\n",
        "         processed_text = torch.tensor(text_pipeline(text), dtype=torch.int64)\n",
        "         text_list.append(processed_text)\n",
        "         offsets.append(processed_text.size(0))\n",
        "    label_list = torch.tensor(label_list, dtype=torch.int64)\n",
        "    offsets = torch.tensor(offsets[:-1]).cumsum(dim=0)\n",
        "    text_list = torch.cat(text_list)\n",
        "    return label_list.to(device), text_list.to(device), offsets.to(device)\n",
        "\n",
        "dataloader = DataLoader(train_iter, batch_size=8, shuffle=False, collate_fn=collate_batch)"
      ],
      "metadata": {
        "id": "BkYlzJzGS-Bf"
      },
      "execution_count": 29,
      "outputs": []
    },
    {
      "cell_type": "markdown",
      "source": [
        "Будем использовать модель с EmbeddingBag слоем - он добавляет ключевое слово к тексту и не преобразует текст каким-либо другим способом, достаточно эффективен на коротких предложениях."
      ],
      "metadata": {
        "id": "okhvzaszriTJ"
      }
    },
    {
      "cell_type": "code",
      "source": [
        "class TextClassificationModel(nn.Module):\n",
        "\n",
        "    def __init__(self, vocab_size, embed_dim, num_class):\n",
        "        super(TextClassificationModel, self).__init__()\n",
        "        self.embedding = nn.EmbeddingBag(vocab_size, embed_dim, sparse=False)\n",
        "        self.fc = nn.Linear(embed_dim, num_class)\n",
        "        self.init_weights()\n",
        "\n",
        "    def init_weights(self):\n",
        "        initrange = 0.5\n",
        "        self.embedding.weight.data.uniform_(-initrange, initrange)\n",
        "        self.fc.weight.data.uniform_(-initrange, initrange)\n",
        "        self.fc.bias.data.zero_()\n",
        "\n",
        "    def forward(self, text, offsets):\n",
        "        embedded = self.embedding(text, offsets)\n",
        "        return self.fc(embedded)"
      ],
      "metadata": {
        "id": "R4Ls3BmoTpdn"
      },
      "execution_count": 17,
      "outputs": []
    },
    {
      "cell_type": "code",
      "source": [
        "num_class = 3\n",
        "vocab_size = len(vocab)\n",
        "emsize = 64\n",
        "model = TextClassificationModel(vocab_size, emsize, num_class).to(device)"
      ],
      "metadata": {
        "id": "Hs2dqJLtT2-n"
      },
      "execution_count": 18,
      "outputs": []
    },
    {
      "cell_type": "code",
      "source": [
        "def train(dataloader):\n",
        "    model.train()\n",
        "    total_pr, total_count = 0, 0\n",
        "    log_interval = 500\n",
        "    start_time = time.time()\n",
        "\n",
        "    for idx, (label, text, offsets) in enumerate(dataloader):\n",
        "        optimizer.zero_grad()\n",
        "        predicted_label = model(text, offsets)\n",
        "        loss = criterion(predicted_label, label)\n",
        "        loss.backward()\n",
        "        torch.nn.utils.clip_grad_norm_(model.parameters(), 0.1)\n",
        "        optimizer.step()\n",
        "\n",
        "        precision = Precision(task=\"multiclass\", average='micro', num_classes=3)\n",
        "        total_pr += precision(predicted_label.argmax(1), label)\n",
        "        total_count += 1\n",
        "      \n",
        "        if idx % log_interval == 0 and idx > 0:\n",
        "            elapsed = time.time() - start_time\n",
        "            print('| epoch {:3d} | {:5d}/{:5d} batches '\n",
        "                  '| precision {:8.3f}'.format(epoch, idx, len(dataloader),\n",
        "                                              total_pr/total_count))\n",
        "            total_pr, total_count = 0, 0\n",
        "            start_time = time.time()\n",
        "\n",
        "def evaluate(dataloader):\n",
        "    model.eval()\n",
        "    total_pr, total_count = 0, 0\n",
        "\n",
        "    with torch.no_grad():\n",
        "        for idx, (label, text, offsets) in enumerate(dataloader):\n",
        "            predicted_label = model(text, offsets)\n",
        "            loss = criterion(predicted_label, label)\n",
        "            precision = Precision(task=\"multiclass\", average='micro', num_classes=3)\n",
        "            total_pr += precision(predicted_label.argmax(1), label)\n",
        "            total_count += 1\n",
        "    return total_pr/total_count"
      ],
      "metadata": {
        "id": "zL-mAN2v9q5S"
      },
      "execution_count": 80,
      "outputs": []
    },
    {
      "cell_type": "code",
      "source": [
        "EPOCHS = 10 \n",
        "LR = 5 \n",
        "BATCH_SIZE = 64\n",
        "\n",
        "criterion = torch.nn.CrossEntropyLoss()\n",
        "optimizer = torch.optim.SGD(model.parameters(), lr=LR)\n",
        "scheduler = torch.optim.lr_scheduler.StepLR(optimizer, 1.0, gamma=0.1)\n",
        "total_accu = None\n",
        "\n",
        "train_dataset = to_map_style_dataset(train_iter)\n",
        "test_dataset = to_map_style_dataset(test_iter)\n",
        "\n",
        "# создадим валидационную выборку\n",
        "num_train = int(len(train_dataset) * 0.95)\n",
        "split_train_, split_valid_ = \\\n",
        "    random_split(train_dataset, [num_train, len(train_dataset) - num_train])\n",
        "\n",
        "train_dataloader = DataLoader(split_train_, batch_size=BATCH_SIZE,\n",
        "                              shuffle=True, collate_fn=collate_batch)\n",
        "valid_dataloader = DataLoader(split_valid_, batch_size=BATCH_SIZE,\n",
        "                              shuffle=True, collate_fn=collate_batch)\n",
        "test_dataloader = DataLoader(test_dataset, batch_size=BATCH_SIZE,\n",
        "                             shuffle=True, collate_fn=collate_batch)\n",
        "\n",
        "for epoch in range(1, EPOCHS + 1):\n",
        "    epoch_start_time = time.time()\n",
        "    train(train_dataloader)\n",
        "    accu_val = evaluate(valid_dataloader)\n",
        "    if total_accu is not None and total_accu > accu_val:\n",
        "      scheduler.step()\n",
        "    else:\n",
        "       total_accu = accu_val\n",
        "    print('-' * 59)\n",
        "    print('| end of epoch {:3d} | time: {:5.2f}s | '\n",
        "          'valid pr {:8.3f} '.format(epoch,\n",
        "                                           time.time() - epoch_start_time,\n",
        "                                           accu_val))\n",
        "    print('-' * 59)"
      ],
      "metadata": {
        "colab": {
          "base_uri": "https://localhost:8080/"
        },
        "id": "O_AcYAdjTFWb",
        "outputId": "7cd030d7-ec18-4c0f-fbfd-f96891ae02c5"
      },
      "execution_count": 84,
      "outputs": [
        {
          "output_type": "stream",
          "name": "stdout",
          "text": [
            "| epoch   1 |   500/13787 batches | precision    0.574\n",
            "| epoch   1 |  1000/13787 batches | precision    0.572\n",
            "| epoch   1 |  1500/13787 batches | precision    0.571\n",
            "| epoch   1 |  2000/13787 batches | precision    0.578\n",
            "| epoch   1 |  2500/13787 batches | precision    0.579\n",
            "| epoch   1 |  3000/13787 batches | precision    0.573\n",
            "| epoch   1 |  3500/13787 batches | precision    0.570\n",
            "| epoch   1 |  4000/13787 batches | precision    0.572\n",
            "| epoch   1 |  4500/13787 batches | precision    0.575\n",
            "| epoch   1 |  5000/13787 batches | precision    0.572\n",
            "| epoch   1 |  5500/13787 batches | precision    0.573\n",
            "| epoch   1 |  6000/13787 batches | precision    0.573\n",
            "| epoch   1 |  6500/13787 batches | precision    0.570\n",
            "| epoch   1 |  7000/13787 batches | precision    0.573\n",
            "| epoch   1 |  7500/13787 batches | precision    0.577\n",
            "| epoch   1 |  8000/13787 batches | precision    0.572\n",
            "| epoch   1 |  8500/13787 batches | precision    0.576\n",
            "| epoch   1 |  9000/13787 batches | precision    0.569\n",
            "| epoch   1 |  9500/13787 batches | precision    0.572\n",
            "| epoch   1 | 10000/13787 batches | precision    0.575\n",
            "| epoch   1 | 10500/13787 batches | precision    0.574\n",
            "| epoch   1 | 11000/13787 batches | precision    0.568\n",
            "| epoch   1 | 11500/13787 batches | precision    0.571\n",
            "| epoch   1 | 12000/13787 batches | precision    0.571\n",
            "| epoch   1 | 12500/13787 batches | precision    0.570\n",
            "| epoch   1 | 13000/13787 batches | precision    0.573\n",
            "| epoch   1 | 13500/13787 batches | precision    0.570\n",
            "-----------------------------------------------------------\n",
            "| end of epoch   1 | time: 425.76s | valid pr    0.581 \n",
            "-----------------------------------------------------------\n",
            "| epoch   2 |   500/13787 batches | precision    0.578\n",
            "| epoch   2 |  1000/13787 batches | precision    0.577\n",
            "| epoch   2 |  1500/13787 batches | precision    0.572\n",
            "| epoch   2 |  2000/13787 batches | precision    0.571\n",
            "| epoch   2 |  2500/13787 batches | precision    0.576\n",
            "| epoch   2 |  3000/13787 batches | precision    0.574\n",
            "| epoch   2 |  3500/13787 batches | precision    0.575\n",
            "| epoch   2 |  4000/13787 batches | precision    0.575\n",
            "| epoch   2 |  4500/13787 batches | precision    0.577\n",
            "| epoch   2 |  5000/13787 batches | precision    0.577\n",
            "| epoch   2 |  5500/13787 batches | precision    0.578\n",
            "| epoch   2 |  6000/13787 batches | precision    0.575\n",
            "| epoch   2 |  6500/13787 batches | precision    0.570\n",
            "| epoch   2 |  7000/13787 batches | precision    0.572\n",
            "| epoch   2 |  7500/13787 batches | precision    0.578\n",
            "| epoch   2 |  8000/13787 batches | precision    0.575\n",
            "| epoch   2 |  8500/13787 batches | precision    0.574\n",
            "| epoch   2 |  9000/13787 batches | precision    0.576\n",
            "| epoch   2 |  9500/13787 batches | precision    0.576\n",
            "| epoch   2 | 10000/13787 batches | precision    0.580\n",
            "| epoch   2 | 10500/13787 batches | precision    0.573\n",
            "| epoch   2 | 11000/13787 batches | precision    0.577\n",
            "| epoch   2 | 11500/13787 batches | precision    0.575\n",
            "| epoch   2 | 12000/13787 batches | precision    0.572\n",
            "| epoch   2 | 12500/13787 batches | precision    0.575\n",
            "| epoch   2 | 13000/13787 batches | precision    0.571\n",
            "| epoch   2 | 13500/13787 batches | precision    0.570\n",
            "-----------------------------------------------------------\n",
            "| end of epoch   2 | time: 429.80s | valid pr    0.554 \n",
            "-----------------------------------------------------------\n",
            "| epoch   3 |   500/13787 batches | precision    0.594\n",
            "| epoch   3 |  1000/13787 batches | precision    0.590\n",
            "| epoch   3 |  1500/13787 batches | precision    0.591\n",
            "| epoch   3 |  2000/13787 batches | precision    0.599\n",
            "| epoch   3 |  2500/13787 batches | precision    0.596\n",
            "| epoch   3 |  3000/13787 batches | precision    0.591\n",
            "| epoch   3 |  3500/13787 batches | precision    0.597\n",
            "| epoch   3 |  4000/13787 batches | precision    0.593\n",
            "| epoch   3 |  4500/13787 batches | precision    0.597\n",
            "| epoch   3 |  5000/13787 batches | precision    0.588\n",
            "| epoch   3 |  5500/13787 batches | precision    0.597\n",
            "| epoch   3 |  6000/13787 batches | precision    0.587\n",
            "| epoch   3 |  6500/13787 batches | precision    0.594\n",
            "| epoch   3 |  7000/13787 batches | precision    0.590\n",
            "| epoch   3 |  7500/13787 batches | precision    0.598\n",
            "| epoch   3 |  8000/13787 batches | precision    0.593\n",
            "| epoch   3 |  8500/13787 batches | precision    0.592\n",
            "| epoch   3 |  9000/13787 batches | precision    0.595\n",
            "| epoch   3 |  9500/13787 batches | precision    0.591\n",
            "| epoch   3 | 10000/13787 batches | precision    0.591\n",
            "| epoch   3 | 10500/13787 batches | precision    0.592\n",
            "| epoch   3 | 11000/13787 batches | precision    0.596\n",
            "| epoch   3 | 11500/13787 batches | precision    0.592\n",
            "| epoch   3 | 12000/13787 batches | precision    0.595\n",
            "| epoch   3 | 12500/13787 batches | precision    0.590\n",
            "| epoch   3 | 13000/13787 batches | precision    0.592\n",
            "| epoch   3 | 13500/13787 batches | precision    0.595\n",
            "-----------------------------------------------------------\n",
            "| end of epoch   3 | time: 431.17s | valid pr    0.588 \n",
            "-----------------------------------------------------------\n",
            "| epoch   4 |   500/13787 batches | precision    0.593\n",
            "| epoch   4 |  1000/13787 batches | precision    0.596\n",
            "| epoch   4 |  1500/13787 batches | precision    0.593\n",
            "| epoch   4 |  2000/13787 batches | precision    0.596\n",
            "| epoch   4 |  2500/13787 batches | precision    0.591\n",
            "| epoch   4 |  3000/13787 batches | precision    0.600\n",
            "| epoch   4 |  3500/13787 batches | precision    0.591\n",
            "| epoch   4 |  4000/13787 batches | precision    0.596\n",
            "| epoch   4 |  4500/13787 batches | precision    0.592\n",
            "| epoch   4 |  5000/13787 batches | precision    0.593\n",
            "| epoch   4 |  5500/13787 batches | precision    0.598\n",
            "| epoch   4 |  6000/13787 batches | precision    0.596\n",
            "| epoch   4 |  6500/13787 batches | precision    0.594\n",
            "| epoch   4 |  7000/13787 batches | precision    0.593\n",
            "| epoch   4 |  7500/13787 batches | precision    0.591\n",
            "| epoch   4 |  8000/13787 batches | precision    0.597\n",
            "| epoch   4 |  8500/13787 batches | precision    0.593\n",
            "| epoch   4 |  9000/13787 batches | precision    0.599\n",
            "| epoch   4 |  9500/13787 batches | precision    0.595\n",
            "| epoch   4 | 10000/13787 batches | precision    0.595\n",
            "| epoch   4 | 10500/13787 batches | precision    0.586\n",
            "| epoch   4 | 11000/13787 batches | precision    0.594\n",
            "| epoch   4 | 11500/13787 batches | precision    0.598\n",
            "| epoch   4 | 12000/13787 batches | precision    0.598\n",
            "| epoch   4 | 12500/13787 batches | precision    0.591\n",
            "| epoch   4 | 13000/13787 batches | precision    0.594\n",
            "| epoch   4 | 13500/13787 batches | precision    0.599\n",
            "-----------------------------------------------------------\n",
            "| end of epoch   4 | time: 437.72s | valid pr    0.589 \n",
            "-----------------------------------------------------------\n",
            "| epoch   5 |   500/13787 batches | precision    0.593\n",
            "| epoch   5 |  1000/13787 batches | precision    0.597\n",
            "| epoch   5 |  1500/13787 batches | precision    0.595\n",
            "| epoch   5 |  2000/13787 batches | precision    0.593\n",
            "| epoch   5 |  2500/13787 batches | precision    0.597\n",
            "| epoch   5 |  3000/13787 batches | precision    0.590\n",
            "| epoch   5 |  3500/13787 batches | precision    0.598\n",
            "| epoch   5 |  4000/13787 batches | precision    0.595\n",
            "| epoch   5 |  4500/13787 batches | precision    0.592\n",
            "| epoch   5 |  5000/13787 batches | precision    0.594\n",
            "| epoch   5 |  5500/13787 batches | precision    0.595\n",
            "| epoch   5 |  6000/13787 batches | precision    0.592\n",
            "| epoch   5 |  6500/13787 batches | precision    0.594\n",
            "| epoch   5 |  7000/13787 batches | precision    0.597\n",
            "| epoch   5 |  7500/13787 batches | precision    0.598\n",
            "| epoch   5 |  8000/13787 batches | precision    0.596\n",
            "| epoch   5 |  8500/13787 batches | precision    0.592\n",
            "| epoch   5 |  9000/13787 batches | precision    0.599\n",
            "| epoch   5 |  9500/13787 batches | precision    0.592\n",
            "| epoch   5 | 10000/13787 batches | precision    0.596\n",
            "| epoch   5 | 10500/13787 batches | precision    0.596\n",
            "| epoch   5 | 11000/13787 batches | precision    0.598\n",
            "| epoch   5 | 11500/13787 batches | precision    0.594\n",
            "| epoch   5 | 12000/13787 batches | precision    0.595\n",
            "| epoch   5 | 12500/13787 batches | precision    0.593\n",
            "| epoch   5 | 13000/13787 batches | precision    0.591\n",
            "| epoch   5 | 13500/13787 batches | precision    0.596\n",
            "-----------------------------------------------------------\n",
            "| end of epoch   5 | time: 428.12s | valid pr    0.588 \n",
            "-----------------------------------------------------------\n",
            "| epoch   6 |   500/13787 batches | precision    0.598\n",
            "| epoch   6 |  1000/13787 batches | precision    0.596\n",
            "| epoch   6 |  1500/13787 batches | precision    0.601\n",
            "| epoch   6 |  2000/13787 batches | precision    0.596\n",
            "| epoch   6 |  2500/13787 batches | precision    0.597\n",
            "| epoch   6 |  3000/13787 batches | precision    0.593\n",
            "| epoch   6 |  3500/13787 batches | precision    0.599\n",
            "| epoch   6 |  4000/13787 batches | precision    0.601\n",
            "| epoch   6 |  4500/13787 batches | precision    0.596\n",
            "| epoch   6 |  5000/13787 batches | precision    0.600\n",
            "| epoch   6 |  5500/13787 batches | precision    0.596\n",
            "| epoch   6 |  6000/13787 batches | precision    0.592\n",
            "| epoch   6 |  6500/13787 batches | precision    0.594\n",
            "| epoch   6 |  7000/13787 batches | precision    0.599\n",
            "| epoch   6 |  7500/13787 batches | precision    0.598\n",
            "| epoch   6 |  8000/13787 batches | precision    0.595\n",
            "| epoch   6 |  8500/13787 batches | precision    0.594\n",
            "| epoch   6 |  9000/13787 batches | precision    0.600\n",
            "| epoch   6 |  9500/13787 batches | precision    0.595\n",
            "| epoch   6 | 10000/13787 batches | precision    0.599\n",
            "| epoch   6 | 10500/13787 batches | precision    0.600\n",
            "| epoch   6 | 11000/13787 batches | precision    0.600\n",
            "| epoch   6 | 11500/13787 batches | precision    0.597\n",
            "| epoch   6 | 12000/13787 batches | precision    0.595\n",
            "| epoch   6 | 12500/13787 batches | precision    0.595\n",
            "| epoch   6 | 13000/13787 batches | precision    0.598\n",
            "| epoch   6 | 13500/13787 batches | precision    0.596\n",
            "-----------------------------------------------------------\n",
            "| end of epoch   6 | time: 440.16s | valid pr    0.590 \n",
            "-----------------------------------------------------------\n",
            "| epoch   7 |   500/13787 batches | precision    0.594\n",
            "| epoch   7 |  1000/13787 batches | precision    0.596\n",
            "| epoch   7 |  1500/13787 batches | precision    0.597\n",
            "| epoch   7 |  2000/13787 batches | precision    0.599\n",
            "| epoch   7 |  2500/13787 batches | precision    0.598\n",
            "| epoch   7 |  3000/13787 batches | precision    0.599\n",
            "| epoch   7 |  3500/13787 batches | precision    0.599\n",
            "| epoch   7 |  4000/13787 batches | precision    0.600\n",
            "| epoch   7 |  4500/13787 batches | precision    0.599\n",
            "| epoch   7 |  5000/13787 batches | precision    0.595\n",
            "| epoch   7 |  5500/13787 batches | precision    0.594\n",
            "| epoch   7 |  6000/13787 batches | precision    0.597\n",
            "| epoch   7 |  6500/13787 batches | precision    0.595\n",
            "| epoch   7 |  7000/13787 batches | precision    0.598\n",
            "| epoch   7 |  7500/13787 batches | precision    0.597\n",
            "| epoch   7 |  8000/13787 batches | precision    0.599\n",
            "| epoch   7 |  8500/13787 batches | precision    0.600\n",
            "| epoch   7 |  9000/13787 batches | precision    0.595\n",
            "| epoch   7 |  9500/13787 batches | precision    0.596\n",
            "| epoch   7 | 10000/13787 batches | precision    0.593\n",
            "| epoch   7 | 10500/13787 batches | precision    0.595\n",
            "| epoch   7 | 11000/13787 batches | precision    0.599\n",
            "| epoch   7 | 11500/13787 batches | precision    0.595\n",
            "| epoch   7 | 12000/13787 batches | precision    0.597\n",
            "| epoch   7 | 12500/13787 batches | precision    0.599\n",
            "| epoch   7 | 13000/13787 batches | precision    0.599\n",
            "| epoch   7 | 13500/13787 batches | precision    0.599\n",
            "-----------------------------------------------------------\n",
            "| end of epoch   7 | time: 441.03s | valid pr    0.589 \n",
            "-----------------------------------------------------------\n",
            "| epoch   8 |   500/13787 batches | precision    0.597\n",
            "| epoch   8 |  1000/13787 batches | precision    0.596\n",
            "| epoch   8 |  1500/13787 batches | precision    0.594\n",
            "| epoch   8 |  2000/13787 batches | precision    0.597\n",
            "| epoch   8 |  2500/13787 batches | precision    0.596\n",
            "| epoch   8 |  3000/13787 batches | precision    0.599\n",
            "| epoch   8 |  3500/13787 batches | precision    0.598\n",
            "| epoch   8 |  4000/13787 batches | precision    0.598\n",
            "| epoch   8 |  4500/13787 batches | precision    0.604\n",
            "| epoch   8 |  5000/13787 batches | precision    0.597\n",
            "| epoch   8 |  5500/13787 batches | precision    0.595\n",
            "| epoch   8 |  6000/13787 batches | precision    0.600\n",
            "| epoch   8 |  6500/13787 batches | precision    0.596\n",
            "| epoch   8 |  7000/13787 batches | precision    0.598\n",
            "| epoch   8 |  7500/13787 batches | precision    0.601\n",
            "| epoch   8 |  8000/13787 batches | precision    0.594\n",
            "| epoch   8 |  8500/13787 batches | precision    0.593\n",
            "| epoch   8 |  9000/13787 batches | precision    0.596\n",
            "| epoch   8 |  9500/13787 batches | precision    0.596\n",
            "| epoch   8 | 10000/13787 batches | precision    0.600\n",
            "| epoch   8 | 10500/13787 batches | precision    0.598\n",
            "| epoch   8 | 11000/13787 batches | precision    0.603\n",
            "| epoch   8 | 11500/13787 batches | precision    0.596\n",
            "| epoch   8 | 12000/13787 batches | precision    0.597\n",
            "| epoch   8 | 12500/13787 batches | precision    0.597\n",
            "| epoch   8 | 13000/13787 batches | precision    0.598\n",
            "| epoch   8 | 13500/13787 batches | precision    0.599\n",
            "-----------------------------------------------------------\n",
            "| end of epoch   8 | time: 432.62s | valid pr    0.590 \n",
            "-----------------------------------------------------------\n",
            "| epoch   9 |   500/13787 batches | precision    0.598\n",
            "| epoch   9 |  1000/13787 batches | precision    0.594\n",
            "| epoch   9 |  1500/13787 batches | precision    0.595\n",
            "| epoch   9 |  2000/13787 batches | precision    0.598\n",
            "| epoch   9 |  2500/13787 batches | precision    0.597\n",
            "| epoch   9 |  3000/13787 batches | precision    0.599\n",
            "| epoch   9 |  3500/13787 batches | precision    0.600\n",
            "| epoch   9 |  4000/13787 batches | precision    0.597\n",
            "| epoch   9 |  4500/13787 batches | precision    0.602\n",
            "| epoch   9 |  5000/13787 batches | precision    0.596\n",
            "| epoch   9 |  5500/13787 batches | precision    0.595\n",
            "| epoch   9 |  6000/13787 batches | precision    0.599\n",
            "| epoch   9 |  6500/13787 batches | precision    0.601\n",
            "| epoch   9 |  7000/13787 batches | precision    0.598\n",
            "| epoch   9 |  7500/13787 batches | precision    0.600\n",
            "| epoch   9 |  8000/13787 batches | precision    0.597\n",
            "| epoch   9 |  8500/13787 batches | precision    0.595\n",
            "| epoch   9 |  9000/13787 batches | precision    0.598\n",
            "| epoch   9 |  9500/13787 batches | precision    0.595\n",
            "| epoch   9 | 10000/13787 batches | precision    0.597\n",
            "| epoch   9 | 10500/13787 batches | precision    0.598\n",
            "| epoch   9 | 11000/13787 batches | precision    0.598\n",
            "| epoch   9 | 11500/13787 batches | precision    0.596\n",
            "| epoch   9 | 12000/13787 batches | precision    0.598\n",
            "| epoch   9 | 12500/13787 batches | precision    0.597\n",
            "| epoch   9 | 13000/13787 batches | precision    0.594\n",
            "| epoch   9 | 13500/13787 batches | precision    0.597\n",
            "-----------------------------------------------------------\n",
            "| end of epoch   9 | time: 441.62s | valid pr    0.589 \n",
            "-----------------------------------------------------------\n",
            "| epoch  10 |   500/13787 batches | precision    0.598\n",
            "| epoch  10 |  1000/13787 batches | precision    0.597\n",
            "| epoch  10 |  1500/13787 batches | precision    0.594\n",
            "| epoch  10 |  2000/13787 batches | precision    0.596\n",
            "| epoch  10 |  2500/13787 batches | precision    0.599\n",
            "| epoch  10 |  3000/13787 batches | precision    0.596\n",
            "| epoch  10 |  3500/13787 batches | precision    0.604\n",
            "| epoch  10 |  4000/13787 batches | precision    0.598\n",
            "| epoch  10 |  4500/13787 batches | precision    0.597\n",
            "| epoch  10 |  5000/13787 batches | precision    0.595\n",
            "| epoch  10 |  5500/13787 batches | precision    0.600\n",
            "| epoch  10 |  6000/13787 batches | precision    0.597\n",
            "| epoch  10 |  6500/13787 batches | precision    0.593\n",
            "| epoch  10 |  7000/13787 batches | precision    0.599\n",
            "| epoch  10 |  7500/13787 batches | precision    0.599\n",
            "| epoch  10 |  8000/13787 batches | precision    0.601\n",
            "| epoch  10 |  8500/13787 batches | precision    0.596\n",
            "| epoch  10 |  9000/13787 batches | precision    0.601\n",
            "| epoch  10 |  9500/13787 batches | precision    0.599\n",
            "| epoch  10 | 10000/13787 batches | precision    0.598\n",
            "| epoch  10 | 10500/13787 batches | precision    0.597\n",
            "| epoch  10 | 11000/13787 batches | precision    0.590\n",
            "| epoch  10 | 11500/13787 batches | precision    0.596\n",
            "| epoch  10 | 12000/13787 batches | precision    0.599\n",
            "| epoch  10 | 12500/13787 batches | precision    0.595\n",
            "| epoch  10 | 13000/13787 batches | precision    0.596\n",
            "| epoch  10 | 13500/13787 batches | precision    0.600\n",
            "-----------------------------------------------------------\n",
            "| end of epoch  10 | time: 449.93s | valid pr    0.589 \n",
            "-----------------------------------------------------------\n"
          ]
        }
      ]
    },
    {
      "cell_type": "code",
      "source": [
        "test_precision = evaluate(test_dataloader)\n",
        "print('test precision {:8.3f}'.format(test_precision))"
      ],
      "metadata": {
        "colab": {
          "base_uri": "https://localhost:8080/"
        },
        "id": "-mMQunQdYdZB",
        "outputId": "62faaa81-a394-4d85-f339-f1bfa397a674"
      },
      "execution_count": 85,
      "outputs": [
        {
          "output_type": "stream",
          "name": "stdout",
          "text": [
            "test precision    0.582\n"
          ]
        }
      ]
    },
    {
      "cell_type": "markdown",
      "source": [
        "Метрика precision получилась сравнима с оптимизацией CatBoost из прошлого чекпоинта. Напомним, что предположительно качество остается низким из-за некачественной разметки датасета."
      ],
      "metadata": {
        "id": "-njSu0DOiRKg"
      }
    }
  ]
}