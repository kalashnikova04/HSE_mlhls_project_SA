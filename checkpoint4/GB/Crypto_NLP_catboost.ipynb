{
  "nbformat": 4,
  "nbformat_minor": 0,
  "metadata": {
    "colab": {
      "provenance": []
    },
    "kernelspec": {
      "name": "python3",
      "display_name": "Python 3"
    },
    "language_info": {
      "name": "python"
    },
    "accelerator": "GPU",
    "gpuClass": "standard"
  },
  "cells": [
    {
      "cell_type": "code",
      "source": [
        "pip install optuna catboost"
      ],
      "metadata": {
        "colab": {
          "base_uri": "https://localhost:8080/"
        },
        "id": "qjE-GbD9IvY2",
        "outputId": "d409026c-aa1c-452a-e440-c2214b89bc8f"
      },
      "execution_count": null,
      "outputs": [
        {
          "output_type": "stream",
          "name": "stdout",
          "text": [
            "Looking in indexes: https://pypi.org/simple, https://us-python.pkg.dev/colab-wheels/public/simple/\n",
            "Requirement already satisfied: optuna in /usr/local/lib/python3.8/dist-packages (3.0.5)\n",
            "Collecting catboost\n",
            "  Downloading catboost-1.1.1-cp38-none-manylinux1_x86_64.whl (76.6 MB)\n",
            "\u001b[K     |████████████████████████████████| 76.6 MB 38 kB/s \n",
            "\u001b[?25hRequirement already satisfied: colorlog in /usr/local/lib/python3.8/dist-packages (from optuna) (6.7.0)\n",
            "Requirement already satisfied: cmaes>=0.8.2 in /usr/local/lib/python3.8/dist-packages (from optuna) (0.9.0)\n",
            "Requirement already satisfied: scipy<1.9.0,>=1.7.0 in /usr/local/lib/python3.8/dist-packages (from optuna) (1.7.3)\n",
            "Requirement already satisfied: PyYAML in /usr/local/lib/python3.8/dist-packages (from optuna) (6.0)\n",
            "Requirement already satisfied: packaging>=20.0 in /usr/local/lib/python3.8/dist-packages (from optuna) (21.3)\n",
            "Requirement already satisfied: tqdm in /usr/local/lib/python3.8/dist-packages (from optuna) (4.64.1)\n",
            "Requirement already satisfied: alembic>=1.5.0 in /usr/local/lib/python3.8/dist-packages (from optuna) (1.9.0)\n",
            "Requirement already satisfied: sqlalchemy>=1.3.0 in /usr/local/lib/python3.8/dist-packages (from optuna) (1.4.45)\n",
            "Requirement already satisfied: importlib-metadata<5.0.0 in /usr/local/lib/python3.8/dist-packages (from optuna) (4.13.0)\n",
            "Requirement already satisfied: numpy in /usr/local/lib/python3.8/dist-packages (from optuna) (1.21.6)\n",
            "Requirement already satisfied: cliff in /usr/local/lib/python3.8/dist-packages (from optuna) (4.1.0)\n",
            "Requirement already satisfied: importlib-resources in /usr/local/lib/python3.8/dist-packages (from alembic>=1.5.0->optuna) (5.10.1)\n",
            "Requirement already satisfied: Mako in /usr/local/lib/python3.8/dist-packages (from alembic>=1.5.0->optuna) (1.2.4)\n",
            "Requirement already satisfied: zipp>=0.5 in /usr/local/lib/python3.8/dist-packages (from importlib-metadata<5.0.0->optuna) (3.11.0)\n",
            "Requirement already satisfied: pyparsing!=3.0.5,>=2.0.2 in /usr/local/lib/python3.8/dist-packages (from packaging>=20.0->optuna) (3.0.9)\n",
            "Requirement already satisfied: greenlet!=0.4.17 in /usr/local/lib/python3.8/dist-packages (from sqlalchemy>=1.3.0->optuna) (2.0.1)\n",
            "Requirement already satisfied: plotly in /usr/local/lib/python3.8/dist-packages (from catboost) (5.5.0)\n",
            "Requirement already satisfied: six in /usr/local/lib/python3.8/dist-packages (from catboost) (1.15.0)\n",
            "Requirement already satisfied: pandas>=0.24.0 in /usr/local/lib/python3.8/dist-packages (from catboost) (1.3.5)\n",
            "Requirement already satisfied: matplotlib in /usr/local/lib/python3.8/dist-packages (from catboost) (3.2.2)\n",
            "Requirement already satisfied: graphviz in /usr/local/lib/python3.8/dist-packages (from catboost) (0.10.1)\n",
            "Requirement already satisfied: python-dateutil>=2.7.3 in /usr/local/lib/python3.8/dist-packages (from pandas>=0.24.0->catboost) (2.8.2)\n",
            "Requirement already satisfied: pytz>=2017.3 in /usr/local/lib/python3.8/dist-packages (from pandas>=0.24.0->catboost) (2022.6)\n",
            "Requirement already satisfied: stevedore>=2.0.1 in /usr/local/lib/python3.8/dist-packages (from cliff->optuna) (4.1.1)\n",
            "Requirement already satisfied: cmd2>=1.0.0 in /usr/local/lib/python3.8/dist-packages (from cliff->optuna) (2.4.2)\n",
            "Requirement already satisfied: PrettyTable>=0.7.2 in /usr/local/lib/python3.8/dist-packages (from cliff->optuna) (3.5.0)\n",
            "Requirement already satisfied: autopage>=0.4.0 in /usr/local/lib/python3.8/dist-packages (from cliff->optuna) (0.5.1)\n",
            "Requirement already satisfied: wcwidth>=0.1.7 in /usr/local/lib/python3.8/dist-packages (from cmd2>=1.0.0->cliff->optuna) (0.2.5)\n",
            "Requirement already satisfied: pyperclip>=1.6 in /usr/local/lib/python3.8/dist-packages (from cmd2>=1.0.0->cliff->optuna) (1.8.2)\n",
            "Requirement already satisfied: attrs>=16.3.0 in /usr/local/lib/python3.8/dist-packages (from cmd2>=1.0.0->cliff->optuna) (22.1.0)\n",
            "Requirement already satisfied: pbr!=2.1.0,>=2.0.0 in /usr/local/lib/python3.8/dist-packages (from stevedore>=2.0.1->cliff->optuna) (5.11.0)\n",
            "Requirement already satisfied: MarkupSafe>=0.9.2 in /usr/local/lib/python3.8/dist-packages (from Mako->alembic>=1.5.0->optuna) (2.0.1)\n",
            "Requirement already satisfied: kiwisolver>=1.0.1 in /usr/local/lib/python3.8/dist-packages (from matplotlib->catboost) (1.4.4)\n",
            "Requirement already satisfied: cycler>=0.10 in /usr/local/lib/python3.8/dist-packages (from matplotlib->catboost) (0.11.0)\n",
            "Requirement already satisfied: tenacity>=6.2.0 in /usr/local/lib/python3.8/dist-packages (from plotly->catboost) (8.1.0)\n",
            "Installing collected packages: catboost\n",
            "Successfully installed catboost-1.1.1\n"
          ]
        }
      ]
    },
    {
      "cell_type": "code",
      "execution_count": null,
      "metadata": {
        "id": "fFvcvt3XIULv"
      },
      "outputs": [],
      "source": [
        "import pandas as pd\n",
        "import numpy as np\n",
        "import random\n",
        "import seaborn as sns\n",
        "import optuna\n",
        "import matplotlib.pyplot as plt\n",
        "%matplotlib inline\n",
        "\n",
        "\n",
        "from sklearn.model_selection import train_test_split\n",
        "from catboost import CatBoostClassifier, Pool\n",
        "\n",
        "np.random.seed(42)\n",
        "random.seed(42)"
      ]
    },
    {
      "cell_type": "code",
      "source": [
        "df_train = pd.read_csv('train.csv', index_col=0) \n",
        "df_test = pd.read_csv('test.csv', index_col=0) "
      ],
      "metadata": {
        "id": "ZOgANsVbLLwL"
      },
      "execution_count": null,
      "outputs": []
    },
    {
      "cell_type": "code",
      "source": [
        "X_train, X_val, y_train, y_val = train_test_split(df_train[['text']],\n",
        "                                                    df_train['label'],\n",
        "                                                    test_size=0.3)"
      ],
      "metadata": {
        "id": "R9-EmagOLlGY"
      },
      "execution_count": null,
      "outputs": []
    },
    {
      "cell_type": "code",
      "source": [
        "X_test = df_test[['text']]\n",
        "y_test = df_test['label']"
      ],
      "metadata": {
        "id": "aOOcg4hhLsn3"
      },
      "execution_count": null,
      "outputs": []
    },
    {
      "cell_type": "code",
      "source": [
        "text_features = ['text']"
      ],
      "metadata": {
        "id": "WcTXlHabLJiO"
      },
      "execution_count": null,
      "outputs": []
    },
    {
      "cell_type": "code",
      "source": [
        "train_pool = Pool(\n",
        "        X_train, \n",
        "        y_train, \n",
        "        text_features=text_features,\n",
        "        feature_names=text_features\n",
        "    )\n",
        "valid_pool = Pool(\n",
        "        X_val, \n",
        "        y_val, \n",
        "        text_features=text_features,\n",
        "        feature_names=text_features\n",
        "    )"
      ],
      "metadata": {
        "id": "U4PhY36yLI5O"
      },
      "execution_count": null,
      "outputs": []
    },
    {
      "cell_type": "code",
      "source": [
        "from sklearn.metrics import f1_score"
      ],
      "metadata": {
        "id": "OuhRkS1KNv7W"
      },
      "execution_count": null,
      "outputs": []
    },
    {
      "cell_type": "code",
      "source": [
        "def objective(trial):\n",
        "\n",
        "    catboost_params = {\n",
        "        \"loss_function\": 'MultiClass',\n",
        "        \"iterations\": trial.suggest_int(\"iterations\", 1000, 3000),\n",
        "        \"depth\": trial.suggest_int(\"depth\", 2, 12),\n",
        "        \"min_data_in_leaf\": trial.suggest_int(\"min_data_in_leaf\", 0, 1000),\n",
        "        \"learning_rate\": trial.suggest_float(\"learning_rate\", 0.01, 0.1),\n",
        "        'task_type': 'GPU',\n",
        "        'early_stopping_rounds': trial.suggest_int(\"early_stopping_rounds\", 100, 1000),\n",
        "        'eval_metric': 'TotalF1:average=Macro',\n",
        "        'verbose': 300\n",
        "    }\n",
        "\n",
        "\n",
        "    model = CatBoostClassifier(**catboost_params) \n",
        "    model.fit(train_pool, eval_set=valid_pool)\n",
        "    preds = model.predict(X_val)\n",
        "    f1 = f1_score(y_val, preds, average='macro')\n",
        "\n",
        "    return f1"
      ],
      "metadata": {
        "id": "Uw6BSUtVIecC"
      },
      "execution_count": null,
      "outputs": []
    },
    {
      "cell_type": "code",
      "source": [
        "study = optuna.create_study(direction=\"maximize\")\n",
        "study.optimize(objective, n_trials=15, timeout=6000)"
      ],
      "metadata": {
        "colab": {
          "base_uri": "https://localhost:8080/"
        },
        "id": "k_IxZyvHOAjC",
        "outputId": "1ecde327-ed42-40bc-a302-f96d5d0b9a75"
      },
      "execution_count": null,
      "outputs": [
        {
          "metadata": {
            "tags": null
          },
          "name": "stderr",
          "output_type": "stream",
          "text": [
            "\u001b[32m[I 2022-12-22 19:21:44,789]\u001b[0m A new study created in memory with name: no-name-17a82b38-aed1-4633-a96f-bde96b7fe5d0\u001b[0m\n"
          ]
        },
        {
          "metadata": {
            "tags": null
          },
          "name": "stdout",
          "output_type": "stream",
          "text": [
            "0:\tlearn: 0.4682414\ttest: 0.4790140\tbest: 0.4790140 (0)\ttotal: 54.7ms\tremaining: 59.9s\n",
            "300:\tlearn: 0.4525493\ttest: 0.4634540\tbest: 0.4790140 (0)\ttotal: 9.54s\tremaining: 25.2s\n",
            "600:\tlearn: 0.4595864\ttest: 0.4701351\tbest: 0.4790140 (0)\ttotal: 17s\tremaining: 14s\n",
            "bestTest = 0.4790139833\n",
            "bestIteration = 0\n",
            "Shrink model to first 1 iterations.\n"
          ]
        },
        {
          "metadata": {
            "tags": null
          },
          "name": "stderr",
          "output_type": "stream",
          "text": [
            "\u001b[32m[I 2022-12-22 19:22:23,347]\u001b[0m Trial 0 finished with value: 0.4790139833007612 and parameters: {'iterations': 1096, 'depth': 4, 'min_data_in_leaf': 19, 'learning_rate': 0.011222898874178293, 'early_stopping_rounds': 650}. Best is trial 0 with value: 0.4790139833007612.\u001b[0m\n"
          ]
        },
        {
          "output_type": "stream",
          "name": "stdout",
          "text": [
            "0:\tlearn: 0.4691374\ttest: 0.4796667\tbest: 0.4796667 (0)\ttotal: 115ms\tremaining: 4m 54s\n",
            "300:\tlearn: 0.4738235\ttest: 0.4807828\tbest: 0.4807828 (300)\ttotal: 17.5s\tremaining: 2m 10s\n",
            "600:\tlearn: 0.4811050\ttest: 0.4844702\tbest: 0.4844702 (600)\ttotal: 34.4s\tremaining: 1m 51s\n",
            "900:\tlearn: 0.4868029\ttest: 0.4865206\tbest: 0.4865395 (899)\ttotal: 50.5s\tremaining: 1m 32s\n",
            "1200:\tlearn: 0.4920700\ttest: 0.4884197\tbest: 0.4884260 (1187)\ttotal: 1m 6s\tremaining: 1m 15s\n",
            "1500:\tlearn: 0.4968973\ttest: 0.4898713\tbest: 0.4898713 (1500)\ttotal: 1m 22s\tremaining: 58.1s\n",
            "1800:\tlearn: 0.5013735\ttest: 0.4913556\tbest: 0.4913797 (1779)\ttotal: 1m 38s\tremaining: 41.4s\n",
            "2100:\tlearn: 0.5059567\ttest: 0.4920656\tbest: 0.4920656 (2100)\ttotal: 1m 55s\tremaining: 25s\n",
            "2400:\tlearn: 0.5098946\ttest: 0.4928884\tbest: 0.4930249 (2395)\ttotal: 2m 11s\tremaining: 8.54s\n",
            "2556:\tlearn: 0.5120846\ttest: 0.4930444\tbest: 0.4930816 (2550)\ttotal: 2m 20s\tremaining: 0us\n",
            "bestTest = 0.4930815569\n",
            "bestIteration = 2550\n",
            "Shrink model to first 2551 iterations.\n"
          ]
        },
        {
          "output_type": "stream",
          "name": "stderr",
          "text": [
            "\u001b[32m[I 2022-12-22 19:25:11,271]\u001b[0m Trial 1 finished with value: 0.4930815568799995 and parameters: {'iterations': 2557, 'depth': 9, 'min_data_in_leaf': 161, 'learning_rate': 0.057241856721186916, 'early_stopping_rounds': 284}. Best is trial 1 with value: 0.4930815568799995.\u001b[0m\n"
          ]
        },
        {
          "output_type": "stream",
          "name": "stdout",
          "text": [
            "0:\tlearn: 0.4673708\ttest: 0.4775386\tbest: 0.4775386 (0)\ttotal: 151ms\tremaining: 4m 55s\n",
            "300:\tlearn: 0.4687198\ttest: 0.4765636\tbest: 0.4775386 (0)\ttotal: 25.6s\tremaining: 2m 20s\n",
            "bestTest = 0.4775385992\n",
            "bestIteration = 0\n",
            "Shrink model to first 1 iterations.\n"
          ]
        },
        {
          "output_type": "stream",
          "name": "stderr",
          "text": [
            "\u001b[32m[I 2022-12-22 19:25:58,223]\u001b[0m Trial 2 finished with value: 0.47753859920619934 and parameters: {'iterations': 1958, 'depth': 10, 'min_data_in_leaf': 622, 'learning_rate': 0.02305186352192836, 'early_stopping_rounds': 311}. Best is trial 1 with value: 0.4930815568799995.\u001b[0m\n"
          ]
        },
        {
          "output_type": "stream",
          "name": "stdout",
          "text": [
            "0:\tlearn: 0.4453330\ttest: 0.4556077\tbest: 0.4556077 (0)\ttotal: 64ms\tremaining: 1m 29s\n",
            "300:\tlearn: 0.4661986\ttest: 0.4760996\tbest: 0.4760996 (300)\ttotal: 9.81s\tremaining: 35.6s\n",
            "600:\tlearn: 0.4698302\ttest: 0.4797466\tbest: 0.4797466 (600)\ttotal: 17.5s\tremaining: 23s\n",
            "900:\tlearn: 0.4721627\ttest: 0.4815252\tbest: 0.4815415 (898)\ttotal: 25s\tremaining: 13.7s\n",
            "1200:\tlearn: 0.4740905\ttest: 0.4828158\tbest: 0.4828487 (1198)\ttotal: 32.6s\tremaining: 5.2s\n",
            "1392:\tlearn: 0.4751386\ttest: 0.4836282\tbest: 0.4836790 (1375)\ttotal: 37.4s\tremaining: 0us\n",
            "bestTest = 0.4836789904\n",
            "bestIteration = 1375\n",
            "Shrink model to first 1376 iterations.\n"
          ]
        },
        {
          "output_type": "stream",
          "name": "stderr",
          "text": [
            "\u001b[32m[I 2022-12-22 19:26:59,109]\u001b[0m Trial 3 finished with value: 0.4836789904214247 and parameters: {'iterations': 1393, 'depth': 5, 'min_data_in_leaf': 205, 'learning_rate': 0.04183421743899753, 'early_stopping_rounds': 782}. Best is trial 1 with value: 0.4930815568799995.\u001b[0m\n"
          ]
        },
        {
          "output_type": "stream",
          "name": "stdout",
          "text": [
            "0:\tlearn: 0.4658391\ttest: 0.4761232\tbest: 0.4761232 (0)\ttotal: 234ms\tremaining: 6m 19s\n",
            "300:\tlearn: 0.4800946\ttest: 0.4812360\tbest: 0.4812979 (292)\ttotal: 33.1s\tremaining: 2m 24s\n",
            "600:\tlearn: 0.4914202\ttest: 0.4848814\tbest: 0.4849401 (599)\ttotal: 1m 4s\tremaining: 1m 49s\n",
            "900:\tlearn: 0.5018440\ttest: 0.4884294\tbest: 0.4885048 (877)\ttotal: 1m 36s\tremaining: 1m 17s\n",
            "1200:\tlearn: 0.5112847\ttest: 0.4900990\tbest: 0.4902590 (1190)\ttotal: 2m 10s\tremaining: 45.6s\n",
            "1500:\tlearn: 0.5208622\ttest: 0.4917607\tbest: 0.4918665 (1468)\ttotal: 2m 43s\tremaining: 13s\n",
            "1619:\tlearn: 0.5241398\ttest: 0.4922721\tbest: 0.4923339 (1617)\ttotal: 2m 56s\tremaining: 0us\n",
            "bestTest = 0.4923339041\n",
            "bestIteration = 1617\n",
            "Shrink model to first 1618 iterations.\n"
          ]
        },
        {
          "output_type": "stream",
          "name": "stderr",
          "text": [
            "\u001b[32m[I 2022-12-22 19:30:22,745]\u001b[0m Trial 4 finished with value: 0.4923339041170724 and parameters: {'iterations': 1620, 'depth': 11, 'min_data_in_leaf': 638, 'learning_rate': 0.059257709331704, 'early_stopping_rounds': 885}. Best is trial 1 with value: 0.4930815568799995.\u001b[0m\n"
          ]
        },
        {
          "output_type": "stream",
          "name": "stdout",
          "text": [
            "0:\tlearn: 0.4453330\ttest: 0.4556077\tbest: 0.4556077 (0)\ttotal: 64ms\tremaining: 2m 3s\n",
            "300:\tlearn: 0.4702158\ttest: 0.4793343\tbest: 0.4793800 (298)\ttotal: 8.28s\tremaining: 44.8s\n",
            "600:\tlearn: 0.4744785\ttest: 0.4831557\tbest: 0.4832096 (598)\ttotal: 15.6s\tremaining: 34.6s\n",
            "900:\tlearn: 0.4776569\ttest: 0.4854087\tbest: 0.4854272 (899)\ttotal: 23.1s\tremaining: 26.4s\n",
            "1200:\tlearn: 0.4805174\ttest: 0.4868020\tbest: 0.4868935 (1181)\ttotal: 30.6s\tremaining: 18.6s\n",
            "1500:\tlearn: 0.4834508\ttest: 0.4882800\tbest: 0.4884137 (1482)\ttotal: 38.1s\tremaining: 10.9s\n",
            "1800:\tlearn: 0.4859126\ttest: 0.4894497\tbest: 0.4895560 (1731)\ttotal: 45.6s\tremaining: 3.29s\n",
            "1930:\tlearn: 0.4866818\ttest: 0.4899466\tbest: 0.4900058 (1926)\ttotal: 48.9s\tremaining: 0us\n",
            "bestTest = 0.4900058204\n",
            "bestIteration = 1926\n",
            "Shrink model to first 1927 iterations.\n"
          ]
        },
        {
          "output_type": "stream",
          "name": "stderr",
          "text": [
            "\u001b[32m[I 2022-12-22 19:31:36,750]\u001b[0m Trial 5 finished with value: 0.49000582035665524 and parameters: {'iterations': 1931, 'depth': 5, 'min_data_in_leaf': 688, 'learning_rate': 0.09140433946504274, 'early_stopping_rounds': 128}. Best is trial 1 with value: 0.4930815568799995.\u001b[0m\n"
          ]
        },
        {
          "output_type": "stream",
          "name": "stdout",
          "text": [
            "0:\tlearn: 0.4682414\ttest: 0.4790140\tbest: 0.4790140 (0)\ttotal: 50.4ms\tremaining: 1m 46s\n",
            "300:\tlearn: 0.4667426\ttest: 0.4769052\tbest: 0.4790140 (0)\ttotal: 6.61s\tremaining: 39.9s\n",
            "600:\tlearn: 0.4707014\ttest: 0.4798019\tbest: 0.4798207 (598)\ttotal: 12.7s\tremaining: 32s\n",
            "900:\tlearn: 0.4721839\ttest: 0.4807712\tbest: 0.4809828 (782)\ttotal: 18.8s\tremaining: 25.4s\n",
            "1200:\tlearn: 0.4745179\ttest: 0.4831832\tbest: 0.4832504 (1199)\ttotal: 24.9s\tremaining: 19s\n",
            "1500:\tlearn: 0.4759576\ttest: 0.4842063\tbest: 0.4842145 (1499)\ttotal: 31s\tremaining: 12.7s\n",
            "1800:\tlearn: 0.4776102\ttest: 0.4855030\tbest: 0.4855452 (1783)\ttotal: 37.1s\tremaining: 6.5s\n",
            "2100:\tlearn: 0.4790446\ttest: 0.4863524\tbest: 0.4864576 (2099)\ttotal: 43.9s\tremaining: 313ms\n",
            "2115:\tlearn: 0.4789612\ttest: 0.4862604\tbest: 0.4864576 (2099)\ttotal: 44.2s\tremaining: 0us\n",
            "bestTest = 0.4864575572\n",
            "bestIteration = 2099\n",
            "Shrink model to first 2100 iterations.\n"
          ]
        },
        {
          "output_type": "stream",
          "name": "stderr",
          "text": [
            "\u001b[32m[I 2022-12-22 19:32:45,641]\u001b[0m Trial 6 finished with value: 0.4864575572030027 and parameters: {'iterations': 2116, 'depth': 3, 'min_data_in_leaf': 214, 'learning_rate': 0.09552937437744492, 'early_stopping_rounds': 696}. Best is trial 1 with value: 0.4930815568799995.\u001b[0m\n"
          ]
        },
        {
          "output_type": "stream",
          "name": "stdout",
          "text": [
            "0:\tlearn: 0.4453330\ttest: 0.4556077\tbest: 0.4556077 (0)\ttotal: 76.2ms\tremaining: 3m 2s\n",
            "300:\tlearn: 0.4628099\ttest: 0.4731915\tbest: 0.4732183 (299)\ttotal: 11.3s\tremaining: 1m 18s\n",
            "600:\tlearn: 0.4679386\ttest: 0.4775785\tbest: 0.4775785 (600)\ttotal: 20.2s\tremaining: 1m\n",
            "900:\tlearn: 0.4702409\ttest: 0.4793532\tbest: 0.4794336 (871)\ttotal: 28.9s\tremaining: 48s\n",
            "1200:\tlearn: 0.4718046\ttest: 0.4806686\tbest: 0.4806755 (1195)\ttotal: 37.5s\tremaining: 37.3s\n",
            "1500:\tlearn: 0.4733570\ttest: 0.4820660\tbest: 0.4820676 (1489)\ttotal: 46.1s\tremaining: 27.5s\n",
            "1800:\tlearn: 0.4745824\ttest: 0.4830919\tbest: 0.4831691 (1780)\ttotal: 54.7s\tremaining: 18.1s\n",
            "2100:\tlearn: 0.4760308\ttest: 0.4837848\tbest: 0.4838004 (2045)\ttotal: 1m 3s\tremaining: 8.87s\n",
            "2395:\tlearn: 0.4771231\ttest: 0.4846741\tbest: 0.4846896 (2389)\ttotal: 1m 11s\tremaining: 0us\n",
            "bestTest = 0.4846896269\n",
            "bestIteration = 2389\n",
            "Shrink model to first 2390 iterations.\n"
          ]
        },
        {
          "output_type": "stream",
          "name": "stderr",
          "text": [
            "\u001b[32m[I 2022-12-22 19:34:21,853]\u001b[0m Trial 7 finished with value: 0.48468962690655176 and parameters: {'iterations': 2396, 'depth': 6, 'min_data_in_leaf': 652, 'learning_rate': 0.02291115891057641, 'early_stopping_rounds': 289}. Best is trial 1 with value: 0.4930815568799995.\u001b[0m\n"
          ]
        },
        {
          "output_type": "stream",
          "name": "stdout",
          "text": [
            "0:\tlearn: 0.4691374\ttest: 0.4796667\tbest: 0.4796667 (0)\ttotal: 116ms\tremaining: 5m 1s\n",
            "bestTest = 0.4796666746\n",
            "bestIteration = 0\n",
            "Shrink model to first 1 iterations.\n"
          ]
        },
        {
          "output_type": "stream",
          "name": "stderr",
          "text": [
            "\u001b[32m[I 2022-12-22 19:34:55,830]\u001b[0m Trial 8 finished with value: 0.47966667457280393 and parameters: {'iterations': 2598, 'depth': 9, 'min_data_in_leaf': 819, 'learning_rate': 0.020696246600151666, 'early_stopping_rounds': 185}. Best is trial 1 with value: 0.4930815568799995.\u001b[0m\n"
          ]
        },
        {
          "output_type": "stream",
          "name": "stdout",
          "text": [
            "0:\tlearn: 0.4673708\ttest: 0.4775386\tbest: 0.4775386 (0)\ttotal: 160ms\tremaining: 5m 48s\n",
            "300:\tlearn: 0.4694840\ttest: 0.4768500\tbest: 0.4775386 (0)\ttotal: 25.7s\tremaining: 2m 40s\n",
            "600:\tlearn: 0.4749507\ttest: 0.4807552\tbest: 0.4807698 (598)\ttotal: 47.4s\tremaining: 2m 5s\n",
            "900:\tlearn: 0.4790355\ttest: 0.4826834\tbest: 0.4826886 (899)\ttotal: 1m 8s\tremaining: 1m 38s\n",
            "1200:\tlearn: 0.4828087\ttest: 0.4836025\tbest: 0.4837816 (1186)\ttotal: 1m 30s\tremaining: 1m 13s\n",
            "1500:\tlearn: 0.4865793\ttest: 0.4852646\tbest: 0.4852825 (1496)\ttotal: 1m 51s\tremaining: 51s\n",
            "1800:\tlearn: 0.4901116\ttest: 0.4862828\tbest: 0.4862828 (1800)\ttotal: 2m 13s\tremaining: 28.5s\n",
            "2100:\tlearn: 0.4934804\ttest: 0.4877751\tbest: 0.4878095 (2099)\ttotal: 2m 35s\tremaining: 6.35s\n",
            "2186:\tlearn: 0.4943068\ttest: 0.4877412\tbest: 0.4878569 (2157)\ttotal: 2m 41s\tremaining: 0us\n",
            "bestTest = 0.4878569345\n",
            "bestIteration = 2157\n",
            "Shrink model to first 2158 iterations.\n"
          ]
        },
        {
          "output_type": "stream",
          "name": "stderr",
          "text": [
            "\u001b[32m[I 2022-12-22 19:38:04,102]\u001b[0m Trial 9 finished with value: 0.4878569345051435 and parameters: {'iterations': 2187, 'depth': 10, 'min_data_in_leaf': 371, 'learning_rate': 0.026201402940010804, 'early_stopping_rounds': 583}. Best is trial 1 with value: 0.4930815568799995.\u001b[0m\n"
          ]
        },
        {
          "output_type": "stream",
          "name": "stdout",
          "text": [
            "0:\tlearn: 0.4616179\ttest: 0.4722175\tbest: 0.4722175 (0)\ttotal: 93.9ms\tremaining: 4m 41s\n",
            "300:\tlearn: 0.4736102\ttest: 0.4807085\tbest: 0.4807627 (294)\ttotal: 13.4s\tremaining: 2m\n",
            "600:\tlearn: 0.4798929\ttest: 0.4847684\tbest: 0.4847684 (600)\ttotal: 26.6s\tremaining: 1m 45s\n",
            "900:\tlearn: 0.4856645\ttest: 0.4870104\tbest: 0.4870441 (898)\ttotal: 38.9s\tremaining: 1m 30s\n",
            "1200:\tlearn: 0.4899375\ttest: 0.4886478\tbest: 0.4886755 (1193)\ttotal: 51.2s\tremaining: 1m 16s\n",
            "1500:\tlearn: 0.4944159\ttest: 0.4901426\tbest: 0.4902115 (1495)\ttotal: 1m 3s\tremaining: 1m 3s\n",
            "1800:\tlearn: 0.4982567\ttest: 0.4910737\tbest: 0.4912614 (1772)\ttotal: 1m 15s\tremaining: 50.2s\n",
            "2100:\tlearn: 0.5017386\ttest: 0.4925563\tbest: 0.4925948 (2096)\ttotal: 1m 28s\tremaining: 37.6s\n",
            "2400:\tlearn: 0.5054644\ttest: 0.4932294\tbest: 0.4933036 (2389)\ttotal: 1m 40s\tremaining: 25s\n",
            "2700:\tlearn: 0.5088411\ttest: 0.4943731\tbest: 0.4943965 (2696)\ttotal: 1m 53s\tremaining: 12.4s\n",
            "2996:\tlearn: 0.5120220\ttest: 0.4953214\tbest: 0.4954785 (2974)\ttotal: 2m 5s\tremaining: 0us\n",
            "bestTest = 0.495478514\n",
            "bestIteration = 2974\n",
            "Shrink model to first 2975 iterations.\n"
          ]
        },
        {
          "output_type": "stream",
          "name": "stderr",
          "text": [
            "\u001b[32m[I 2022-12-22 19:40:37,318]\u001b[0m Trial 10 finished with value: 0.4954785139927096 and parameters: {'iterations': 2997, 'depth': 8, 'min_data_in_leaf': 987, 'learning_rate': 0.06907294050542692, 'early_stopping_rounds': 413}. Best is trial 10 with value: 0.4954785139927096.\u001b[0m\n"
          ]
        },
        {
          "output_type": "stream",
          "name": "stdout",
          "text": [
            "0:\tlearn: 0.4616179\ttest: 0.4722175\tbest: 0.4722175 (0)\ttotal: 93.3ms\tremaining: 4m 35s\n",
            "300:\tlearn: 0.4732929\ttest: 0.4808789\tbest: 0.4809449 (298)\ttotal: 13.5s\tremaining: 1m 59s\n",
            "600:\tlearn: 0.4797087\ttest: 0.4843874\tbest: 0.4844783 (593)\ttotal: 25.7s\tremaining: 1m 40s\n",
            "900:\tlearn: 0.4850608\ttest: 0.4866889\tbest: 0.4869687 (821)\ttotal: 38.7s\tremaining: 1m 28s\n",
            "1200:\tlearn: 0.4897183\ttest: 0.4884678\tbest: 0.4884720 (1180)\ttotal: 51.1s\tremaining: 1m 14s\n",
            "1500:\tlearn: 0.4942578\ttest: 0.4902342\tbest: 0.4902342 (1500)\ttotal: 1m 3s\tremaining: 1m 1s\n",
            "1800:\tlearn: 0.4980139\ttest: 0.4910472\tbest: 0.4913042 (1743)\ttotal: 1m 15s\tremaining: 48.7s\n",
            "2100:\tlearn: 0.5018230\ttest: 0.4924376\tbest: 0.4925343 (2085)\ttotal: 1m 28s\tremaining: 35.9s\n",
            "2400:\tlearn: 0.5054539\ttest: 0.4929524\tbest: 0.4932122 (2332)\ttotal: 1m 40s\tremaining: 23.3s\n",
            "2700:\tlearn: 0.5087680\ttest: 0.4937095\tbest: 0.4938024 (2680)\ttotal: 1m 53s\tremaining: 10.7s\n",
            "2956:\tlearn: 0.5116707\ttest: 0.4944412\tbest: 0.4945155 (2954)\ttotal: 2m 3s\tremaining: 0us\n",
            "bestTest = 0.4945155195\n",
            "bestIteration = 2954\n",
            "Shrink model to first 2955 iterations.\n"
          ]
        },
        {
          "output_type": "stream",
          "name": "stderr",
          "text": [
            "\u001b[32m[I 2022-12-22 19:43:08,682]\u001b[0m Trial 11 finished with value: 0.4945155194588433 and parameters: {'iterations': 2957, 'depth': 8, 'min_data_in_leaf': 988, 'learning_rate': 0.06952841231118001, 'early_stopping_rounds': 402}. Best is trial 10 with value: 0.4954785139927096.\u001b[0m\n"
          ]
        },
        {
          "output_type": "stream",
          "name": "stdout",
          "text": [
            "0:\tlearn: 0.4612842\ttest: 0.4718422\tbest: 0.4718422 (0)\ttotal: 82.8ms\tremaining: 4m\n",
            "300:\tlearn: 0.4736082\ttest: 0.4818464\tbest: 0.4819179 (296)\ttotal: 11s\tremaining: 1m 35s\n",
            "600:\tlearn: 0.4790082\ttest: 0.4853014\tbest: 0.4853110 (557)\ttotal: 21.1s\tremaining: 1m 21s\n",
            "900:\tlearn: 0.4834610\ttest: 0.4865894\tbest: 0.4865920 (897)\ttotal: 31.1s\tremaining: 1m 9s\n",
            "1200:\tlearn: 0.4874515\ttest: 0.4884873\tbest: 0.4886182 (1187)\ttotal: 41.1s\tremaining: 58.5s\n",
            "1500:\tlearn: 0.4911267\ttest: 0.4903737\tbest: 0.4904032 (1494)\ttotal: 51.1s\tremaining: 48s\n",
            "1800:\tlearn: 0.4944694\ttest: 0.4916205\tbest: 0.4916205 (1800)\ttotal: 1m 1s\tremaining: 37.7s\n",
            "2100:\tlearn: 0.4974470\ttest: 0.4923459\tbest: 0.4924162 (2092)\ttotal: 1m 12s\tremaining: 27.9s\n",
            "2400:\tlearn: 0.5004376\ttest: 0.4936331\tbest: 0.4936331 (2400)\ttotal: 1m 22s\tremaining: 17.5s\n",
            "2700:\tlearn: 0.5030797\ttest: 0.4944594\tbest: 0.4945334 (2696)\ttotal: 1m 32s\tremaining: 7.19s\n",
            "2910:\tlearn: 0.5053694\ttest: 0.4948118\tbest: 0.4949621 (2905)\ttotal: 1m 39s\tremaining: 0us\n",
            "bestTest = 0.4949621205\n",
            "bestIteration = 2905\n",
            "Shrink model to first 2906 iterations.\n"
          ]
        },
        {
          "output_type": "stream",
          "name": "stderr",
          "text": [
            "\u001b[32m[I 2022-12-22 19:45:15,420]\u001b[0m Trial 12 finished with value: 0.4949621205001809 and parameters: {'iterations': 2911, 'depth': 7, 'min_data_in_leaf': 979, 'learning_rate': 0.0797515191003966, 'early_stopping_rounds': 424}. Best is trial 10 with value: 0.4954785139927096.\u001b[0m\n"
          ]
        },
        {
          "output_type": "stream",
          "name": "stdout",
          "text": [
            "0:\tlearn: 0.4612842\ttest: 0.4718422\tbest: 0.4718422 (0)\ttotal: 90.1ms\tremaining: 4m 27s\n",
            "300:\tlearn: 0.4732709\ttest: 0.4815686\tbest: 0.4815686 (300)\ttotal: 11.2s\tremaining: 1m 39s\n",
            "600:\tlearn: 0.4785252\ttest: 0.4842631\tbest: 0.4846055 (585)\ttotal: 21.1s\tremaining: 1m 23s\n",
            "900:\tlearn: 0.4830230\ttest: 0.4865772\tbest: 0.4868190 (872)\ttotal: 31.2s\tremaining: 1m 11s\n",
            "1200:\tlearn: 0.4866725\ttest: 0.4880200\tbest: 0.4881774 (1178)\ttotal: 41.2s\tremaining: 1m\n",
            "1500:\tlearn: 0.4904816\ttest: 0.4898296\tbest: 0.4899412 (1496)\ttotal: 51.1s\tremaining: 50s\n",
            "1800:\tlearn: 0.4940500\ttest: 0.4912872\tbest: 0.4912872 (1800)\ttotal: 1m 1s\tremaining: 39.6s\n",
            "2100:\tlearn: 0.4973976\ttest: 0.4919437\tbest: 0.4919960 (2091)\ttotal: 1m 11s\tremaining: 29.4s\n",
            "2400:\tlearn: 0.5002466\ttest: 0.4930920\tbest: 0.4931166 (2383)\ttotal: 1m 21s\tremaining: 19.3s\n",
            "2700:\tlearn: 0.5026990\ttest: 0.4936305\tbest: 0.4936759 (2698)\ttotal: 1m 31s\tremaining: 9.09s\n",
            "2968:\tlearn: 0.5051682\ttest: 0.4944413\tbest: 0.4944413 (2968)\ttotal: 1m 40s\tremaining: 0us\n",
            "bestTest = 0.4944412887\n",
            "bestIteration = 2968\n"
          ]
        },
        {
          "output_type": "stream",
          "name": "stderr",
          "text": [
            "\u001b[32m[I 2022-12-22 19:47:23,700]\u001b[0m Trial 13 finished with value: 0.4944412887020004 and parameters: {'iterations': 2969, 'depth': 7, 'min_data_in_leaf': 986, 'learning_rate': 0.07849707882481065, 'early_stopping_rounds': 468}. Best is trial 10 with value: 0.4954785139927096.\u001b[0m\n"
          ]
        },
        {
          "output_type": "stream",
          "name": "stdout",
          "text": [
            "0:\tlearn: 0.4663056\ttest: 0.4759566\tbest: 0.4759566 (0)\ttotal: 282ms\tremaining: 13m 16s\n",
            "300:\tlearn: 0.4903995\ttest: 0.4839772\tbest: 0.4839772 (300)\ttotal: 51.1s\tremaining: 7m 9s\n",
            "600:\tlearn: 0.5095166\ttest: 0.4881806\tbest: 0.4881981 (597)\ttotal: 1m 41s\tremaining: 6m 14s\n",
            "900:\tlearn: 0.5269887\ttest: 0.4908685\tbest: 0.4909249 (897)\ttotal: 2m 32s\tremaining: 5m 26s\n",
            "1200:\tlearn: 0.5433642\ttest: 0.4930708\tbest: 0.4931076 (1193)\ttotal: 3m 24s\tremaining: 4m 37s\n",
            "1500:\tlearn: 0.5588165\ttest: 0.4945213\tbest: 0.4945231 (1494)\ttotal: 4m 17s\tremaining: 3m 47s\n",
            "1800:\tlearn: 0.5728700\ttest: 0.4952041\tbest: 0.4952994 (1799)\ttotal: 5m 9s\tremaining: 2m 56s\n",
            "2100:\tlearn: 0.5858959\ttest: 0.4954641\tbest: 0.4958637 (2046)\ttotal: 6m 3s\tremaining: 2m 5s\n",
            "2400:\tlearn: 0.5979588\ttest: 0.4962653\tbest: 0.4963775 (2336)\ttotal: 6m 56s\tremaining: 1m 14s\n",
            "2700:\tlearn: 0.6097634\ttest: 0.4971311\tbest: 0.4973640 (2691)\ttotal: 7m 50s\tremaining: 22.1s\n",
            "2827:\tlearn: 0.6140929\ttest: 0.4968517\tbest: 0.4973640 (2691)\ttotal: 8m 13s\tremaining: 0us\n",
            "bestTest = 0.497364033\n",
            "bestIteration = 2691\n",
            "Shrink model to first 2692 iterations.\n"
          ]
        },
        {
          "output_type": "stream",
          "name": "stderr",
          "text": [
            "\u001b[32m[I 2022-12-22 19:56:11,731]\u001b[0m Trial 14 finished with value: 0.49736403298792453 and parameters: {'iterations': 2828, 'depth': 12, 'min_data_in_leaf': 837, 'learning_rate': 0.07932207336430212, 'early_stopping_rounds': 490}. Best is trial 14 with value: 0.49736403298792453.\u001b[0m\n"
          ]
        }
      ]
    },
    {
      "cell_type": "code",
      "source": [
        "study.best_trial.params"
      ],
      "metadata": {
        "colab": {
          "base_uri": "https://localhost:8080/"
        },
        "id": "njb6uIkyOIPm",
        "outputId": "fc1445ee-0185-488f-9e81-8b88bf61f623"
      },
      "execution_count": null,
      "outputs": [
        {
          "output_type": "execute_result",
          "data": {
            "text/plain": [
              "{'iterations': 2828,\n",
              " 'depth': 12,\n",
              " 'min_data_in_leaf': 837,\n",
              " 'learning_rate': 0.07932207336430212,\n",
              " 'early_stopping_rounds': 490}"
            ]
          },
          "metadata": {},
          "execution_count": 45
        }
      ]
    },
    {
      "cell_type": "code",
      "source": [
        "catboost_params ={\n",
        "    'iterations': 2828,\n",
        "    'depth': 12,\n",
        "    'min_data_in_leaf': 837,\n",
        "    'learning_rate': 0.07932207336430212,\n",
        "    'eval_metric': 'TotalF1:average=Macro',\n",
        "    \"loss_function\": 'MultiClass',\n",
        "    'task_type': 'GPU',\n",
        "    'verbose': 300,\n",
        "    'early_stopping_rounds': 490}"
      ],
      "metadata": {
        "id": "tv1UTeE_a-LH"
      },
      "execution_count": null,
      "outputs": []
    },
    {
      "cell_type": "code",
      "source": [
        "model = CatBoostClassifier(**catboost_params) \n",
        "model.fit(train_pool, eval_set=valid_pool)"
      ],
      "metadata": {
        "colab": {
          "base_uri": "https://localhost:8080/"
        },
        "id": "YG4hm3daay_Y",
        "outputId": "19fa6abc-4c2e-4b42-d7c9-cb657976ddc1"
      },
      "execution_count": null,
      "outputs": [
        {
          "output_type": "stream",
          "name": "stdout",
          "text": [
            "0:\tlearn: 0.4663056\ttest: 0.4759566\tbest: 0.4759566 (0)\ttotal: 280ms\tremaining: 13m 10s\n",
            "300:\tlearn: 0.4903995\ttest: 0.4839772\tbest: 0.4839772 (300)\ttotal: 56.1s\tremaining: 7m 51s\n",
            "600:\tlearn: 0.5095166\ttest: 0.4881806\tbest: 0.4881981 (597)\ttotal: 1m 46s\tremaining: 6m 34s\n",
            "900:\tlearn: 0.5269887\ttest: 0.4908685\tbest: 0.4909249 (897)\ttotal: 2m 40s\tremaining: 5m 42s\n",
            "1200:\tlearn: 0.5433642\ttest: 0.4930708\tbest: 0.4931076 (1193)\ttotal: 3m 32s\tremaining: 4m 47s\n",
            "1500:\tlearn: 0.5588165\ttest: 0.4945213\tbest: 0.4945231 (1494)\ttotal: 4m 24s\tremaining: 3m 54s\n",
            "1800:\tlearn: 0.5728700\ttest: 0.4952041\tbest: 0.4952994 (1799)\ttotal: 5m 18s\tremaining: 3m 1s\n",
            "2100:\tlearn: 0.5858959\ttest: 0.4954641\tbest: 0.4958637 (2046)\ttotal: 6m 11s\tremaining: 2m 8s\n",
            "2400:\tlearn: 0.5979588\ttest: 0.4962653\tbest: 0.4963775 (2336)\ttotal: 7m 5s\tremaining: 1m 15s\n",
            "2700:\tlearn: 0.6097634\ttest: 0.4971311\tbest: 0.4973640 (2691)\ttotal: 7m 59s\tremaining: 22.5s\n",
            "2827:\tlearn: 0.6140929\ttest: 0.4968517\tbest: 0.4973640 (2691)\ttotal: 8m 22s\tremaining: 0us\n",
            "bestTest = 0.497364033\n",
            "bestIteration = 2691\n",
            "Shrink model to first 2692 iterations.\n"
          ]
        },
        {
          "output_type": "execute_result",
          "data": {
            "text/plain": [
              "<catboost.core.CatBoostClassifier at 0x7f7c86d48c40>"
            ]
          },
          "metadata": {},
          "execution_count": 51
        }
      ]
    },
    {
      "cell_type": "code",
      "source": [
        "f1_macro = f1_score(y_test, model.predict(X_test), average='macro')\n",
        "f1_micro = f1_score(y_test, model.predict(X_test), average='micro')"
      ],
      "metadata": {
        "id": "WI58hE-ca1gI"
      },
      "execution_count": null,
      "outputs": []
    },
    {
      "cell_type": "code",
      "source": [
        "f1_macro"
      ],
      "metadata": {
        "colab": {
          "base_uri": "https://localhost:8080/"
        },
        "id": "pgcY07k_dkdQ",
        "outputId": "15f7200f-9b8a-43ec-d9f5-b48066310b16"
      },
      "execution_count": null,
      "outputs": [
        {
          "output_type": "execute_result",
          "data": {
            "text/plain": [
              "0.4962320464926899"
            ]
          },
          "metadata": {},
          "execution_count": 53
        }
      ]
    },
    {
      "cell_type": "code",
      "source": [
        "f1_micro"
      ],
      "metadata": {
        "colab": {
          "base_uri": "https://localhost:8080/"
        },
        "id": "UyDECNgrd7L4",
        "outputId": "99b68014-6260-4da6-cc76-0e3137bcf16d"
      },
      "execution_count": null,
      "outputs": [
        {
          "output_type": "execute_result",
          "data": {
            "text/plain": [
              "0.6079892879932071"
            ]
          },
          "metadata": {},
          "execution_count": 54
        }
      ]
    },
    {
      "cell_type": "code",
      "source": [
        "from sklearn.metrics import roc_auc_score"
      ],
      "metadata": {
        "id": "_y9rff8Kd8ES"
      },
      "execution_count": null,
      "outputs": []
    },
    {
      "cell_type": "code",
      "source": [
        "preds = model.predict(X_test)"
      ],
      "metadata": {
        "id": "vOOzZx3MeebO"
      },
      "execution_count": null,
      "outputs": []
    },
    {
      "cell_type": "code",
      "source": [
        "probs = model.predict_proba(X_test)"
      ],
      "metadata": {
        "id": "01N9_I-je7ux"
      },
      "execution_count": null,
      "outputs": []
    },
    {
      "cell_type": "code",
      "source": [
        "macro_auc = roc_auc_score(y_test, probs, multi_class='ovo')\n",
        "micro_auc = roc_auc_score(y_test, probs, multi_class='ovr')"
      ],
      "metadata": {
        "id": "utdGQumneckq"
      },
      "execution_count": null,
      "outputs": []
    },
    {
      "cell_type": "code",
      "source": [
        "macro_auc"
      ],
      "metadata": {
        "colab": {
          "base_uri": "https://localhost:8080/"
        },
        "id": "8YAth55LenQQ",
        "outputId": "5cc1a5b5-2b80-43d5-fc75-1322d2e6a166"
      },
      "execution_count": null,
      "outputs": [
        {
          "output_type": "execute_result",
          "data": {
            "text/plain": [
              "0.7375407351400082"
            ]
          },
          "metadata": {},
          "execution_count": 66
        }
      ]
    },
    {
      "cell_type": "code",
      "source": [
        "micro_auc"
      ],
      "metadata": {
        "colab": {
          "base_uri": "https://localhost:8080/"
        },
        "id": "R-aVsf8efJau",
        "outputId": "d15a5c93-8618-45b5-80fa-bbaf8520c9c2"
      },
      "execution_count": null,
      "outputs": [
        {
          "output_type": "execute_result",
          "data": {
            "text/plain": [
              "0.7428201370837355"
            ]
          },
          "metadata": {},
          "execution_count": 67
        }
      ]
    },
    {
      "cell_type": "code",
      "source": [
        "from sklearn.metrics import precision_score, recall_score"
      ],
      "metadata": {
        "id": "0dlwbAJ1fJ41"
      },
      "execution_count": null,
      "outputs": []
    },
    {
      "cell_type": "code",
      "source": [
        "macro_precision_score = precision_score(y_test, preds, average='micro')\n",
        "micro_precision_score = precision_score(y_test, preds, average='macro')"
      ],
      "metadata": {
        "id": "WmQZsXMFfcmz"
      },
      "execution_count": null,
      "outputs": []
    },
    {
      "cell_type": "code",
      "source": [
        "macro_precision_score"
      ],
      "metadata": {
        "colab": {
          "base_uri": "https://localhost:8080/"
        },
        "id": "6F-reN1UfjyV",
        "outputId": "d6c32e2e-c756-46c0-efb4-caa8b3a7f87d"
      },
      "execution_count": null,
      "outputs": [
        {
          "output_type": "execute_result",
          "data": {
            "text/plain": [
              "0.6079892879932071"
            ]
          },
          "metadata": {},
          "execution_count": 71
        }
      ]
    },
    {
      "cell_type": "code",
      "source": [
        "micro_precision_score"
      ],
      "metadata": {
        "colab": {
          "base_uri": "https://localhost:8080/"
        },
        "id": "pg67UjrLfnD4",
        "outputId": "da53c4b4-ac4c-423d-8197-ddaa0c5ac994"
      },
      "execution_count": null,
      "outputs": [
        {
          "output_type": "execute_result",
          "data": {
            "text/plain": [
              "0.5816498748540915"
            ]
          },
          "metadata": {},
          "execution_count": 72
        }
      ]
    },
    {
      "cell_type": "code",
      "source": [
        "macro_recall_score = recall_score(y_test, preds, average='micro')\n",
        "micro_recall_score = recall_score(y_test, preds, average='macro')"
      ],
      "metadata": {
        "id": "jdzxRXD0fnk7"
      },
      "execution_count": null,
      "outputs": []
    },
    {
      "cell_type": "code",
      "source": [
        "macro_recall_score"
      ],
      "metadata": {
        "colab": {
          "base_uri": "https://localhost:8080/"
        },
        "id": "QMJhlDPKfqy_",
        "outputId": "5ce5495f-63be-459b-c140-c599e583e330"
      },
      "execution_count": null,
      "outputs": [
        {
          "output_type": "execute_result",
          "data": {
            "text/plain": [
              "0.6079892879932071"
            ]
          },
          "metadata": {},
          "execution_count": 74
        }
      ]
    },
    {
      "cell_type": "code",
      "source": [
        "micro_recall_score"
      ],
      "metadata": {
        "colab": {
          "base_uri": "https://localhost:8080/"
        },
        "id": "IA3GXUlOfrWa",
        "outputId": "d6b6b29b-dd6b-4aa5-b0c6-e5531fae2d81"
      },
      "execution_count": null,
      "outputs": [
        {
          "output_type": "execute_result",
          "data": {
            "text/plain": [
              "0.481517569561267"
            ]
          },
          "metadata": {},
          "execution_count": 75
        }
      ]
    },
    {
      "cell_type": "code",
      "source": [
        "from sklearn.metrics import confusion_matrix, ConfusionMatrixDisplay"
      ],
      "metadata": {
        "id": "ha-1MzCPfsCX"
      },
      "execution_count": null,
      "outputs": []
    },
    {
      "cell_type": "code",
      "source": [
        "cm = confusion_matrix(y_test, preds, labels=model.classes_)\n",
        "disp = ConfusionMatrixDisplay(confusion_matrix=cm,\n",
        "                              display_labels=model.classes_)"
      ],
      "metadata": {
        "id": "X2rLp2XPf7LC"
      },
      "execution_count": null,
      "outputs": []
    },
    {
      "cell_type": "code",
      "source": [
        "disp.plot()\n",
        "plt.show()"
      ],
      "metadata": {
        "colab": {
          "base_uri": "https://localhost:8080/",
          "height": 279
        },
        "id": "qYFZIE3IgAHz",
        "outputId": "47cd4738-8cf2-4d58-9a9a-e8e37b089f68"
      },
      "execution_count": null,
      "outputs": [
        {
          "output_type": "display_data",
          "data": {
            "text/plain": [
              "<Figure size 432x288 with 2 Axes>"
            ],
            "image/png": "[encoded data removed]"
          },
          "metadata": {
            "needs_background": "light"
          }
        }
      ]
    },
    {
      "cell_type": "code",
      "source": [
        "cm = confusion_matrix(y_test, preds, labels=model.classes_, normalize='true')\n",
        "disp = ConfusionMatrixDisplay(confusion_matrix=cm,\n",
        "                              display_labels=model.classes_)"
      ],
      "metadata": {
        "id": "I8phDUSOgDEY"
      },
      "execution_count": null,
      "outputs": []
    },
    {
      "cell_type": "code",
      "source": [
        "disp.plot()\n",
        "plt.show()"
      ],
      "metadata": {
        "colab": {
          "base_uri": "https://localhost:8080/",
          "height": 279
        },
        "id": "qqLEeWxagGyg",
        "outputId": "5b862a32-a7f4-4b65-f5ca-ac29dac8e78b"
      },
      "execution_count": null,
      "outputs": [
        {
          "output_type": "display_data",
          "data": {
            "text/plain": [
              "<Figure size 432x288 with 2 Axes>"
            ],
            "image/png": "[encoded data removed]"
          },
          "metadata": {
            "needs_background": "light"
          }
        }
      ]
    },
    {
      "cell_type": "code",
      "source": [
        "df_train.label.value_counts()"
      ],
      "metadata": {
        "colab": {
          "base_uri": "https://localhost:8080/"
        },
        "id": "WcDpcOATgJdp",
        "outputId": "00aa74cd-353f-4c83-b3d3-3f5554996683"
      },
      "execution_count": null,
      "outputs": [
        {
          "output_type": "execute_result",
          "data": {
            "text/plain": [
              "2    471774\n",
              "1    370235\n",
              "0     86792\n",
              "Name: label, dtype: int64"
            ]
          },
          "metadata": {},
          "execution_count": 82
        }
      ]
    },
    {
      "cell_type": "code",
      "source": [],
      "metadata": {
        "id": "3xVg3vUngiXv"
      },
      "execution_count": null,
      "outputs": []
    }
  ]
}