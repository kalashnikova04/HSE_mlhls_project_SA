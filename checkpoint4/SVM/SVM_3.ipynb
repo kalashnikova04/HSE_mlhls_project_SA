{
 "cells": [
  {
   "attachments": {},
   "cell_type": "markdown",
   "metadata": {},
   "source": [
    "## Попытка № 3. Word2Vec."
   ]
  },
  {
   "cell_type": "code",
   "execution_count": 8,
   "metadata": {},
   "outputs": [],
   "source": [
    "import pandas as pd\n",
    "import matplotlib.pyplot as plt\n",
    "import seaborn as sns\n",
    "import random\n",
    "import numpy as np\n",
    "from sklearn.metrics import *\n",
    "from sklearn.feature_extraction.text import *\n",
    "from gensim.models import Word2Vec\n",
    "from collections import Counter, defaultdict\n",
    "from nltk import FreqDist\n",
    "from sklearn.manifold import TSNE\n",
    "from sklearn.pipeline import Pipeline\n",
    "from sklearn.svm import SVC\n",
    "import gensim\n",
    "import warnings\n",
    "warnings.filterwarnings('ignore')\n",
    "random.seed(822)\n",
    "\n",
    "%matplotlib inline\n",
    "from tqdm import tqdm\n",
    "tqdm.pandas()"
   ]
  },
  {
   "cell_type": "code",
   "execution_count": 2,
   "metadata": {},
   "outputs": [],
   "source": [
    "df_train = pd.read_csv('train.csv')\n",
    "df_test = pd.read_csv('test.csv')"
   ]
  },
  {
   "cell_type": "code",
   "execution_count": 27,
   "metadata": {},
   "outputs": [],
   "source": [
    "# Соединим данные, чтобы больше слов попало в словарь\n",
    "df = pd.concat([df_train, df_test], axis=0)"
   ]
  },
  {
   "cell_type": "code",
   "execution_count": 28,
   "metadata": {},
   "outputs": [
    {
     "data": {
      "text/html": [
       "<div>\n",
       "<style scoped>\n",
       "    .dataframe tbody tr th:only-of-type {\n",
       "        vertical-align: middle;\n",
       "    }\n",
       "\n",
       "    .dataframe tbody tr th {\n",
       "        vertical-align: top;\n",
       "    }\n",
       "\n",
       "    .dataframe thead th {\n",
       "        text-align: right;\n",
       "    }\n",
       "</style>\n",
       "<table border=\"1\" class=\"dataframe\">\n",
       "  <thead>\n",
       "    <tr style=\"text-align: right;\">\n",
       "      <th></th>\n",
       "      <th>Unnamed: 0</th>\n",
       "      <th>text</th>\n",
       "      <th>label</th>\n",
       "      <th>text_lemmatized</th>\n",
       "    </tr>\n",
       "  </thead>\n",
       "  <tbody>\n",
       "    <tr>\n",
       "      <th>0</th>\n",
       "      <td>12704</td>\n",
       "      <td>why don’t trade your btc to earn weekly rathe...</td>\n",
       "      <td>1</td>\n",
       "      <td>['dont', 'trade', 'btc', 'earn', 'weekly', 'ra...</td>\n",
       "    </tr>\n",
       "    <tr>\n",
       "      <th>1</th>\n",
       "      <td>1199027</td>\n",
       "      <td>i’ll be honest, i didn’t see it sinking this ...</td>\n",
       "      <td>1</td>\n",
       "      <td>['ill', 'honest', 'didnt', 'see', 'sinking', '...</td>\n",
       "    </tr>\n",
       "    <tr>\n",
       "      <th>2</th>\n",
       "      <td>858781</td>\n",
       "      <td>-x needs to break 38 to hit 4 no shit lol</td>\n",
       "      <td>1</td>\n",
       "      <td>['x', 'need', 'break', 'hit', 'shit', 'lol']</td>\n",
       "    </tr>\n",
       "    <tr>\n",
       "      <th>3</th>\n",
       "      <td>972002</td>\n",
       "      <td>it's gonna be an all nighter ha?</td>\n",
       "      <td>1</td>\n",
       "      <td>['gon', 'na', 'nighter', 'ha']</td>\n",
       "    </tr>\n",
       "    <tr>\n",
       "      <th>4</th>\n",
       "      <td>1281138</td>\n",
       "      <td>y’all should just come to cro.x</td>\n",
       "      <td>2</td>\n",
       "      <td>['yall', 'come', 'crox']</td>\n",
       "    </tr>\n",
       "    <tr>\n",
       "      <th>...</th>\n",
       "      <td>...</td>\n",
       "      <td>...</td>\n",
       "      <td>...</td>\n",
       "      <td>...</td>\n",
       "    </tr>\n",
       "    <tr>\n",
       "      <th>398053</th>\n",
       "      <td>873967</td>\n",
       "      <td>-x sold 46k doge 1 month ago, now i’m up 1050%...</td>\n",
       "      <td>0</td>\n",
       "      <td>['x', 'sold', 'doge', 'month', 'ago', 'im', 'd...</td>\n",
       "    </tr>\n",
       "    <tr>\n",
       "      <th>398054</th>\n",
       "      <td>637756</td>\n",
       "      <td>the wrong strain of weed will make you panic s...</td>\n",
       "      <td>2</td>\n",
       "      <td>['wrong', 'strain', 'weed', 'make', 'panic', '...</td>\n",
       "    </tr>\n",
       "    <tr>\n",
       "      <th>398055</th>\n",
       "      <td>782682</td>\n",
       "      <td>im happy af with this pre black friday event!</td>\n",
       "      <td>2</td>\n",
       "      <td>['im', 'happy', 'af', 'pre', 'black', 'friday'...</td>\n",
       "    </tr>\n",
       "    <tr>\n",
       "      <th>398056</th>\n",
       "      <td>646034</td>\n",
       "      <td>new article : this is exactly why cardano (ada...</td>\n",
       "      <td>1</td>\n",
       "      <td>['new', 'article', 'exactly', 'cardano', 'ada'...</td>\n",
       "    </tr>\n",
       "    <tr>\n",
       "      <th>398057</th>\n",
       "      <td>149410</td>\n",
       "      <td>from bollinger bands and rsi on 4-hr a big pu...</td>\n",
       "      <td>2</td>\n",
       "      <td>['bollinger', 'band', 'rsi', 'hr', 'big', 'pum...</td>\n",
       "    </tr>\n",
       "  </tbody>\n",
       "</table>\n",
       "<p>1326859 rows × 4 columns</p>\n",
       "</div>"
      ],
      "text/plain": [
       "        Unnamed: 0                                               text  label  \\\n",
       "0            12704   why don’t trade your btc to earn weekly rathe...      1   \n",
       "1          1199027   i’ll be honest, i didn’t see it sinking this ...      1   \n",
       "2           858781          -x needs to break 38 to hit 4 no shit lol      1   \n",
       "3           972002                   it's gonna be an all nighter ha?      1   \n",
       "4          1281138                    y’all should just come to cro.x      2   \n",
       "...            ...                                                ...    ...   \n",
       "398053      873967  -x sold 46k doge 1 month ago, now i’m up 1050%...      0   \n",
       "398054      637756  the wrong strain of weed will make you panic s...      2   \n",
       "398055      782682      im happy af with this pre black friday event!      2   \n",
       "398056      646034  new article : this is exactly why cardano (ada...      1   \n",
       "398057      149410   from bollinger bands and rsi on 4-hr a big pu...      2   \n",
       "\n",
       "                                          text_lemmatized  \n",
       "0       ['dont', 'trade', 'btc', 'earn', 'weekly', 'ra...  \n",
       "1       ['ill', 'honest', 'didnt', 'see', 'sinking', '...  \n",
       "2            ['x', 'need', 'break', 'hit', 'shit', 'lol']  \n",
       "3                          ['gon', 'na', 'nighter', 'ha']  \n",
       "4                                ['yall', 'come', 'crox']  \n",
       "...                                                   ...  \n",
       "398053  ['x', 'sold', 'doge', 'month', 'ago', 'im', 'd...  \n",
       "398054  ['wrong', 'strain', 'weed', 'make', 'panic', '...  \n",
       "398055  ['im', 'happy', 'af', 'pre', 'black', 'friday'...  \n",
       "398056  ['new', 'article', 'exactly', 'cardano', 'ada'...  \n",
       "398057  ['bollinger', 'band', 'rsi', 'hr', 'big', 'pum...  \n",
       "\n",
       "[1326859 rows x 4 columns]"
      ]
     },
     "execution_count": 28,
     "metadata": {},
     "output_type": "execute_result"
    }
   ],
   "source": [
    "df"
   ]
  },
  {
   "cell_type": "code",
   "execution_count": 31,
   "metadata": {},
   "outputs": [],
   "source": [
    "df.reset_index(inplace=True)"
   ]
  },
  {
   "cell_type": "code",
   "execution_count": 32,
   "metadata": {},
   "outputs": [
    {
     "data": {
      "text/plain": [
       "\"['dont', 'trade', 'btc', 'earn', 'weekly', 'rather', 'hodl']\""
      ]
     },
     "execution_count": 32,
     "metadata": {},
     "output_type": "execute_result"
    }
   ],
   "source": [
    "# Данные загрузились в формате string, не list\n",
    "# Исправим это, иначе в словарь попадут не слова, а символы\n",
    "df.text_lemmatized[0]"
   ]
  },
  {
   "cell_type": "code",
   "execution_count": 3,
   "metadata": {},
   "outputs": [],
   "source": [
    "def make_lst(strng):\n",
    "    s = []\n",
    "    strng = strng[1:-1].split(', ')\n",
    "    for el in strng:\n",
    "        s.append(el[1:-1])\n",
    "    return s"
   ]
  },
  {
   "cell_type": "code",
   "execution_count": 4,
   "metadata": {},
   "outputs": [
    {
     "ename": "NameError",
     "evalue": "name 'df' is not defined",
     "output_type": "error",
     "traceback": [
      "\u001b[1;31m---------------------------------------------------------------------------\u001b[0m",
      "\u001b[1;31mNameError\u001b[0m                                 Traceback (most recent call last)",
      "Cell \u001b[1;32mIn[4], line 1\u001b[0m\n\u001b[1;32m----> 1\u001b[0m df\u001b[39m.\u001b[39mtext_lemmatized \u001b[39m=\u001b[39m df\u001b[39m.\u001b[39mtext_lemmatized\u001b[39m.\u001b[39mprogress_apply(make_lst)\n",
      "\u001b[1;31mNameError\u001b[0m: name 'df' is not defined"
     ]
    }
   ],
   "source": [
    "df.text_lemmatized = df.text_lemmatized.progress_apply(make_lst)"
   ]
  },
  {
   "cell_type": "code",
   "execution_count": 5,
   "metadata": {},
   "outputs": [
    {
     "name": "stderr",
     "output_type": "stream",
     "text": [
      "100%|██████████| 928801/928801 [00:02<00:00, 429123.46it/s]\n"
     ]
    }
   ],
   "source": [
    "df_train.text_lemmatized = df_train.text_lemmatized.progress_apply(make_lst)"
   ]
  },
  {
   "cell_type": "code",
   "execution_count": 6,
   "metadata": {},
   "outputs": [
    {
     "name": "stderr",
     "output_type": "stream",
     "text": [
      "100%|██████████| 398058/398058 [00:00<00:00, 461148.27it/s]\n"
     ]
    }
   ],
   "source": [
    "df_test.text_lemmatized = df_test.text_lemmatized.progress_apply(make_lst)"
   ]
  },
  {
   "cell_type": "code",
   "execution_count": 34,
   "metadata": {},
   "outputs": [
    {
     "data": {
      "text/html": [
       "<div>\n",
       "<style scoped>\n",
       "    .dataframe tbody tr th:only-of-type {\n",
       "        vertical-align: middle;\n",
       "    }\n",
       "\n",
       "    .dataframe tbody tr th {\n",
       "        vertical-align: top;\n",
       "    }\n",
       "\n",
       "    .dataframe thead th {\n",
       "        text-align: right;\n",
       "    }\n",
       "</style>\n",
       "<table border=\"1\" class=\"dataframe\">\n",
       "  <thead>\n",
       "    <tr style=\"text-align: right;\">\n",
       "      <th></th>\n",
       "      <th>index</th>\n",
       "      <th>Unnamed: 0</th>\n",
       "      <th>text</th>\n",
       "      <th>label</th>\n",
       "      <th>text_lemmatized</th>\n",
       "    </tr>\n",
       "  </thead>\n",
       "  <tbody>\n",
       "    <tr>\n",
       "      <th>0</th>\n",
       "      <td>0</td>\n",
       "      <td>12704</td>\n",
       "      <td>why don’t trade your btc to earn weekly rathe...</td>\n",
       "      <td>1</td>\n",
       "      <td>[dont, trade, btc, earn, weekly, rather, hodl]</td>\n",
       "    </tr>\n",
       "    <tr>\n",
       "      <th>1</th>\n",
       "      <td>1</td>\n",
       "      <td>1199027</td>\n",
       "      <td>i’ll be honest, i didn’t see it sinking this ...</td>\n",
       "      <td>1</td>\n",
       "      <td>[ill, honest, didnt, see, sinking, low, fast, ...</td>\n",
       "    </tr>\n",
       "    <tr>\n",
       "      <th>2</th>\n",
       "      <td>2</td>\n",
       "      <td>858781</td>\n",
       "      <td>-x needs to break 38 to hit 4 no shit lol</td>\n",
       "      <td>1</td>\n",
       "      <td>[x, need, break, hit, shit, lol]</td>\n",
       "    </tr>\n",
       "    <tr>\n",
       "      <th>3</th>\n",
       "      <td>3</td>\n",
       "      <td>972002</td>\n",
       "      <td>it's gonna be an all nighter ha?</td>\n",
       "      <td>1</td>\n",
       "      <td>[gon, na, nighter, ha]</td>\n",
       "    </tr>\n",
       "    <tr>\n",
       "      <th>4</th>\n",
       "      <td>4</td>\n",
       "      <td>1281138</td>\n",
       "      <td>y’all should just come to cro.x</td>\n",
       "      <td>2</td>\n",
       "      <td>[yall, come, crox]</td>\n",
       "    </tr>\n",
       "    <tr>\n",
       "      <th>...</th>\n",
       "      <td>...</td>\n",
       "      <td>...</td>\n",
       "      <td>...</td>\n",
       "      <td>...</td>\n",
       "      <td>...</td>\n",
       "    </tr>\n",
       "    <tr>\n",
       "      <th>1326854</th>\n",
       "      <td>398053</td>\n",
       "      <td>873967</td>\n",
       "      <td>-x sold 46k doge 1 month ago, now i’m up 1050%...</td>\n",
       "      <td>0</td>\n",
       "      <td>[x, sold, doge, month, ago, im, doge, shib, sw...</td>\n",
       "    </tr>\n",
       "    <tr>\n",
       "      <th>1326855</th>\n",
       "      <td>398054</td>\n",
       "      <td>637756</td>\n",
       "      <td>the wrong strain of weed will make you panic s...</td>\n",
       "      <td>2</td>\n",
       "      <td>[wrong, strain, weed, make, panic, sell, indica]</td>\n",
       "    </tr>\n",
       "    <tr>\n",
       "      <th>1326856</th>\n",
       "      <td>398055</td>\n",
       "      <td>782682</td>\n",
       "      <td>im happy af with this pre black friday event!</td>\n",
       "      <td>2</td>\n",
       "      <td>[im, happy, af, pre, black, friday, event]</td>\n",
       "    </tr>\n",
       "    <tr>\n",
       "      <th>1326857</th>\n",
       "      <td>398056</td>\n",
       "      <td>646034</td>\n",
       "      <td>new article : this is exactly why cardano (ada...</td>\n",
       "      <td>1</td>\n",
       "      <td>[new, article, exactly, cardano, ada, get, fud]</td>\n",
       "    </tr>\n",
       "    <tr>\n",
       "      <th>1326858</th>\n",
       "      <td>398057</td>\n",
       "      <td>149410</td>\n",
       "      <td>from bollinger bands and rsi on 4-hr a big pu...</td>\n",
       "      <td>2</td>\n",
       "      <td>[bollinger, band, rsi, hr, big, pump, coming, ...</td>\n",
       "    </tr>\n",
       "  </tbody>\n",
       "</table>\n",
       "<p>1326859 rows × 5 columns</p>\n",
       "</div>"
      ],
      "text/plain": [
       "          index  Unnamed: 0  \\\n",
       "0             0       12704   \n",
       "1             1     1199027   \n",
       "2             2      858781   \n",
       "3             3      972002   \n",
       "4             4     1281138   \n",
       "...         ...         ...   \n",
       "1326854  398053      873967   \n",
       "1326855  398054      637756   \n",
       "1326856  398055      782682   \n",
       "1326857  398056      646034   \n",
       "1326858  398057      149410   \n",
       "\n",
       "                                                      text  label  \\\n",
       "0         why don’t trade your btc to earn weekly rathe...      1   \n",
       "1         i’ll be honest, i didn’t see it sinking this ...      1   \n",
       "2                -x needs to break 38 to hit 4 no shit lol      1   \n",
       "3                         it's gonna be an all nighter ha?      1   \n",
       "4                          y’all should just come to cro.x      2   \n",
       "...                                                    ...    ...   \n",
       "1326854  -x sold 46k doge 1 month ago, now i’m up 1050%...      0   \n",
       "1326855  the wrong strain of weed will make you panic s...      2   \n",
       "1326856      im happy af with this pre black friday event!      2   \n",
       "1326857  new article : this is exactly why cardano (ada...      1   \n",
       "1326858   from bollinger bands and rsi on 4-hr a big pu...      2   \n",
       "\n",
       "                                           text_lemmatized  \n",
       "0           [dont, trade, btc, earn, weekly, rather, hodl]  \n",
       "1        [ill, honest, didnt, see, sinking, low, fast, ...  \n",
       "2                         [x, need, break, hit, shit, lol]  \n",
       "3                                   [gon, na, nighter, ha]  \n",
       "4                                       [yall, come, crox]  \n",
       "...                                                    ...  \n",
       "1326854  [x, sold, doge, month, ago, im, doge, shib, sw...  \n",
       "1326855   [wrong, strain, weed, make, panic, sell, indica]  \n",
       "1326856         [im, happy, af, pre, black, friday, event]  \n",
       "1326857    [new, article, exactly, cardano, ada, get, fud]  \n",
       "1326858  [bollinger, band, rsi, hr, big, pump, coming, ...  \n",
       "\n",
       "[1326859 rows x 5 columns]"
      ]
     },
     "execution_count": 34,
     "metadata": {},
     "output_type": "execute_result"
    }
   ],
   "source": [
    "df"
   ]
  },
  {
   "cell_type": "code",
   "execution_count": 35,
   "metadata": {},
   "outputs": [
    {
     "data": {
      "text/plain": [
       "['dont', 'trade', 'btc', 'earn', 'weekly', 'rather', 'hodl']"
      ]
     },
     "execution_count": 35,
     "metadata": {},
     "output_type": "execute_result"
    }
   ],
   "source": [
    "# Теперь все в порядке\n",
    "df.text_lemmatized[0]"
   ]
  },
  {
   "cell_type": "code",
   "execution_count": 38,
   "metadata": {},
   "outputs": [
    {
     "name": "stdout",
     "output_type": "stream",
     "text": [
      "CPU times: total: 1min 38s\n",
      "Wall time: 27.1 s\n"
     ]
    }
   ],
   "source": [
    "%%time\n",
    "# Создадим свою модель Word2Vec\n",
    "\n",
    "model = Word2Vec(df.text_lemmatized, vector_size=300, window=5, min_count=5, workers=4)\n",
    "model.save(\"word2v.model\")"
   ]
  },
  {
   "cell_type": "code",
   "execution_count": 9,
   "metadata": {},
   "outputs": [],
   "source": [
    "model = Word2Vec.load(\"word2v.model\") "
   ]
  },
  {
   "attachments": {},
   "cell_type": "markdown",
   "metadata": {},
   "source": [
    "Посмотрим насколько хорошо модель понимает сленг."
   ]
  },
  {
   "cell_type": "code",
   "execution_count": 43,
   "metadata": {},
   "outputs": [
    {
     "data": {
      "text/plain": [
       "[('crap', 0.7568108439445496),\n",
       " ('sht', 0.7375078201293945),\n",
       " ('trash', 0.6221045255661011),\n",
       " ('garbage', 0.5307215452194214),\n",
       " ('dogshit', 0.5135417580604553),\n",
       " ('fuck', 0.4934179186820984),\n",
       " ('turd', 0.4925830662250519),\n",
       " ('bullshit', 0.47567421197891235),\n",
       " ('shitballs', 0.46792277693748474),\n",
       " ('moly', 0.4643915295600891)]"
      ]
     },
     "execution_count": 43,
     "metadata": {},
     "output_type": "execute_result"
    }
   ],
   "source": [
    "model.wv.most_similar(\"shit\")"
   ]
  },
  {
   "cell_type": "code",
   "execution_count": 51,
   "metadata": {},
   "outputs": [
    {
     "data": {
      "text/plain": [
       "[('bitcoin', 0.7185950875282288),\n",
       " ('bitcoins', 0.5496569275856018),\n",
       " ('ltc', 0.536308228969574),\n",
       " ('btcs', 0.5311142206192017),\n",
       " ('bitty', 0.49690893292427063),\n",
       " ('qqq', 0.48677030205726624),\n",
       " ('spy', 0.4815755784511566),\n",
       " ('eth', 0.46278688311576843),\n",
       " ('sandp', 0.44726237654685974),\n",
       " ('nasdaq', 0.44071653485298157)]"
      ]
     },
     "execution_count": 51,
     "metadata": {},
     "output_type": "execute_result"
    }
   ],
   "source": [
    "model.wv.most_similar(\"btc\")"
   ]
  },
  {
   "cell_type": "code",
   "execution_count": 47,
   "metadata": {},
   "outputs": [
    {
     "data": {
      "text/plain": [
       "[('shibu', 0.7270430326461792),\n",
       " ('shina', 0.6850756406784058),\n",
       " ('shib', 0.6831434965133667),\n",
       " ('kiba', 0.670513927936554),\n",
       " ('totoro', 0.6639012098312378),\n",
       " ('volt', 0.6618518233299255),\n",
       " ('cheems', 0.6520994901657104),\n",
       " ('shuba', 0.6448343396186829),\n",
       " ('marshall', 0.6373343467712402),\n",
       " ('shiryo', 0.6350550651550293)]"
      ]
     },
     "execution_count": 47,
     "metadata": {},
     "output_type": "execute_result"
    }
   ],
   "source": [
    "model.wv.most_similar(\"shiba\")"
   ]
  },
  {
   "attachments": {},
   "cell_type": "markdown",
   "metadata": {},
   "source": [
    "Видели и лучше, посмотрим на другие варианты."
   ]
  },
  {
   "attachments": {},
   "cell_type": "markdown",
   "metadata": {},
   "source": [
    "Попробуем воспользоваться уже обученной моделью w2v на словах из англоязычной википедии за 2021 год (http://vectors.nlpl.eu/repository/#)."
   ]
  },
  {
   "cell_type": "code",
   "execution_count": 74,
   "metadata": {},
   "outputs": [],
   "source": [
    "Wiki21 = gensim.models.KeyedVectors.load_word2vec_format('C:\\\\Users\\\\HYPERPC\\\\Downloads\\\\222\\\\model.bin', binary=True,)"
   ]
  },
  {
   "cell_type": "code",
   "execution_count": 79,
   "metadata": {},
   "outputs": [
    {
     "data": {
      "text/plain": [
       "[('Doge', 0.8084363341331482),\n",
       " ('Dandolo', 0.6706600785255432),\n",
       " ('pope', 0.6595994234085083),\n",
       " ('Barbarigo', 0.657604992389679),\n",
       " ('Signoria', 0.6374362111091614)]"
      ]
     },
     "execution_count": 79,
     "metadata": {},
     "output_type": "execute_result"
    }
   ],
   "source": [
    "# Как-будто бы речь совсем не о коинах\n",
    "Wiki21.most_similar('doge', topn=5)"
   ]
  },
  {
   "cell_type": "code",
   "execution_count": 81,
   "metadata": {},
   "outputs": [
    {
     "data": {
      "text/plain": [
       "[('Bitcoin', 0.8202702403068542),\n",
       " ('cryptocurrency', 0.793911337852478),\n",
       " ('cryptocurrencies', 0.752251923084259),\n",
       " ('blockchain', 0.6783810257911682),\n",
       " ('bitcoins', 0.6298012733459473)]"
      ]
     },
     "execution_count": 81,
     "metadata": {},
     "output_type": "execute_result"
    }
   ],
   "source": [
    "# Информация о биткоине есть\n",
    "Wiki21.most_similar('bitcoin', topn=5)"
   ]
  },
  {
   "cell_type": "code",
   "execution_count": 82,
   "metadata": {},
   "outputs": [
    {
     "ename": "KeyError",
     "evalue": "\"Key 'btc' not present in vocabulary\"",
     "output_type": "error",
     "traceback": [
      "\u001b[1;31m---------------------------------------------------------------------------\u001b[0m",
      "\u001b[1;31mKeyError\u001b[0m                                  Traceback (most recent call last)",
      "Cell \u001b[1;32mIn[82], line 2\u001b[0m\n\u001b[0;32m      1\u001b[0m \u001b[39m# А если так..\u001b[39;00m\n\u001b[1;32m----> 2\u001b[0m Wiki21\u001b[39m.\u001b[39;49mmost_similar(\u001b[39m'\u001b[39;49m\u001b[39mbtc\u001b[39;49m\u001b[39m'\u001b[39;49m, topn\u001b[39m=\u001b[39;49m\u001b[39m5\u001b[39;49m)\n",
      "File \u001b[1;32mc:\\Users\\HYPERPC\\Documents\\HSE\\Year1\\ML\\HW1\\.venv\\Lib\\site-packages\\gensim\\models\\keyedvectors.py:841\u001b[0m, in \u001b[0;36mKeyedVectors.most_similar\u001b[1;34m(self, positive, negative, topn, clip_start, clip_end, restrict_vocab, indexer)\u001b[0m\n\u001b[0;32m    838\u001b[0m         weight[idx] \u001b[39m=\u001b[39m item[\u001b[39m1\u001b[39m]\n\u001b[0;32m    840\u001b[0m \u001b[39m# compute the weighted average of all keys\u001b[39;00m\n\u001b[1;32m--> 841\u001b[0m mean \u001b[39m=\u001b[39m \u001b[39mself\u001b[39;49m\u001b[39m.\u001b[39;49mget_mean_vector(keys, weight, pre_normalize\u001b[39m=\u001b[39;49m\u001b[39mTrue\u001b[39;49;00m, post_normalize\u001b[39m=\u001b[39;49m\u001b[39mTrue\u001b[39;49;00m, ignore_missing\u001b[39m=\u001b[39;49m\u001b[39mFalse\u001b[39;49;00m)\n\u001b[0;32m    842\u001b[0m all_keys \u001b[39m=\u001b[39m [\n\u001b[0;32m    843\u001b[0m     \u001b[39mself\u001b[39m\u001b[39m.\u001b[39mget_index(key) \u001b[39mfor\u001b[39;00m key \u001b[39min\u001b[39;00m keys \u001b[39mif\u001b[39;00m \u001b[39misinstance\u001b[39m(key, _KEY_TYPES) \u001b[39mand\u001b[39;00m \u001b[39mself\u001b[39m\u001b[39m.\u001b[39mhas_index_for(key)\n\u001b[0;32m    844\u001b[0m ]\n\u001b[0;32m    846\u001b[0m \u001b[39mif\u001b[39;00m indexer \u001b[39mis\u001b[39;00m \u001b[39mnot\u001b[39;00m \u001b[39mNone\u001b[39;00m \u001b[39mand\u001b[39;00m \u001b[39misinstance\u001b[39m(topn, \u001b[39mint\u001b[39m):\n",
      "File \u001b[1;32mc:\\Users\\HYPERPC\\Documents\\HSE\\Year1\\ML\\HW1\\.venv\\Lib\\site-packages\\gensim\\models\\keyedvectors.py:518\u001b[0m, in \u001b[0;36mKeyedVectors.get_mean_vector\u001b[1;34m(self, keys, weights, pre_normalize, post_normalize, ignore_missing)\u001b[0m\n\u001b[0;32m    516\u001b[0m         total_weight \u001b[39m+\u001b[39m\u001b[39m=\u001b[39m \u001b[39mabs\u001b[39m(weights[idx])\n\u001b[0;32m    517\u001b[0m     \u001b[39melif\u001b[39;00m \u001b[39mnot\u001b[39;00m ignore_missing:\n\u001b[1;32m--> 518\u001b[0m         \u001b[39mraise\u001b[39;00m \u001b[39mKeyError\u001b[39;00m(\u001b[39mf\u001b[39m\u001b[39m\"\u001b[39m\u001b[39mKey \u001b[39m\u001b[39m'\u001b[39m\u001b[39m{\u001b[39;00mkey\u001b[39m}\u001b[39;00m\u001b[39m'\u001b[39m\u001b[39m not present in vocabulary\u001b[39m\u001b[39m\"\u001b[39m)\n\u001b[0;32m    520\u001b[0m \u001b[39mif\u001b[39;00m total_weight \u001b[39m>\u001b[39m \u001b[39m0\u001b[39m:\n\u001b[0;32m    521\u001b[0m     mean \u001b[39m=\u001b[39m mean \u001b[39m/\u001b[39m total_weight\n",
      "\u001b[1;31mKeyError\u001b[0m: \"Key 'btc' not present in vocabulary\""
     ]
    }
   ],
   "source": [
    "# А если так..\n",
    "Wiki21.most_similar('btc', topn=5)"
   ]
  },
  {
   "attachments": {},
   "cell_type": "markdown",
   "metadata": {},
   "source": [
    "Проверим насколько важно нам это слово."
   ]
  },
  {
   "cell_type": "code",
   "execution_count": 56,
   "metadata": {},
   "outputs": [],
   "source": [
    "# Выберем 350 самых популярных слов\n",
    "top_words = []\n",
    "\n",
    "fd = FreqDist()\n",
    "\n",
    "for text in df.text_lemmatized:\n",
    "    fd.update(text)\n",
    "\n",
    "for i in fd.most_common(350):\n",
    "    top_words.append(i[0])"
   ]
  },
  {
   "cell_type": "code",
   "execution_count": 84,
   "metadata": {},
   "outputs": [
    {
     "data": {
      "text/plain": [
       "True"
      ]
     },
     "execution_count": 84,
     "metadata": {},
     "output_type": "execute_result"
    }
   ],
   "source": [
    "'btc' in top_words"
   ]
  },
  {
   "attachments": {},
   "cell_type": "markdown",
   "metadata": {},
   "source": [
    "Как видим, слово 'btc' часто встречается, но в модели Wiki21 его нет, как и других тематических слов. Поэтому воспользуемся моделью, которую обучили самостоятельно."
   ]
  },
  {
   "attachments": {},
   "cell_type": "markdown",
   "metadata": {},
   "source": [
    "## Визуализация топ слов\n",
    "Просто убедимся, что по смыслу все ок, не только глядя на цифры."
   ]
  },
  {
   "cell_type": "code",
   "execution_count": 57,
   "metadata": {},
   "outputs": [],
   "source": [
    "top_words_vec = model.wv[top_words]"
   ]
  },
  {
   "cell_type": "code",
   "execution_count": 58,
   "metadata": {},
   "outputs": [
    {
     "data": {
      "text/plain": [
       "(350, 300)"
      ]
     },
     "execution_count": 58,
     "metadata": {},
     "output_type": "execute_result"
    }
   ],
   "source": [
    "# Матрица слов в 300-мерном пространстве\n",
    "model.wv[top_words].shape"
   ]
  },
  {
   "cell_type": "code",
   "execution_count": 61,
   "metadata": {},
   "outputs": [],
   "source": [
    "# Воспользуемся методом TSNE для понижения размерности пространства для визуализации\n",
    "tsne = TSNE(n_components=2, random_state=822)\n",
    "top_words_tsne = tsne.fit_transform(top_words_vec)"
   ]
  },
  {
   "cell_type": "code",
   "execution_count": 59,
   "metadata": {},
   "outputs": [],
   "source": [
    "# %pip install bokeh"
   ]
  },
  {
   "cell_type": "code",
   "execution_count": 62,
   "metadata": {},
   "outputs": [
    {
     "data": {
      "text/html": [
       "<style>\n",
       "        .bk-notebook-logo {\n",
       "            display: block;\n",
       "            width: 20px;\n",
       "            height: 20px;\n",
       "            background-image: url(data:image/png;base64,iVBORw0KGgoAAAANSUhEUgAAABQAAAAUCAYAAACNiR0NAAAABHNCSVQICAgIfAhkiAAAAAlwSFlzAAALEgAACxIB0t1+/AAAABx0RVh0U29mdHdhcmUAQWRvYmUgRmlyZXdvcmtzIENTNui8sowAAAOkSURBVDiNjZRtaJVlGMd/1/08zzln5zjP1LWcU9N0NkN8m2CYjpgQYQXqSs0I84OLIC0hkEKoPtiH3gmKoiJDU7QpLgoLjLIQCpEsNJ1vqUOdO7ppbuec5+V+rj4ctwzd8IIbbi6u+8f1539dt3A78eXC7QizUF7gyV1fD1Yqg4JWz84yffhm0qkFqBogB9rM8tZdtwVsPUhWhGcFJngGeWrPzHm5oaMmkfEg1usvLFyc8jLRqDOMru7AyC8saQr7GG7f5fvDeH7Ej8CM66nIF+8yngt6HWaKh7k49Soy9nXurCi1o3qUbS3zWfrYeQDTB/Qj6kX6Ybhw4B+bOYoLKCC9H3Nu/leUTZ1JdRWkkn2ldcCamzrcf47KKXdAJllSlxAOkRgyHsGC/zRday5Qld9DyoM4/q/rUoy/CXh3jzOu3bHUVZeU+DEn8FInkPBFlu3+nW3Nw0mk6vCDiWg8CeJaxEwuHS3+z5RgY+YBR6V1Z1nxSOfoaPa4LASWxxdNp+VWTk7+4vzaou8v8PN+xo+KY2xsw6une2frhw05CTYOmQvsEhjhWjn0bmXPjpE1+kplmmkP3suftwTubK9Vq22qKmrBhpY4jvd5afdRA3wGjFAgcnTK2s4hY0/GPNIb0nErGMCRxWOOX64Z8RAC4oCXdklmEvcL8o0BfkNK4lUg9HTl+oPlQxdNo3Mg4Nv175e/1LDGzZen30MEjRUtmXSfiTVu1kK8W4txyV6BMKlbgk3lMwYCiusNy9fVfvvwMxv8Ynl6vxoByANLTWplvuj/nF9m2+PDtt1eiHPBr1oIfhCChQMBw6Aw0UulqTKZdfVvfG7VcfIqLG9bcldL/+pdWTLxLUy8Qq38heUIjh4XlzZxzQm19lLFlr8vdQ97rjZVOLf8nclzckbcD4wxXMidpX30sFd37Fv/GtwwhzhxGVAprjbg0gCAEeIgwCZyTV2Z1REEW8O4py0wsjeloKoMr6iCY6dP92H6Vw/oTyICIthibxjm/DfN9lVz8IqtqKYLUXfoKVMVQVVJOElGjrnnUt9T9wbgp8AyYKaGlqingHZU/uG2NTZSVqwHQTWkx9hxjkpWDaCg6Ckj5qebgBVbT3V3NNXMSiWSDdGV3hrtzla7J+duwPOToIg42ChPQOQjspnSlp1V+Gjdged7+8UN5CRAV7a5EdFNwCjEaBR27b3W890TE7g24NAP/mMDXRWrGoFPQI9ls/MWO2dWFAar/xcOIImbbpA3zgAAAABJRU5ErkJggg==);\n",
       "        }\n",
       "    </style>\n",
       "    <div>\n",
       "        <a href=\"https://bokeh.org\" target=\"_blank\" class=\"bk-notebook-logo\"></a>\n",
       "        <span id=\"p1041\">Loading BokehJS ...</span>\n",
       "    </div>\n"
      ]
     },
     "metadata": {},
     "output_type": "display_data"
    },
    {
     "data": {
      "application/javascript": "(function(root) {\n  function now() {\n    return new Date();\n  }\n\n  const force = true;\n\n  if (typeof root._bokeh_onload_callbacks === \"undefined\" || force === true) {\n    root._bokeh_onload_callbacks = [];\n    root._bokeh_is_loading = undefined;\n  }\n\nconst JS_MIME_TYPE = 'application/javascript';\n  const HTML_MIME_TYPE = 'text/html';\n  const EXEC_MIME_TYPE = 'application/vnd.bokehjs_exec.v0+json';\n  const CLASS_NAME = 'output_bokeh rendered_html';\n\n  /**\n   * Render data to the DOM node\n   */\n  function render(props, node) {\n    const script = document.createElement(\"script\");\n    node.appendChild(script);\n  }\n\n  /**\n   * Handle when an output is cleared or removed\n   */\n  function handleClearOutput(event, handle) {\n    const cell = handle.cell;\n\n    const id = cell.output_area._bokeh_element_id;\n    const server_id = cell.output_area._bokeh_server_id;\n    // Clean up Bokeh references\n    if (id != null && id in Bokeh.index) {\n      Bokeh.index[id].model.document.clear();\n      delete Bokeh.index[id];\n    }\n\n    if (server_id !== undefined) {\n      // Clean up Bokeh references\n      const cmd_clean = \"from bokeh.io.state import curstate; print(curstate().uuid_to_server['\" + server_id + \"'].get_sessions()[0].document.roots[0]._id)\";\n      cell.notebook.kernel.execute(cmd_clean, {\n        iopub: {\n          output: function(msg) {\n            const id = msg.content.text.trim();\n            if (id in Bokeh.index) {\n              Bokeh.index[id].model.document.clear();\n              delete Bokeh.index[id];\n            }\n          }\n        }\n      });\n      // Destroy server and session\n      const cmd_destroy = \"import bokeh.io.notebook as ion; ion.destroy_server('\" + server_id + \"')\";\n      cell.notebook.kernel.execute(cmd_destroy);\n    }\n  }\n\n  /**\n   * Handle when a new output is added\n   */\n  function handleAddOutput(event, handle) {\n    const output_area = handle.output_area;\n    const output = handle.output;\n\n    // limit handleAddOutput to display_data with EXEC_MIME_TYPE content only\n    if ((output.output_type != \"display_data\") || (!Object.prototype.hasOwnProperty.call(output.data, EXEC_MIME_TYPE))) {\n      return\n    }\n\n    const toinsert = output_area.element.find(\".\" + CLASS_NAME.split(' ')[0]);\n\n    if (output.metadata[EXEC_MIME_TYPE][\"id\"] !== undefined) {\n      toinsert[toinsert.length - 1].firstChild.textContent = output.data[JS_MIME_TYPE];\n      // store reference to embed id on output_area\n      output_area._bokeh_element_id = output.metadata[EXEC_MIME_TYPE][\"id\"];\n    }\n    if (output.metadata[EXEC_MIME_TYPE][\"server_id\"] !== undefined) {\n      const bk_div = document.createElement(\"div\");\n      bk_div.innerHTML = output.data[HTML_MIME_TYPE];\n      const script_attrs = bk_div.children[0].attributes;\n      for (let i = 0; i < script_attrs.length; i++) {\n        toinsert[toinsert.length - 1].firstChild.setAttribute(script_attrs[i].name, script_attrs[i].value);\n        toinsert[toinsert.length - 1].firstChild.textContent = bk_div.children[0].textContent\n      }\n      // store reference to server id on output_area\n      output_area._bokeh_server_id = output.metadata[EXEC_MIME_TYPE][\"server_id\"];\n    }\n  }\n\n  function register_renderer(events, OutputArea) {\n\n    function append_mime(data, metadata, element) {\n      // create a DOM node to render to\n      const toinsert = this.create_output_subarea(\n        metadata,\n        CLASS_NAME,\n        EXEC_MIME_TYPE\n      );\n      this.keyboard_manager.register_events(toinsert);\n      // Render to node\n      const props = {data: data, metadata: metadata[EXEC_MIME_TYPE]};\n      render(props, toinsert[toinsert.length - 1]);\n      element.append(toinsert);\n      return toinsert\n    }\n\n    /* Handle when an output is cleared or removed */\n    events.on('clear_output.CodeCell', handleClearOutput);\n    events.on('delete.Cell', handleClearOutput);\n\n    /* Handle when a new output is added */\n    events.on('output_added.OutputArea', handleAddOutput);\n\n    /**\n     * Register the mime type and append_mime function with output_area\n     */\n    OutputArea.prototype.register_mime_type(EXEC_MIME_TYPE, append_mime, {\n      /* Is output safe? */\n      safe: true,\n      /* Index of renderer in `output_area.display_order` */\n      index: 0\n    });\n  }\n\n  // register the mime type if in Jupyter Notebook environment and previously unregistered\n  if (root.Jupyter !== undefined) {\n    const events = require('base/js/events');\n    const OutputArea = require('notebook/js/outputarea').OutputArea;\n\n    if (OutputArea.prototype.mime_types().indexOf(EXEC_MIME_TYPE) == -1) {\n      register_renderer(events, OutputArea);\n    }\n  }\n  if (typeof (root._bokeh_timeout) === \"undefined\" || force === true) {\n    root._bokeh_timeout = Date.now() + 5000;\n    root._bokeh_failed_load = false;\n  }\n\n  const NB_LOAD_WARNING = {'data': {'text/html':\n     \"<div style='background-color: #fdd'>\\n\"+\n     \"<p>\\n\"+\n     \"BokehJS does not appear to have successfully loaded. If loading BokehJS from CDN, this \\n\"+\n     \"may be due to a slow or bad network connection. Possible fixes:\\n\"+\n     \"</p>\\n\"+\n     \"<ul>\\n\"+\n     \"<li>re-rerun `output_notebook()` to attempt to load from CDN again, or</li>\\n\"+\n     \"<li>use INLINE resources instead, as so:</li>\\n\"+\n     \"</ul>\\n\"+\n     \"<code>\\n\"+\n     \"from bokeh.resources import INLINE\\n\"+\n     \"output_notebook(resources=INLINE)\\n\"+\n     \"</code>\\n\"+\n     \"</div>\"}};\n\n  function display_loaded() {\n    const el = document.getElementById(\"p1041\");\n    if (el != null) {\n      el.textContent = \"BokehJS is loading...\";\n    }\n    if (root.Bokeh !== undefined) {\n      if (el != null) {\n        el.textContent = \"BokehJS \" + root.Bokeh.version + \" successfully loaded.\";\n      }\n    } else if (Date.now() < root._bokeh_timeout) {\n      setTimeout(display_loaded, 100)\n    }\n  }\n\n  function run_callbacks() {\n    try {\n      root._bokeh_onload_callbacks.forEach(function(callback) {\n        if (callback != null)\n          callback();\n      });\n    } finally {\n      delete root._bokeh_onload_callbacks\n    }\n    console.debug(\"Bokeh: all callbacks have finished\");\n  }\n\n  function load_libs(css_urls, js_urls, callback) {\n    if (css_urls == null) css_urls = [];\n    if (js_urls == null) js_urls = [];\n\n    root._bokeh_onload_callbacks.push(callback);\n    if (root._bokeh_is_loading > 0) {\n      console.debug(\"Bokeh: BokehJS is being loaded, scheduling callback at\", now());\n      return null;\n    }\n    if (js_urls == null || js_urls.length === 0) {\n      run_callbacks();\n      return null;\n    }\n    console.debug(\"Bokeh: BokehJS not loaded, scheduling load and callback at\", now());\n    root._bokeh_is_loading = css_urls.length + js_urls.length;\n\n    function on_load() {\n      root._bokeh_is_loading--;\n      if (root._bokeh_is_loading === 0) {\n        console.debug(\"Bokeh: all BokehJS libraries/stylesheets loaded\");\n        run_callbacks()\n      }\n    }\n\n    function on_error(url) {\n      console.error(\"failed to load \" + url);\n    }\n\n    for (let i = 0; i < css_urls.length; i++) {\n      const url = css_urls[i];\n      const element = document.createElement(\"link\");\n      element.onload = on_load;\n      element.onerror = on_error.bind(null, url);\n      element.rel = \"stylesheet\";\n      element.type = \"text/css\";\n      element.href = url;\n      console.debug(\"Bokeh: injecting link tag for BokehJS stylesheet: \", url);\n      document.body.appendChild(element);\n    }\n\n    for (let i = 0; i < js_urls.length; i++) {\n      const url = js_urls[i];\n      const element = document.createElement('script');\n      element.onload = on_load;\n      element.onerror = on_error.bind(null, url);\n      element.async = false;\n      element.src = url;\n      console.debug(\"Bokeh: injecting script tag for BokehJS library: \", url);\n      document.head.appendChild(element);\n    }\n  };\n\n  function inject_raw_css(css) {\n    const element = document.createElement(\"style\");\n    element.appendChild(document.createTextNode(css));\n    document.body.appendChild(element);\n  }\n\n  const js_urls = [\"https://cdn.bokeh.org/bokeh/release/bokeh-3.0.3.min.js\", \"https://cdn.bokeh.org/bokeh/release/bokeh-gl-3.0.3.min.js\", \"https://cdn.bokeh.org/bokeh/release/bokeh-widgets-3.0.3.min.js\", \"https://cdn.bokeh.org/bokeh/release/bokeh-tables-3.0.3.min.js\", \"https://cdn.bokeh.org/bokeh/release/bokeh-mathjax-3.0.3.min.js\"];\n  const css_urls = [];\n\n  const inline_js = [    function(Bokeh) {\n      Bokeh.set_log_level(\"info\");\n    },\nfunction(Bokeh) {\n    }\n  ];\n\n  function run_inline_js() {\n    if (root.Bokeh !== undefined || force === true) {\n          for (let i = 0; i < inline_js.length; i++) {\n      inline_js[i].call(root, root.Bokeh);\n    }\nif (force === true) {\n        display_loaded();\n      }} else if (Date.now() < root._bokeh_timeout) {\n      setTimeout(run_inline_js, 100);\n    } else if (!root._bokeh_failed_load) {\n      console.log(\"Bokeh: BokehJS failed to load within specified timeout.\");\n      root._bokeh_failed_load = true;\n    } else if (force !== true) {\n      const cell = $(document.getElementById(\"p1041\")).parents('.cell').data().cell;\n      cell.output_area.append_execute_result(NB_LOAD_WARNING)\n    }\n  }\n\n  if (root._bokeh_is_loading === 0) {\n    console.debug(\"Bokeh: BokehJS loaded, going straight to plotting\");\n    run_inline_js();\n  } else {\n    load_libs(css_urls, js_urls, function() {\n      console.debug(\"Bokeh: BokehJS plotting callback run at\", now());\n      run_inline_js();\n    });\n  }\n}(window));",
      "application/vnd.bokehjs_load.v0+json": ""
     },
     "metadata": {},
     "output_type": "display_data"
    },
    {
     "data": {
      "text/html": [
       "\n",
       "  <div id=\"d97adc28-d8b8-445c-8466-eaa1dfa5d52b\" data-root-id=\"p1042\" style=\"display: contents;\"></div>\n"
      ]
     },
     "metadata": {},
     "output_type": "display_data"
    },
    {
     "data": {
      "application/javascript": "(function(root) {\n  function embed_document(root) {\n  const docs_json = {\"ee37dc5d-79ad-467b-b747-74be7dfa34da\":{\"version\":\"3.0.3\",\"title\":\"Bokeh Application\",\"defs\":[],\"roots\":[{\"type\":\"object\",\"name\":\"Figure\",\"id\":\"p1042\",\"attributes\":{\"x_range\":{\"type\":\"object\",\"name\":\"DataRange1d\",\"id\":\"p1044\"},\"y_range\":{\"type\":\"object\",\"name\":\"DataRange1d\",\"id\":\"p1043\"},\"x_scale\":{\"type\":\"object\",\"name\":\"LinearScale\",\"id\":\"p1056\"},\"y_scale\":{\"type\":\"object\",\"name\":\"LinearScale\",\"id\":\"p1058\"},\"title\":{\"type\":\"object\",\"name\":\"Title\",\"id\":\"p1045\",\"attributes\":{\"text\":\"Word2vec T-SNE for top-350 words\"}},\"renderers\":[{\"type\":\"object\",\"name\":\"GlyphRenderer\",\"id\":\"p1090\",\"attributes\":{\"data_source\":{\"type\":\"object\",\"name\":\"ColumnDataSource\",\"id\":\"p1081\",\"attributes\":{\"selected\":{\"type\":\"object\",\"name\":\"Selection\",\"id\":\"p1082\",\"attributes\":{\"indices\":[],\"line_indices\":[]}},\"selection_policy\":{\"type\":\"object\",\"name\":\"UnionRenderers\",\"id\":\"p1083\"},\"data\":{\"type\":\"map\",\"entries\":[[\"x1\",{\"type\":\"ndarray\",\"array\":{\"type\":\"bytes\",\"data\":\"owWhQlLu18LYlrRBoO8CQpPkpMG8zsdABvBvQaK5B0Ct3sXCszo3QqgxfsINC8RBxGwnwqPA60G8KRFBDOenwrUNgsDO4p3CnKuWwnOccUHz/odCIegTQYE1kUHSjMHBBMOcwSToRT9lguVBpGUIQaeKWELzepZCb9+CQmXqqUK75XPBEcC6wfh6ysGXpp7Cse0MQ2dts0IZXQ1CkPVuQgbiBMLmiJ7CZez9wegJxsJlqRVC3T02wWAyzcJvxJHC5vaWQeDHEsKGG/bCRbTlwgG+CcICKeNCBx0nQvN6TUJlb2FB5curwc9hQEHrESPCgIy5QYq1wUI4l8bCKNOtwly+jkJwhnvBduSPwub5jcEbtCTCmCC3QhdRK8DtNg/CTc9dQe6nq0JwLBVBCbeRQhMpqMJ6FZPB8L+TQq4En0E2li9CiQRGQv8eM8HWRLhC393fwj/OisKSFXhCxrweQrYoM0IxnRtCyn3jQrdbMsHE5Z1CvcgWwuBe18HuUwrCkjgCQjJ3jEJ7akFCsC8EQrn7PMIuuvPCc+4aQsMJ0sLWfaxCestDQitZicE+aJnCtEsAQV5ZfULt1d1CqQUBQjc71kFtH6hB3niqQSfnw8FthKlCEBIkwvsawkKCzNPANu8Rwt8sLMI+TL5BVCnuwRZ/yUKiCcbATWymwoNeeULob37C+UurwW/7WULLAmrCwdVfwhoQk0KMW9rBuU4HQRexAUOLPJfC2ps3wrM0n0ERHtNASda1QUT9h0EcVUBCviS4wb4ThkC7eMi/39ncQVSrdcJGTQ7Cv+VxwFei1cHaEEbA4umcQXeH+kFFUYVCN7XWwaACBMNMPw7Cd83QwhlQecKtxtDCJnCrQa0qO8GEwLnCHKORwp1ytMKeKMVBg7K5wJCAQULK1SlCD70NwiugS8IcS7HCFgetwmwEhcFe6mlB9PVRwogiP8DIbPFBxy+Twn6fpkFfG5ZCI1/IQWAQIMHecKDC/emgQgv8DEPUQFfBbh7KwknLh8Kkfa/CjMP5QchBSkB+wZbBvAZ1QtyIBcJpX2xCmnndQNmvX8F9AVzCkK1yQJMSRsFn4sJAMz06QsmIykJb/ztCCf5Ywiljm0KWZwDBOaWYwsbTScIwOsFChvClwYZntUKljYJCGzeaQn/eR0JqY+rBH8P3PZ/4QcIvhrw/TGEHwIYyecJ3/OXBtMAJwp6pS8LAYwxBt+qaQpEytcFjDcBCQQfCwQJyK0GcKLXB2UF5wXI3McJM9StChleVwG6jxcLUfz/BxRGFwjN5FEIEuwpDRuk/wpAosECJHYNBoTS8QEDV18KQ0CLC4aCoP4qTmMEwrKJCHt9SwkCvMsLmUKvByDmzwWcXhcJXfRfCIpNHQcAvQsIGuhzC45R9Qqxwm8AdtLlCbL80wXyeGcEtAyXCwm0gwi4u7cKPJQpCBleMwno0PELpT8bBZW4CQeJ7sUHZwEZCGyCtQtjOX8IxtapCeFkiQj1b40JFCrw/yeUlwvcK6MGkTInBfiVgQvDpuUBeXB9C0ahZQuUHpELW6JpBdDyTwUWLOUFA9PdBqn+NwQPA98Gkfv9BXedjwF3SwMBaqwDB7XETQmmfP8JbfkvC2lqfvnYr7cEQl4bClYTbQrUZH8F706pCn0tawku5rMLFMKJCcnpowps9m8KzfVXCB4mJwGLm9r+LajJBcKgXwtO5n8KmG3ZCHYXlQK1JL0KIH7bCmnt9Qi07PsIaV9ZC0QdjwjxNhz8PfxxCz2q3QX/6pUJLh6bChEDlQs0GmUIYHIPClFORwiYpjMIyTq1AId/hwfuOdUKuyofCnDTDP1HC2MEgeujB9B3lwePygMFUGEHCb2F0wto0FMI=\"},\"shape\":[350],\"dtype\":\"float32\",\"order\":\"little\"}],[\"x2\",{\"type\":\"ndarray\",\"array\":{\"type\":\"bytes\",\"data\":\"gLGZQbNNDkFO4zrBJThWwKFFuUGTHYBClyRDwRq4OcLRvUHCdzekQkBBeMIefQTCI3+0wjElxMJmAr7AmkR9wTUNK0LDn+bCb+r5wisbYkKJW4jBzpuPQSez+sJRDufB/sZHQkGeaEGwdq5BLnlwQoTX3MHBfbhCPcDzP16ptkF0ddvBg3SVwozGcEB20LzBVcbDvx0zb0GJ9fpCfbmLwlXw8kHTmOTBA7SVwY8fJ0GxGARDJj1EwK9g2sHc6ubC1/tKwEhIs0LTPwXCqo9owUel4kLqdJnCx+KpQWYyLcL9JhjCm8WjwalYWkB44nHByNLPvkMFuUCYTxPB2X4mwtyum74+HIhBi1XxwvSJKsJVH+fAVjOhQhCq90CgDN/Buy7ewYVpi8JTPv5CQZRJwsU/tEJxb7jA8emVwinimUGPt7HB6gXcwPjtIsEhv6dB+cgxQV25K8KsvYnBFsFiQhMLL8LaAktCSP3ZQVBsRcKoV5dC6ifpQlLMNsFRCodBaGh0whOZIMKwW2/CGtLrQHUGUcJ2JTTCoT8MQgBNeELowVLCw4CEwd5+JUIMsV/CyFXgQpzS1EJe8oNCDNbKQsYbKsLdqWDCzjbbQVvaSUI9XptCWdBvPx3UB8I61Z1BCE8HQd+O1MFcEjxB87aSwuFlFEH7kvtBfx4EQkPI30E4YUhCrwrgQj9BhELg4M/AHembQSQcZUL46WLC+i/xQuAUC0JhgdfCDoAQQoURIELna4zCQsOawg5xrsHYs9TCzGdoQsVXIkKiQ7NB/NNnwitFY8LOAWnC+nunwpudNsLPGNzCMmWlwgUDbkL7HDjC2ugrQjGLWsBhsgLBPw6fwnZzK8JVk6fC3WCvwf/4uUIx31vCDzPPQfIWRMIsYBZC182pQmq9J0IesODBByodP3nzm0L+V4lCBrWSQbV9AcJlMTdBUBWbwhegpcGyQadCc5KfwdW+i0J733xB7ahnQuJUfkDDnoVC0erKQAQb60CkLkZChqMowiFkm8IastrBkDISQraFD8LrypjCNPKcQjVzqkIjbhlCsSaWwWi8bsLG+AXC37ZpP6Exz0FQysXCaiLCQWpwBMJqGN5CEdyWQjEP8sH+w9/BZJwhQeIzgsLF7FzBu7YEQ8ySIEK8A1RCf16bwsgtvULEsP/BINDOQizUOsJ7t5ZCWHbPwsovz0BHgkrC92YVQjd5TcF8dI1C1DFrQmg4E0EVtk1CzLjHQuabNEL8HnlBj7NtwdyYTUHPu4k/NjBsvzhd+UG6vOpC/8UuwXVWuUGkmSRAi+ugwAhb+UCsKqRCLU/XQa62MEKaCv/BVc1NQkMNtD+buULBFdBjQuUr+kKW1NrC+m88wdZ748En8FxCK8mzQS8ISULmNS1CrL64QMBehMKUSl9CTaWNQll8jsF0FKxB9Tv7QQ3H6kHidThC4pS+QkvZp8KqWbXCZipnwrnZ9cIkGR1BX2MOwqFiHED+A/8/7xQ6wtQiosK/823AWkCGQssSMUGp2NjCVMVTQrHLtULr8pbB62EMwsk/W8JH5sBCxDugQo4li8PbzL/BIhb/QWXqokLkC4pCFQ4bwZdFFcJSYmpCpWUhQcdJx8E49dJCLiwGQkVEe0B4i4BBv0tFwrykTkH6FwNBpiFzQTQbpD7MAn3CuwCnwQ1URELP1LdCqsuBQm7E40Kl3glCJVIowsbY0sIDSz3CxolPwn1liUK+pz1CqLusQbiOi0BFohVCspIdQpDu3EJeEpnCf0FAQiCV4EJtAo3CE0m7QLurAEINgHVCLhbTv2eTG0KJhVnBUkWHQuCjAkKapJlCXwHUwZ7V9UFJwaZBZ88vwAxf3kBgOtlBl17mQZllmcI=\"},\"shape\":[350],\"dtype\":\"float32\",\"order\":\"little\"}],[\"names\",[\"buy\",\"get\",\"go\",\"crypto\",\"like\",\"bitcoin\",\"going\",\"time\",\"dont\",\"bear\",\"im\",\"back\",\"coin\",\"market\",\"see\",\"let\",\"new\",\"day\",\"year\",\"price\",\"people\",\"one\",\"money\",\"know\",\"good\",\"still\",\"next\",\"btc\",\"dip\",\"look\",\"hold\",\"sell\",\"think\",\"doge\",\"lol\",\"need\",\"make\",\"buying\",\"short\",\"bull\",\"today\",\"want\",\"u\",\"got\",\"long\",\"right\",\"would\",\"week\",\"come\",\"big\",\"keep\",\"na\",\"shib\",\"take\",\"last\",\"run\",\"soon\",\"way\",\"even\",\"shit\",\"coming\",\"bought\",\"gon\",\"cant\",\"holding\",\"x\",\"month\",\"thing\",\"guy\",\"much\",\"well\",\"say\",\"could\",\"chart\",\"article\",\"break\",\"stock\",\"pump\",\"bullish\",\"another\",\"drop\",\"hit\",\"thats\",\"selling\",\"getting\",\"never\",\"everyone\",\"low\",\"move\",\"high\",\"every\",\"news\",\"many\",\"shiba\",\"really\",\"love\",\"wait\",\"bottom\",\"looking\",\"start\",\"anyone\",\"stop\",\"dollar\",\"real\",\"support\",\"dump\",\"better\",\"ill\",\"eth\",\"world\",\"whale\",\"future\",\"around\",\"ready\",\"end\",\"great\",\"lot\",\"fuck\",\"green\",\"already\",\"always\",\"said\",\"first\",\"elon\",\"sold\",\"since\",\"moon\",\"cro\",\"term\",\"token\",\"top\",\"hope\",\"little\",\"million\",\"nothing\",\"ethereum\",\"give\",\"hour\",\"tomorrow\",\"+\",\"whats\",\"gain\",\"may\",\"use\",\"best\",\"also\",\"yet\",\"waiting\",\"youre\",\"everything\",\"burn\",\"something\",\"inflation\",\"profit\",\"level\",\"bounce\",\"nice\",\"feel\",\"yall\",\"lower\",\"ever\",\"higher\",\"might\",\"wallet\",\"doesnt\",\"watch\",\"wont\",\"cur\",\"exchange\",\"put\",\"crash\",\"fucking\",\"trading\",\"game\",\"hard\",\"believe\",\"check\",\"weekend\",\"mean\",\"volume\",\"please\",\"strong\",\"load\",\"point\",\"sure\",\"play\",\"add\",\"made\",\"bad\",\"didnt\",\"life\",\"trying\",\"cent\",\"post\",\"dogecoin\",\"value\",\"huge\",\"coinbase\",\"happen\",\"oh\",\"work\",\"maybe\",\"remember\",\"rate\",\"ago\",\"red\",\"zero\",\"trade\",\"close\",\"thought\",\"hand\",\"ive\",\"stay\",\"supply\",\"holder\",\"worth\",\"bearish\",\"position\",\"tell\",\"xrp\",\"someone\",\"asset\",\"fed\",\"baby\",\"anything\",\"morning\",\"bro\",\"gold\",\"billion\",\"damn\",\"investor\",\"cap\",\"daily\",\"wow\",\"isnt\",\"show\",\"currency\",\"guess\",\"bank\",\"project\",\"call\",\"past\",\"making\",\"man\",\"least\",\"early\",\"almost\",\"else\",\"saying\",\"pay\",\"done\",\"average\",\"free\",\"inu\",\"russia\",\"actually\",\"help\",\"biden\",\"two\",\"easy\",\"night\",\"hodl\",\"rich\",\"investment\",\"company\",\"there\",\"happy\",\"tonight\",\"bag\",\"ath\",\"away\",\"lose\",\"enough\",\"opportunity\",\"cash\",\"went\",\"candle\",\"boy\",\"added\",\"moving\",\"taking\",\"probably\",\"loss\",\"crazy\",\"war\",\"le\",\"nft\",\"fall\",\"rip\",\"resistance\",\"hedge\",\"account\",\"seems\",\"order\",\"imagine\",\"massive\",\"line\",\"bitty\",\"matter\",\"reason\",\"started\",\"told\",\"alt\",\"h\",\"lmao\",\"wrong\",\"follow\",\"finally\",\"adding\",\"bit\",\"pretty\",\"trend\",\"seen\",\"fake\",\"share\",\"cryptos\",\"cardano\",\"set\",\"fear\",\"minute\",\"rally\",\"chance\",\"double\",\"live\",\"stake\",\"as\",\"whole\",\"left\",\"ada\",\"win\",\"target\",\"old\",\"ta\",\"card\",\"cheap\",\"till\",\"board\",\"open\",\"happens\",\"scam\",\"cryptocom\",\"later\",\"change\",\"yesterday\",\"thanks\",\"stupid\",\"ok\",\"christmas\",\"head\",\"twitter\"]]]}}},\"view\":{\"type\":\"object\",\"name\":\"CDSView\",\"id\":\"p1091\",\"attributes\":{\"filter\":{\"type\":\"object\",\"name\":\"AllIndices\",\"id\":\"p1092\"}}},\"glyph\":{\"type\":\"object\",\"name\":\"Scatter\",\"id\":\"p1087\",\"attributes\":{\"x\":{\"type\":\"field\",\"field\":\"x1\"},\"y\":{\"type\":\"field\",\"field\":\"x2\"},\"size\":{\"type\":\"value\",\"value\":8},\"line_color\":{\"type\":\"value\",\"value\":\"#1f77b4\"},\"fill_color\":{\"type\":\"value\",\"value\":\"#1f77b4\"}}},\"nonselection_glyph\":{\"type\":\"object\",\"name\":\"Scatter\",\"id\":\"p1088\",\"attributes\":{\"x\":{\"type\":\"field\",\"field\":\"x1\"},\"y\":{\"type\":\"field\",\"field\":\"x2\"},\"size\":{\"type\":\"value\",\"value\":8},\"line_color\":{\"type\":\"value\",\"value\":\"#1f77b4\"},\"line_alpha\":{\"type\":\"value\",\"value\":0.1},\"fill_color\":{\"type\":\"value\",\"value\":\"#1f77b4\"},\"fill_alpha\":{\"type\":\"value\",\"value\":0.1},\"hatch_alpha\":{\"type\":\"value\",\"value\":0.1}}},\"muted_glyph\":{\"type\":\"object\",\"name\":\"Scatter\",\"id\":\"p1089\",\"attributes\":{\"x\":{\"type\":\"field\",\"field\":\"x1\"},\"y\":{\"type\":\"field\",\"field\":\"x2\"},\"size\":{\"type\":\"value\",\"value\":8},\"line_color\":{\"type\":\"value\",\"value\":\"#1f77b4\"},\"line_alpha\":{\"type\":\"value\",\"value\":0.2},\"fill_color\":{\"type\":\"value\",\"value\":\"#1f77b4\"},\"fill_alpha\":{\"type\":\"value\",\"value\":0.2},\"hatch_alpha\":{\"type\":\"value\",\"value\":0.2}}}}}],\"toolbar\":{\"type\":\"object\",\"name\":\"Toolbar\",\"id\":\"p1049\",\"attributes\":{\"tools\":[{\"type\":\"object\",\"name\":\"PanTool\",\"id\":\"p1074\"},{\"type\":\"object\",\"name\":\"WheelZoomTool\",\"id\":\"p1075\"},{\"type\":\"object\",\"name\":\"SaveTool\",\"id\":\"p1076\"}]}},\"toolbar_location\":\"above\",\"left\":[{\"type\":\"object\",\"name\":\"LinearAxis\",\"id\":\"p1067\",\"attributes\":{\"ticker\":{\"type\":\"object\",\"name\":\"BasicTicker\",\"id\":\"p1070\",\"attributes\":{\"mantissas\":[1,2,5]}},\"formatter\":{\"type\":\"object\",\"name\":\"BasicTickFormatter\",\"id\":\"p1068\"},\"major_label_policy\":{\"type\":\"object\",\"name\":\"AllLabels\",\"id\":\"p1069\"}}}],\"below\":[{\"type\":\"object\",\"name\":\"LinearAxis\",\"id\":\"p1060\",\"attributes\":{\"ticker\":{\"type\":\"object\",\"name\":\"BasicTicker\",\"id\":\"p1063\",\"attributes\":{\"mantissas\":[1,2,5]}},\"formatter\":{\"type\":\"object\",\"name\":\"BasicTickFormatter\",\"id\":\"p1061\"},\"major_label_policy\":{\"type\":\"object\",\"name\":\"AllLabels\",\"id\":\"p1062\"}}}],\"center\":[{\"type\":\"object\",\"name\":\"Grid\",\"id\":\"p1066\",\"attributes\":{\"axis\":{\"id\":\"p1060\"}}},{\"type\":\"object\",\"name\":\"Grid\",\"id\":\"p1073\",\"attributes\":{\"dimension\":1,\"axis\":{\"id\":\"p1067\"}}},{\"type\":\"object\",\"name\":\"LabelSet\",\"id\":\"p1093\",\"attributes\":{\"source\":{\"id\":\"p1081\"},\"x\":{\"type\":\"field\",\"field\":\"x1\"},\"y\":{\"type\":\"field\",\"field\":\"x2\"},\"text\":{\"type\":\"field\",\"field\":\"names\"},\"y_offset\":{\"type\":\"value\",\"value\":6},\"text_color\":{\"type\":\"value\",\"value\":\"#555555\"},\"text_font_size\":{\"type\":\"value\",\"value\":\"10pt\"},\"text_align\":{\"type\":\"value\",\"value\":\"center\"}}}]}}]}};\n  const render_items = [{\"docid\":\"ee37dc5d-79ad-467b-b747-74be7dfa34da\",\"roots\":{\"p1042\":\"d97adc28-d8b8-445c-8466-eaa1dfa5d52b\"},\"root_ids\":[\"p1042\"]}];\n  root.Bokeh.embed.embed_items_notebook(docs_json, render_items);\n  }\n  if (root.Bokeh !== undefined) {\n    embed_document(root);\n  } else {\n    let attempts = 0;\n    const timer = setInterval(function(root) {\n      if (root.Bokeh !== undefined) {\n        clearInterval(timer);\n        embed_document(root);\n      } else {\n        attempts++;\n        if (attempts > 100) {\n          clearInterval(timer);\n          console.log(\"Bokeh: ERROR: Unable to run BokehJS code because BokehJS library is missing\");\n        }\n      }\n    }, 10, root)\n  }\n})(window);",
      "application/vnd.bokehjs_exec.v0+json": ""
     },
     "metadata": {
      "application/vnd.bokehjs_exec.v0+json": {
       "id": "p1042"
      }
     },
     "output_type": "display_data"
    }
   ],
   "source": [
    "from bokeh.models import ColumnDataSource, LabelSet\n",
    "from bokeh.plotting import figure, show, output_file\n",
    "from bokeh.io import output_notebook\n",
    "output_notebook()\n",
    "\n",
    "p = figure(tools=\"pan, wheel_zoom, save\",\n",
    "           toolbar_location=\"above\",\n",
    "           title=\"Word2vec T-SNE for top-350 words\")\n",
    "\n",
    "source = ColumnDataSource(data=dict(x1=top_words_tsne[:,0],\n",
    "                                    x2=top_words_tsne[:,1],\n",
    "                                    names=top_words))\n",
    "\n",
    "p.scatter(x=\"x1\", y=\"x2\", size=8, source=source)\n",
    "\n",
    "labels = LabelSet(x=\"x1\", y=\"x2\", text=\"names\", y_offset=6,\n",
    "                  text_font_size=\"10pt\", text_color=\"#555555\",\n",
    "                  source=source, text_align='center')\n",
    "p.add_layout(labels)\n",
    "\n",
    "show(p)"
   ]
  },
  {
   "attachments": {},
   "cell_type": "markdown",
   "metadata": {},
   "source": [
    "Если приблизить можно заметить, что действительно, слова близкие по смыслу или слова-ассоциации имеют сонаправленные и близкие друг к другу вектора."
   ]
  },
  {
   "attachments": {
    "examples.png": {
     "image/png": "[encoded data removed]"
    }
   },
   "cell_type": "markdown",
   "metadata": {},
   "source": [
    "![examples.png](attachment:examples.png)"
   ]
  },
  {
   "attachments": {},
   "cell_type": "markdown",
   "metadata": {},
   "source": [
    "### Продолжим обучение"
   ]
  },
  {
   "cell_type": "code",
   "execution_count": 16,
   "metadata": {},
   "outputs": [],
   "source": [
    "X_train = np.array(df_train.text_lemmatized.tolist())\n",
    "X_test = np.array(df_test.text_lemmatized.tolist())"
   ]
  },
  {
   "cell_type": "code",
   "execution_count": 17,
   "metadata": {},
   "outputs": [],
   "source": [
    "y_train = np.array(df_train.label.tolist())\n",
    "y_test = np.array(df_test.label.tolist()) "
   ]
  },
  {
   "cell_type": "code",
   "execution_count": 86,
   "metadata": {},
   "outputs": [
    {
     "name": "stdout",
     "output_type": "stream",
     "text": [
      "total train examples 928801\n",
      "total test examples 398058\n"
     ]
    }
   ],
   "source": [
    "print (\"total train examples %s\" % len(y_train))\n",
    "print (\"total test examples %s\" % len(y_test))"
   ]
  },
  {
   "cell_type": "code",
   "execution_count": 87,
   "metadata": {},
   "outputs": [],
   "source": [
    "class MeanEmbeddingVectorizer(object):\n",
    "    def __init__(self, word2vec):\n",
    "        self.word2vec = word2vec\n",
    "        # if a text is empty we should return a vector of zeros\n",
    "        # with the same dimensionality as all the other vectors\n",
    "        self.dim = len(w2v.popitem()[1])\n",
    "\n",
    "    def fit(self, X, y):\n",
    "        return self\n",
    "\n",
    "    def transform(self, X):\n",
    "        return np.array([\n",
    "            np.mean([self.word2vec[w] for w in words if w in self.word2vec]\n",
    "                    or [np.zeros(self.dim)], axis=0)\n",
    "            for words in X\n",
    "        ])"
   ]
  },
  {
   "cell_type": "code",
   "execution_count": 91,
   "metadata": {},
   "outputs": [
    {
     "data": {
      "text/plain": [
       "array([[ 3.9090928e-01,  2.4813333e-01,  3.9276510e-01, ...,\n",
       "        -9.2618853e-02,  7.8304015e-02, -1.0559639e+00],\n",
       "       [-4.2082135e-02,  1.8487057e-02,  3.4880844e-01, ...,\n",
       "        -1.4307015e+00,  6.9812536e-02, -1.5601067e-01],\n",
       "       [ 5.3676295e-01, -1.0426282e+00, -4.6362382e-01, ...,\n",
       "         4.9864075e-01, -4.4514835e-01, -2.5275597e-01],\n",
       "       ...,\n",
       "       [-1.4923269e-02,  4.6765149e-02, -2.4263892e-02, ...,\n",
       "        -5.0263967e-02,  1.0240516e-02,  9.8435134e-03],\n",
       "       [-2.0620633e-02,  5.0165832e-02, -3.3303627e-03, ...,\n",
       "         4.8925672e-03,  3.4401242e-02,  4.0564656e-02],\n",
       "       [-4.1465875e-02,  4.8790999e-02,  9.2280908e-03, ...,\n",
       "        -5.6926731e-04,  6.3919790e-02,  4.3860771e-02]], dtype=float32)"
      ]
     },
     "execution_count": 91,
     "metadata": {},
     "output_type": "execute_result"
    }
   ],
   "source": [
    "model.wv.vectors"
   ]
  },
  {
   "cell_type": "code",
   "execution_count": 92,
   "metadata": {},
   "outputs": [],
   "source": [
    "w2v = dict(zip(model.wv.index_to_key, model.wv.vectors))"
   ]
  },
  {
   "cell_type": "code",
   "execution_count": 93,
   "metadata": {},
   "outputs": [],
   "source": [
    "rfc_w2v = Pipeline([\n",
    "    (\"word2vec vectorizer\", MeanEmbeddingVectorizer(w2v)),\n",
    "    (\"vectors\", SVC(C=1.0, kernel='sigmoid', gamma=1))])"
   ]
  },
  {
   "cell_type": "code",
   "execution_count": 94,
   "metadata": {},
   "outputs": [
    {
     "ename": "",
     "evalue": "",
     "output_type": "error",
     "traceback": [
      "\u001b[1;31mCanceled future for execute_request message before replies were done"
     ]
    },
    {
     "ename": "",
     "evalue": "",
     "output_type": "error",
     "traceback": [
      "\u001b[1;31mПри выполнении кода в текущей ячейке или предыдущей ячейке ядро аварийно завершило работу. Проверьте код в ячейках, чтобы определить возможную причину сбоя. Щелкните <a href=\"https://aka.ms/vscodeJupyterKernelCrash\">здесь</a> для получения дополнительных сведений. Подробнее см. в <a href='command:jupyter.viewOutput'>журнале Jupyter</a>."
     ]
    }
   ],
   "source": [
    "# На всей выборке обучиться не получается, ядро крашится\n",
    "rfc_w2v.fit(X_train,y_train)"
   ]
  },
  {
   "cell_type": "code",
   "execution_count": 10,
   "metadata": {},
   "outputs": [],
   "source": [
    "# Возьмем подвыборку\n",
    "X_train = np.array(df_train.text_lemmatized.tolist()[:15000])\n",
    "X_test = np.array(df_test.text_lemmatized.tolist()[:6500])\n",
    "y_train = np.array(df_train.label.tolist()[:15000])\n",
    "y_test = np.array(df_test.label.tolist()[:6500]) "
   ]
  },
  {
   "attachments": {},
   "cell_type": "markdown",
   "metadata": {},
   "source": [
    "Попробуем создавать вектор текста не просто усреднением векторов слов, а усреднением взвешенных векторов с помощью TF-IDF."
   ]
  },
  {
   "cell_type": "code",
   "execution_count": 11,
   "metadata": {},
   "outputs": [],
   "source": [
    "class TfidfEmbeddingVectorizer(object):\n",
    "    def __init__(self, word2vec):\n",
    "        self.word2vec = word2vec\n",
    "        self.word2weight = None\n",
    "        self.dim = len(w2v.popitem()[1])\n",
    "\n",
    "    def fit(self, X, y):\n",
    "        tfidf = TfidfVectorizer(analyzer=lambda x: x)\n",
    "        tfidf.fit(X)\n",
    "        max_idf = max(tfidf.idf_)\n",
    "        self.word2weight = defaultdict(\n",
    "            lambda: max_idf,\n",
    "            [(w, tfidf.idf_[i]) for w, i in tfidf.vocabulary_.items()])\n",
    "\n",
    "        return self\n",
    "\n",
    "    def transform(self, X):\n",
    "        return np.array([\n",
    "                np.mean([self.word2vec[w] * self.word2weight[w]\n",
    "                         for w in words if w in self.word2vec] or\n",
    "                        [np.zeros(self.dim)], axis=0)\n",
    "                for words in X\n",
    "            ])"
   ]
  },
  {
   "cell_type": "code",
   "execution_count": 12,
   "metadata": {},
   "outputs": [],
   "source": [
    "w2v = dict(zip(model.wv.index_to_key, model.wv.vectors))"
   ]
  },
  {
   "cell_type": "code",
   "execution_count": 13,
   "metadata": {},
   "outputs": [],
   "source": [
    "w2v_tfifd = Pipeline([\n",
    "    (\"word2vec tf-idf\", TfidfEmbeddingVectorizer(w2v)),\n",
    "    (\"svc\", SVC(C=1.0, kernel='linear', gamma=1, probability = True))])"
   ]
  },
  {
   "cell_type": "code",
   "execution_count": 14,
   "metadata": {},
   "outputs": [],
   "source": [
    "w2v_tfifd.fit(X_train,y_train)"
   ]
  },
  {
   "cell_type": "code",
   "execution_count": null,
   "metadata": {},
   "outputs": [],
   "source": [
    "train_pred = w2v_tfifd.predict(X_train)"
   ]
  },
  {
   "cell_type": "code",
   "execution_count": null,
   "metadata": {},
   "outputs": [],
   "source": [
    "probs = w2v_tfifd.predict_proba(X_train)"
   ]
  },
  {
   "cell_type": "code",
   "execution_count": null,
   "metadata": {},
   "outputs": [],
   "source": [
    "test_pred = w2v_tfifd.predict(X_test)"
   ]
  },
  {
   "cell_type": "code",
   "execution_count": null,
   "metadata": {},
   "outputs": [
    {
     "data": {
      "text/plain": [
       "0.4165"
      ]
     },
     "metadata": {},
     "output_type": "display_data"
    }
   ],
   "source": [
    "f1_score(y_train, train_pred, average='micro')"
   ]
  },
  {
   "cell_type": "code",
   "execution_count": null,
   "metadata": {},
   "outputs": [
    {
     "name": "stdout",
     "output_type": "stream",
     "text": [
      "Precision:   0.42\n",
      "Recall:   0.42\n",
      "F1-measure:   0.42\n",
      "Accuracy:   0.42\n",
      "              precision    recall  f1-score   support\n",
      "\n",
      "           0       0.10      0.12      0.11      1074\n",
      "           1       0.40      0.35      0.37      4913\n",
      "           2       0.49      0.53      0.51      6013\n",
      "\n",
      "    accuracy                           0.42     12000\n",
      "   macro avg       0.33      0.33      0.33     12000\n",
      "weighted avg       0.42      0.42      0.42     12000\n",
      "\n"
     ]
    },
    {
     "data": {
      "text/plain": [
       "<function sklearn.metrics._classification.classification_report(y_true, y_pred, *, labels=None, target_names=None, sample_weight=None, digits=2, output_dict=False, zero_division='warn')>"
      ]
     },
     "metadata": {},
     "output_type": "display_data"
    }
   ],
   "source": [
    "print(\"Precision: {0:6.2f}\".format(precision_score(y_test, test_pred, average='micro')))\n",
    "print(\"Recall: {0:6.2f}\".format(recall_score(y_test, test_pred, average='micro')))\n",
    "print(\"F1-measure: {0:6.2f}\".format(f1_score(y_test, test_pred, average='micro')))\n",
    "\n",
    "print(classification_report(y_test, test_pred))"
   ]
  },
  {
   "cell_type": "code",
   "execution_count": null,
   "metadata": {},
   "outputs": [],
   "source": [
    "print(f\"ROC-AUC score (test): {roc_auc_score(y_test, svm2.predict_proba(Xpca_test), multi_class='ovr')}\")"
   ]
  },
  {
   "cell_type": "code",
   "execution_count": null,
   "metadata": {},
   "outputs": [],
   "source": [
    "# train\n",
    "roc_auc_score(y_train2, svm2.predict_proba(Xpca), multi_class='ovr')"
   ]
  }
 ],
 "metadata": {
  "kernelspec": {
   "display_name": "Python 3",
   "language": "python",
   "name": "python3"
  },
  "language_info": {
   "codemirror_mode": {
    "name": "ipython",
    "version": 3
   },
   "file_extension": ".py",
   "mimetype": "text/x-python",
   "name": "python",
   "nbconvert_exporter": "python",
   "pygments_lexer": "ipython3",
   "version": "3.11.0 (main, Oct 24 2022, 18:26:48) [MSC v.1933 64 bit (AMD64)]"
  },
  "orig_nbformat": 4,
  "vscode": {
   "interpreter": {
    "hash": "46b4f50b4d396627fdea1e3d8a1084ec3f368e2044f602bf80a6f052816e5ee7"
   }
  }
 },
 "nbformat": 4,
 "nbformat_minor": 2
}
